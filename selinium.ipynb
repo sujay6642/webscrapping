{
 "cells": [
  {
   "cell_type": "markdown",
   "id": "ae8ce298",
   "metadata": {},
   "source": [
    "!pip install selenium"
   ]
  },
  {
   "cell_type": "code",
   "execution_count": 45,
   "id": "5c476de7",
   "metadata": {},
   "outputs": [],
   "source": [
    "import selenium\n",
    "import pandas as pd \n",
    "from selenium import webdriver"
   ]
  },
  {
   "cell_type": "code",
   "execution_count": 46,
   "id": "7067e329",
   "metadata": {},
   "outputs": [
    {
     "name": "stderr",
     "output_type": "stream",
     "text": [
      "<ipython-input-46-e87eaf9bc581>:1: DeprecationWarning: executable_path has been deprecated, please pass in a Service object\n",
      "  driver= webdriver.Chrome(r\"C:\\Users\\Dell\\Downloads\\chromedriver_win32/chromedriver.exe\")\n"
     ]
    }
   ],
   "source": [
    "driver= webdriver.Chrome(r\"C:\\Users\\Dell\\Downloads\\chromedriver_win32/chromedriver.exe\")"
   ]
  },
  {
   "cell_type": "code",
   "execution_count": 47,
   "id": "138c608b",
   "metadata": {},
   "outputs": [],
   "source": [
    "driver.get(\"https://www.naukri.com/\")"
   ]
  },
  {
   "cell_type": "code",
   "execution_count": 48,
   "id": "dcf57608",
   "metadata": {},
   "outputs": [],
   "source": [
    "url=\"https://www.naukri.com/data-analyst-jobs-in-banglore?k=data%20analyst&l=banglore\""
   ]
  },
  {
   "cell_type": "code",
   "execution_count": 49,
   "id": "3d3e6bcb",
   "metadata": {},
   "outputs": [],
   "source": [
    "driver.get(url)"
   ]
  },
  {
   "cell_type": "code",
   "execution_count": 50,
   "id": "322e3acc",
   "metadata": {},
   "outputs": [],
   "source": [
    "job_title=[]\n",
    "job_location=[]\n",
    "company_name=[]\n",
    "experience_required=[]\n"
   ]
  },
  {
   "cell_type": "code",
   "execution_count": 58,
   "id": "6590b4f1",
   "metadata": {},
   "outputs": [
    {
     "name": "stderr",
     "output_type": "stream",
     "text": [
      "<ipython-input-58-c941a92ad054>:1: DeprecationWarning: find_elements_by_* commands are deprecated. Please use find_elements() instead\n",
      "  title=driver.find_elements_by_xpath(\"//a[@class='title fw500 ellipsis']\")\n"
     ]
    },
    {
     "data": {
      "text/plain": [
       "['Senior Business Data Analyst',\n",
       " 'Data Analyst - Flipkart Analytics',\n",
       " 'Business Data Analyst - Database Design/Mining',\n",
       " 'Urgent Openings For Data Analyst / Business Analyst',\n",
       " 'Data Analyst',\n",
       " 'Business Data Analyst(BigId) - Capco - Bangalore',\n",
       " 'Senior Data Analyst',\n",
       " 'DATA ANALYST',\n",
       " 'Data Analyst',\n",
       " 'Data Analyst - Marketing']"
      ]
     },
     "execution_count": 58,
     "metadata": {},
     "output_type": "execute_result"
    }
   ],
   "source": [
    "title=driver.find_elements_by_xpath(\"//a[@class='title fw500 ellipsis']\")\n",
    "job_title=[]\n",
    "for i in title[0:10]:\n",
    "    job_title.append(i.text)\n",
    "    \n",
    "    \n",
    "    \n",
    "job_title\n",
    "    \n",
    "    \n"
   ]
  },
  {
   "cell_type": "code",
   "execution_count": 59,
   "id": "09fb4591",
   "metadata": {},
   "outputs": [
    {
     "name": "stderr",
     "output_type": "stream",
     "text": [
      "<ipython-input-59-9971d622f8b8>:1: DeprecationWarning: find_elements_by_* commands are deprecated. Please use find_elements() instead\n",
      "  location = driver.find_elements_by_xpath(\"//li[@class='fleft grey-text br2 placeHolderLi location']\")\n"
     ]
    },
    {
     "data": {
      "text/plain": [
       "['Bangalore',\n",
       " 'Bangalore',\n",
       " 'Bangalore',\n",
       " 'Bangalore',\n",
       " 'Bangalore',\n",
       " 'Bangalore',\n",
       " 'Bangalore',\n",
       " 'Bangalore',\n",
       " 'Kochi',\n",
       " 'Bangalore']"
      ]
     },
     "execution_count": 59,
     "metadata": {},
     "output_type": "execute_result"
    }
   ],
   "source": [
    "location = driver.find_elements_by_xpath(\"//li[@class='fleft grey-text br2 placeHolderLi location']\")\n",
    "\n",
    "job_location=[]\n",
    "\n",
    "for i in location[0:10]:\n",
    "    job_location.append(i.text.split(\"/\")[0])\n",
    "\n",
    "job_location\n"
   ]
  },
  {
   "cell_type": "code",
   "execution_count": 54,
   "id": "a4e2ebb6",
   "metadata": {},
   "outputs": [
    {
     "name": "stderr",
     "output_type": "stream",
     "text": [
      "<ipython-input-54-2e867bacfdd0>:1: DeprecationWarning: find_elements_by_* commands are deprecated. Please use find_elements() instead\n",
      "  company=driver.find_elements_by_xpath(\"//div[@class='mt-7 companyInfo subheading lh16']\")\n"
     ]
    },
    {
     "data": {
      "text/plain": [
       "['Tech Data Advanced Solutions India Pvt Ltd',\n",
       " 'Flipkart',\n",
       " 'AugmatrixGo',\n",
       " 'Flipkart',\n",
       " 'Rupeek Fintech Pvt Ltd',\n",
       " 'Capco Technologies Pvt Ltd',\n",
       " 'ShieldSquare _x001A_',\n",
       " 'McAfee',\n",
       " 'CINDREBAY SCHOOL OF FASHION & INTERIOR DESIGN',\n",
       " 'Capco Technologies Pvt Ltd']"
      ]
     },
     "execution_count": 54,
     "metadata": {},
     "output_type": "execute_result"
    }
   ],
   "source": [
    "company=driver.find_elements_by_xpath(\"//div[@class='mt-7 companyInfo subheading lh16']\")\n",
    "company_name=[]\n",
    "for i in company[0:10]:\n",
    "    company_name.append(i.text.split(\"\\n\")[0])\n",
    "    \n",
    "    \n",
    "company_name"
   ]
  },
  {
   "cell_type": "code",
   "execution_count": 55,
   "id": "0121f5ea",
   "metadata": {},
   "outputs": [
    {
     "name": "stderr",
     "output_type": "stream",
     "text": [
      "<ipython-input-55-225b53137b55>:1: DeprecationWarning: find_elements_by_* commands are deprecated. Please use find_elements() instead\n",
      "  experience=driver.find_elements_by_xpath(\"//span[@class='ellipsis fleft fs12 lh16']\")\n"
     ]
    },
    {
     "data": {
      "text/plain": [
       "[]"
      ]
     },
     "execution_count": 55,
     "metadata": {},
     "output_type": "execute_result"
    }
   ],
   "source": [
    "experience=driver.find_elements_by_xpath(\"//span[@class='ellipsis fleft fs12 lh16']\")\n",
    "experience_required=[]\n",
    "for i in experience[0:10]:\n",
    "    experience_required.append(i.text)\n",
    "    \n",
    "    \n",
    "experience_required"
   ]
  },
  {
   "cell_type": "code",
   "execution_count": 66,
   "id": "67251388",
   "metadata": {},
   "outputs": [
    {
     "data": {
      "text/plain": [
       "['4-7 Yrs',\n",
       " '2-5 Yrs',\n",
       " '5-10 Yrs',\n",
       " '6-10 Yrs',\n",
       " '5-10 Yrs',\n",
       " '5-9 Yrs',\n",
       " '2-5 Yrs',\n",
       " '0-2 Yrs',\n",
       " '1-6 Yrs',\n",
       " '3-7 Yrs']"
      ]
     },
     "execution_count": 66,
     "metadata": {},
     "output_type": "execute_result"
    }
   ],
   "source": [
    "experience_required=[]\n",
    "for i in experience[0:10]:\n",
    "    experience_required.append(i.text)\n",
    "    \n",
    "    \n",
    "experience_required"
   ]
  },
  {
   "cell_type": "code",
   "execution_count": 63,
   "id": "d440ff39",
   "metadata": {},
   "outputs": [
    {
     "name": "stdout",
     "output_type": "stream",
     "text": [
      "10 10 10\n"
     ]
    }
   ],
   "source": [
    "print(len(job_title),len(job_location),len(company_name))"
   ]
  },
  {
   "cell_type": "code",
   "execution_count": 64,
   "id": "f93f6a67",
   "metadata": {},
   "outputs": [
    {
     "data": {
      "text/html": [
       "<div>\n",
       "<style scoped>\n",
       "    .dataframe tbody tr th:only-of-type {\n",
       "        vertical-align: middle;\n",
       "    }\n",
       "\n",
       "    .dataframe tbody tr th {\n",
       "        vertical-align: top;\n",
       "    }\n",
       "\n",
       "    .dataframe thead th {\n",
       "        text-align: right;\n",
       "    }\n",
       "</style>\n",
       "<table border=\"1\" class=\"dataframe\">\n",
       "  <thead>\n",
       "    <tr style=\"text-align: right;\">\n",
       "      <th></th>\n",
       "      <th>title</th>\n",
       "      <th>location</th>\n",
       "      <th>company</th>\n",
       "    </tr>\n",
       "  </thead>\n",
       "  <tbody>\n",
       "    <tr>\n",
       "      <th>0</th>\n",
       "      <td>Senior Business Data Analyst</td>\n",
       "      <td>Bangalore</td>\n",
       "      <td>Tech Data Advanced Solutions India Pvt Ltd</td>\n",
       "    </tr>\n",
       "    <tr>\n",
       "      <th>1</th>\n",
       "      <td>Data Analyst - Flipkart Analytics</td>\n",
       "      <td>Bangalore</td>\n",
       "      <td>Flipkart</td>\n",
       "    </tr>\n",
       "    <tr>\n",
       "      <th>2</th>\n",
       "      <td>Business Data Analyst - Database Design/Mining</td>\n",
       "      <td>Bangalore</td>\n",
       "      <td>AugmatrixGo</td>\n",
       "    </tr>\n",
       "    <tr>\n",
       "      <th>3</th>\n",
       "      <td>Urgent Openings For Data Analyst / Business An...</td>\n",
       "      <td>Bangalore</td>\n",
       "      <td>Flipkart</td>\n",
       "    </tr>\n",
       "    <tr>\n",
       "      <th>4</th>\n",
       "      <td>Data Analyst</td>\n",
       "      <td>Bangalore</td>\n",
       "      <td>Rupeek Fintech Pvt Ltd</td>\n",
       "    </tr>\n",
       "    <tr>\n",
       "      <th>5</th>\n",
       "      <td>Business Data Analyst(BigId) - Capco - Bangalore</td>\n",
       "      <td>Bangalore</td>\n",
       "      <td>Capco Technologies Pvt Ltd</td>\n",
       "    </tr>\n",
       "    <tr>\n",
       "      <th>6</th>\n",
       "      <td>Senior Data Analyst</td>\n",
       "      <td>Bangalore</td>\n",
       "      <td>ShieldSquare _x001A_</td>\n",
       "    </tr>\n",
       "    <tr>\n",
       "      <th>7</th>\n",
       "      <td>DATA ANALYST</td>\n",
       "      <td>Bangalore</td>\n",
       "      <td>McAfee</td>\n",
       "    </tr>\n",
       "    <tr>\n",
       "      <th>8</th>\n",
       "      <td>Data Analyst</td>\n",
       "      <td>Kochi</td>\n",
       "      <td>CINDREBAY SCHOOL OF FASHION &amp; INTERIOR DESIGN</td>\n",
       "    </tr>\n",
       "    <tr>\n",
       "      <th>9</th>\n",
       "      <td>Data Analyst - Marketing</td>\n",
       "      <td>Bangalore</td>\n",
       "      <td>Capco Technologies Pvt Ltd</td>\n",
       "    </tr>\n",
       "  </tbody>\n",
       "</table>\n",
       "</div>"
      ],
      "text/plain": [
       "                                               title   location  \\\n",
       "0                       Senior Business Data Analyst  Bangalore   \n",
       "1                  Data Analyst - Flipkart Analytics  Bangalore   \n",
       "2     Business Data Analyst - Database Design/Mining  Bangalore   \n",
       "3  Urgent Openings For Data Analyst / Business An...  Bangalore   \n",
       "4                                       Data Analyst  Bangalore   \n",
       "5   Business Data Analyst(BigId) - Capco - Bangalore  Bangalore   \n",
       "6                                Senior Data Analyst  Bangalore   \n",
       "7                                       DATA ANALYST  Bangalore   \n",
       "8                                       Data Analyst      Kochi   \n",
       "9                           Data Analyst - Marketing  Bangalore   \n",
       "\n",
       "                                         company  \n",
       "0     Tech Data Advanced Solutions India Pvt Ltd  \n",
       "1                                       Flipkart  \n",
       "2                                    AugmatrixGo  \n",
       "3                                       Flipkart  \n",
       "4                         Rupeek Fintech Pvt Ltd  \n",
       "5                     Capco Technologies Pvt Ltd  \n",
       "6                           ShieldSquare _x001A_  \n",
       "7                                         McAfee  \n",
       "8  CINDREBAY SCHOOL OF FASHION & INTERIOR DESIGN  \n",
       "9                     Capco Technologies Pvt Ltd  "
      ]
     },
     "execution_count": 64,
     "metadata": {},
     "output_type": "execute_result"
    }
   ],
   "source": [
    "import pandas as pd\n",
    "jobs=pd.DataFrame({})\n",
    "jobs['title']=job_title[0:10]\n",
    "jobs['location']=job_location[0:10]\n",
    "jobs['company']=company_name[0:10] \n",
    "jobs"
   ]
  },
  {
   "cell_type": "markdown",
   "id": "bb6b7f6a",
   "metadata": {},
   "source": [
    "# 2question programme for data scientist"
   ]
  },
  {
   "cell_type": "code",
   "execution_count": 81,
   "id": "79f80de1",
   "metadata": {},
   "outputs": [],
   "source": [
    "import selenium\n",
    "import pandas as pd \n",
    "from selenium import webdriver"
   ]
  },
  {
   "cell_type": "code",
   "execution_count": 82,
   "id": "46c35ac1",
   "metadata": {},
   "outputs": [
    {
     "name": "stderr",
     "output_type": "stream",
     "text": [
      "<ipython-input-82-e87eaf9bc581>:1: DeprecationWarning: executable_path has been deprecated, please pass in a Service object\n",
      "  driver= webdriver.Chrome(r\"C:\\Users\\Dell\\Downloads\\chromedriver_win32/chromedriver.exe\")\n"
     ]
    }
   ],
   "source": [
    "driver= webdriver.Chrome(r\"C:\\Users\\Dell\\Downloads\\chromedriver_win32/chromedriver.exe\")"
   ]
  },
  {
   "cell_type": "code",
   "execution_count": 83,
   "id": "6ec2b077",
   "metadata": {},
   "outputs": [],
   "source": [
    "driver.get(\"https://www.naukri.com/\")"
   ]
  },
  {
   "cell_type": "code",
   "execution_count": 84,
   "id": "87177721",
   "metadata": {},
   "outputs": [],
   "source": [
    "url=\"https://www.naukri.com/data-scientist-jobs-in-banglore?k=data%20scientist&l=banglore\""
   ]
  },
  {
   "cell_type": "code",
   "execution_count": 85,
   "id": "8751139c",
   "metadata": {},
   "outputs": [],
   "source": [
    "driver.get(url)"
   ]
  },
  {
   "cell_type": "code",
   "execution_count": 86,
   "id": "eb304220",
   "metadata": {},
   "outputs": [],
   "source": [
    "job_title=[]\n",
    "job_location=[]\n",
    "company_name=[]\n"
   ]
  },
  {
   "cell_type": "code",
   "execution_count": 94,
   "id": "6debdfc0",
   "metadata": {},
   "outputs": [
    {
     "name": "stderr",
     "output_type": "stream",
     "text": [
      "<ipython-input-94-63ba2bfd76ff>:1: DeprecationWarning: find_elements_by_* commands are deprecated. Please use find_elements() instead\n",
      "  title=driver.find_elements_by_xpath(\"//a[@class='title fw500 ellipsis']\")\n"
     ]
    },
    {
     "data": {
      "text/plain": [
       "['Lead Data Scientist/Lead ML Scientist',\n",
       " 'Senior Data Scientist (15412)',\n",
       " 'Senior / Lead Data Scientist',\n",
       " 'Lead Data Scientist - Machine Learning/ Data Mining',\n",
       " 'Manager/Senior Manager Data Scientist (Health & Public Service )',\n",
       " 'Data Scientist',\n",
       " 'Data Scientist',\n",
       " 'Data Scientist- Predictive Modelling',\n",
       " 'Data Scientist',\n",
       " 'Job | Job opportunity with IDEXCEL - Sr. Data scientist !!']"
      ]
     },
     "execution_count": 94,
     "metadata": {},
     "output_type": "execute_result"
    }
   ],
   "source": [
    "title=driver.find_elements_by_xpath(\"//a[@class='title fw500 ellipsis']\")\n",
    "\n",
    "job_title=[]\n",
    "for i in title[0:10]:\n",
    "    job_title.append(i.text)\n",
    "    \n",
    "job_title\n"
   ]
  },
  {
   "cell_type": "code",
   "execution_count": 96,
   "id": "5ab6633c",
   "metadata": {},
   "outputs": [
    {
     "name": "stderr",
     "output_type": "stream",
     "text": [
      "<ipython-input-96-d77941ac855c>:1: DeprecationWarning: find_elements_by_* commands are deprecated. Please use find_elements() instead\n",
      "  location=driver.find_elements_by_xpath(\"//li[@class='fleft grey-text br2 placeHolderLi location']\")\n"
     ]
    },
    {
     "data": {
      "text/plain": [
       "['Bangalore',\n",
       " 'Bangalore',\n",
       " 'Bangalore',\n",
       " 'Bangalore',\n",
       " 'Gurgaon',\n",
       " 'Bangalore',\n",
       " 'Hyderabad',\n",
       " 'Noida, Gurgaon',\n",
       " 'Kochi',\n",
       " 'Bangalore']"
      ]
     },
     "execution_count": 96,
     "metadata": {},
     "output_type": "execute_result"
    }
   ],
   "source": [
    "location=driver.find_elements_by_xpath(\"//li[@class='fleft grey-text br2 placeHolderLi location']\")\n",
    "\n",
    "job_location=[]\n",
    "for i in location[0:10]:\n",
    "    job_location.append(i.text.split(\"/\")[0])\n",
    "    \n",
    "    \n",
    "job_location\n"
   ]
  },
  {
   "cell_type": "code",
   "execution_count": 97,
   "id": "38182666",
   "metadata": {},
   "outputs": [
    {
     "name": "stderr",
     "output_type": "stream",
     "text": [
      "<ipython-input-97-e5fa7168f7ba>:1: DeprecationWarning: find_elements_by_* commands are deprecated. Please use find_elements() instead\n",
      "  company=driver.find_elements_by_xpath(\"//a[@class='subTitle ellipsis fleft']\")\n"
     ]
    },
    {
     "data": {
      "text/plain": [
       "['ExecBoardinAsia',\n",
       " 'Easy Recruit',\n",
       " 'Bukuwarung',\n",
       " 'Wrackle Technologies Pvt Ltd',\n",
       " 'Mount Talent Consulting Private Limited',\n",
       " 'Vepsun Technologies Private Limited.',\n",
       " 'Big Data BizViz',\n",
       " 'Emmess technologies private Limited',\n",
       " 'Think i',\n",
       " 'Idexcel Technologies Private Limited']"
      ]
     },
     "execution_count": 97,
     "metadata": {},
     "output_type": "execute_result"
    }
   ],
   "source": [
    "company=driver.find_elements_by_xpath(\"//a[@class='subTitle ellipsis fleft']\")\n",
    "company_name=[]\n",
    "for i in company[0:10]:\n",
    "    company_name.append(i.text)\n",
    "    \n",
    "    \n",
    "company_name\n"
   ]
  },
  {
   "cell_type": "code",
   "execution_count": 100,
   "id": "001af2f6",
   "metadata": {},
   "outputs": [
    {
     "name": "stdout",
     "output_type": "stream",
     "text": [
      "10 10 10\n"
     ]
    }
   ],
   "source": [
    "print(len(job_title),len(job_location),len(company_name))"
   ]
  },
  {
   "cell_type": "code",
   "execution_count": 101,
   "id": "6f8da5e0",
   "metadata": {},
   "outputs": [
    {
     "data": {
      "text/html": [
       "<div>\n",
       "<style scoped>\n",
       "    .dataframe tbody tr th:only-of-type {\n",
       "        vertical-align: middle;\n",
       "    }\n",
       "\n",
       "    .dataframe tbody tr th {\n",
       "        vertical-align: top;\n",
       "    }\n",
       "\n",
       "    .dataframe thead th {\n",
       "        text-align: right;\n",
       "    }\n",
       "</style>\n",
       "<table border=\"1\" class=\"dataframe\">\n",
       "  <thead>\n",
       "    <tr style=\"text-align: right;\">\n",
       "      <th></th>\n",
       "      <th>title</th>\n",
       "      <th>location</th>\n",
       "      <th>company</th>\n",
       "    </tr>\n",
       "  </thead>\n",
       "  <tbody>\n",
       "    <tr>\n",
       "      <th>0</th>\n",
       "      <td>Lead Data Scientist/Lead ML Scientist</td>\n",
       "      <td>Bangalore</td>\n",
       "      <td>ExecBoardinAsia</td>\n",
       "    </tr>\n",
       "    <tr>\n",
       "      <th>1</th>\n",
       "      <td>Senior Data Scientist (15412)</td>\n",
       "      <td>Bangalore</td>\n",
       "      <td>Easy Recruit</td>\n",
       "    </tr>\n",
       "    <tr>\n",
       "      <th>2</th>\n",
       "      <td>Senior / Lead Data Scientist</td>\n",
       "      <td>Bangalore</td>\n",
       "      <td>Bukuwarung</td>\n",
       "    </tr>\n",
       "    <tr>\n",
       "      <th>3</th>\n",
       "      <td>Lead Data Scientist - Machine Learning/ Data M...</td>\n",
       "      <td>Bangalore</td>\n",
       "      <td>Wrackle Technologies Pvt Ltd</td>\n",
       "    </tr>\n",
       "    <tr>\n",
       "      <th>4</th>\n",
       "      <td>Manager/Senior Manager Data Scientist (Health ...</td>\n",
       "      <td>Gurgaon</td>\n",
       "      <td>Mount Talent Consulting Private Limited</td>\n",
       "    </tr>\n",
       "    <tr>\n",
       "      <th>5</th>\n",
       "      <td>Data Scientist</td>\n",
       "      <td>Bangalore</td>\n",
       "      <td>Vepsun Technologies Private Limited.</td>\n",
       "    </tr>\n",
       "    <tr>\n",
       "      <th>6</th>\n",
       "      <td>Data Scientist</td>\n",
       "      <td>Hyderabad</td>\n",
       "      <td>Big Data BizViz</td>\n",
       "    </tr>\n",
       "    <tr>\n",
       "      <th>7</th>\n",
       "      <td>Data Scientist- Predictive Modelling</td>\n",
       "      <td>Noida, Gurgaon</td>\n",
       "      <td>Emmess technologies private Limited</td>\n",
       "    </tr>\n",
       "    <tr>\n",
       "      <th>8</th>\n",
       "      <td>Data Scientist</td>\n",
       "      <td>Kochi</td>\n",
       "      <td>Think i</td>\n",
       "    </tr>\n",
       "    <tr>\n",
       "      <th>9</th>\n",
       "      <td>Job | Job opportunity with IDEXCEL - Sr. Data ...</td>\n",
       "      <td>Bangalore</td>\n",
       "      <td>Idexcel Technologies Private Limited</td>\n",
       "    </tr>\n",
       "  </tbody>\n",
       "</table>\n",
       "</div>"
      ],
      "text/plain": [
       "                                               title        location  \\\n",
       "0              Lead Data Scientist/Lead ML Scientist       Bangalore   \n",
       "1                      Senior Data Scientist (15412)       Bangalore   \n",
       "2                       Senior / Lead Data Scientist       Bangalore   \n",
       "3  Lead Data Scientist - Machine Learning/ Data M...       Bangalore   \n",
       "4  Manager/Senior Manager Data Scientist (Health ...         Gurgaon   \n",
       "5                                     Data Scientist       Bangalore   \n",
       "6                                     Data Scientist       Hyderabad   \n",
       "7               Data Scientist- Predictive Modelling  Noida, Gurgaon   \n",
       "8                                     Data Scientist           Kochi   \n",
       "9  Job | Job opportunity with IDEXCEL - Sr. Data ...       Bangalore   \n",
       "\n",
       "                                   company  \n",
       "0                          ExecBoardinAsia  \n",
       "1                             Easy Recruit  \n",
       "2                               Bukuwarung  \n",
       "3             Wrackle Technologies Pvt Ltd  \n",
       "4  Mount Talent Consulting Private Limited  \n",
       "5     Vepsun Technologies Private Limited.  \n",
       "6                          Big Data BizViz  \n",
       "7      Emmess technologies private Limited  \n",
       "8                                  Think i  \n",
       "9     Idexcel Technologies Private Limited  "
      ]
     },
     "execution_count": 101,
     "metadata": {},
     "output_type": "execute_result"
    }
   ],
   "source": [
    "import pandas as pd\n",
    "jobs=pd.DataFrame({})\n",
    "jobs['title']=job_title[0:10]\n",
    "jobs['location']=job_location[0:10]\n",
    "jobs['company']=company_name[0:10] \n",
    "jobs"
   ]
  },
  {
   "cell_type": "markdown",
   "id": "e730857e",
   "metadata": {},
   "source": [
    "# scrape data using the filters available on the webpage"
   ]
  },
  {
   "cell_type": "code",
   "execution_count": 102,
   "id": "40986e16",
   "metadata": {},
   "outputs": [],
   "source": [
    "import selenium\n",
    "import pandas as pd \n",
    "from selenium import webdriver"
   ]
  },
  {
   "cell_type": "code",
   "execution_count": 103,
   "id": "7bcce625",
   "metadata": {},
   "outputs": [
    {
     "name": "stderr",
     "output_type": "stream",
     "text": [
      "<ipython-input-103-e87eaf9bc581>:1: DeprecationWarning: executable_path has been deprecated, please pass in a Service object\n",
      "  driver= webdriver.Chrome(r\"C:\\Users\\Dell\\Downloads\\chromedriver_win32/chromedriver.exe\")\n"
     ]
    }
   ],
   "source": [
    "driver= webdriver.Chrome(r\"C:\\Users\\Dell\\Downloads\\chromedriver_win32/chromedriver.exe\")"
   ]
  },
  {
   "cell_type": "code",
   "execution_count": 104,
   "id": "0c4f16ca",
   "metadata": {},
   "outputs": [],
   "source": [
    "driver.get(\"https://www.naukri.com/\")"
   ]
  },
  {
   "cell_type": "code",
   "execution_count": 105,
   "id": "8c56a833",
   "metadata": {},
   "outputs": [],
   "source": [
    "job_title=[]\n",
    "job_location=[]\n",
    "company_name=[]\n",
    "experience_required=[]"
   ]
  },
  {
   "cell_type": "code",
   "execution_count": 108,
   "id": "52e2e876",
   "metadata": {},
   "outputs": [
    {
     "name": "stderr",
     "output_type": "stream",
     "text": [
      "<ipython-input-108-6f2c35412ed8>:1: DeprecationWarning: find_elements_by_* commands are deprecated. Please use find_elements() instead\n",
      "  title=driver.find_elements_by_xpath(\"//a[@class='title fw500 ellipsis']\")\n"
     ]
    },
    {
     "data": {
      "text/plain": [
       "['Data Scientist',\n",
       " 'Project Manager | Team Leader | Senior Data Scientist',\n",
       " 'Job Opportunity || Data Scientist || HCL Technologies',\n",
       " 'Immediate requirement For Data Scientist',\n",
       " 'Data Scientist',\n",
       " 'Data Scientist',\n",
       " 'Data Scientist Internship',\n",
       " 'Data Scientist',\n",
       " 'Senior Data Scientist',\n",
       " 'Academic Counsellor - Data Scientist']"
      ]
     },
     "execution_count": 108,
     "metadata": {},
     "output_type": "execute_result"
    }
   ],
   "source": [
    "title=driver.find_elements_by_xpath(\"//a[@class='title fw500 ellipsis']\")\n",
    "\n",
    "\n",
    "job_title=[]\n",
    "for i in title[0:10]:\n",
    "    job_title.append(i.text)\n",
    "    \n",
    "job_title\n",
    "\n"
   ]
  },
  {
   "cell_type": "code",
   "execution_count": 109,
   "id": "c91b2082",
   "metadata": {},
   "outputs": [
    {
     "name": "stderr",
     "output_type": "stream",
     "text": [
      "<ipython-input-109-d77941ac855c>:1: DeprecationWarning: find_elements_by_* commands are deprecated. Please use find_elements() instead\n",
      "  location=driver.find_elements_by_xpath(\"//li[@class='fleft grey-text br2 placeHolderLi location']\")\n"
     ]
    },
    {
     "data": {
      "text/plain": [
       "['Kochi',\n",
       " 'Remote',\n",
       " 'Delhi ',\n",
       " 'Mumbai, Hyderabad',\n",
       " 'Noida',\n",
       " 'Delhi ',\n",
       " 'New Delhi',\n",
       " 'Mumbai, Gurgaon',\n",
       " 'Delhi',\n",
       " 'Gurgaon']"
      ]
     },
     "execution_count": 109,
     "metadata": {},
     "output_type": "execute_result"
    }
   ],
   "source": [
    "location=driver.find_elements_by_xpath(\"//li[@class='fleft grey-text br2 placeHolderLi location']\")\n",
    "\n",
    "job_location=[]\n",
    "for i in location[0:10]:\n",
    "    job_location.append(i.text.split(\"/\")[0])\n",
    "    \n",
    "    \n",
    "job_location\n"
   ]
  },
  {
   "cell_type": "code",
   "execution_count": 110,
   "id": "a5481e06",
   "metadata": {},
   "outputs": [
    {
     "name": "stderr",
     "output_type": "stream",
     "text": [
      "<ipython-input-110-e5fa7168f7ba>:1: DeprecationWarning: find_elements_by_* commands are deprecated. Please use find_elements() instead\n",
      "  company=driver.find_elements_by_xpath(\"//a[@class='subTitle ellipsis fleft']\")\n"
     ]
    },
    {
     "data": {
      "text/plain": [
       "['Think i',\n",
       " 'Tidyquant (OPC) Private Limited',\n",
       " 'HCL Technologies',\n",
       " 'CALIBEHR BUSINESS SUPPORT SERVICES PRIVATE LIMITED',\n",
       " 'SVK Global Solutions Private Limited',\n",
       " 'Verisk Analytics India Private Limited',\n",
       " 'iHackers Inc',\n",
       " 'Fractal Analytics',\n",
       " 'iNICU',\n",
       " 'GreatLearning']"
      ]
     },
     "execution_count": 110,
     "metadata": {},
     "output_type": "execute_result"
    }
   ],
   "source": [
    "company=driver.find_elements_by_xpath(\"//a[@class='subTitle ellipsis fleft']\")\n",
    "company_name=[]\n",
    "for i in company[0:10]:\n",
    "    company_name.append(i.text)\n",
    "    \n",
    "    \n",
    "company_name\n"
   ]
  },
  {
   "cell_type": "code",
   "execution_count": 111,
   "id": "5ae5970e",
   "metadata": {},
   "outputs": [
    {
     "name": "stderr",
     "output_type": "stream",
     "text": [
      "<ipython-input-111-26ecb7db7d17>:1: DeprecationWarning: find_elements_by_* commands are deprecated. Please use find_elements() instead\n",
      "  experience= driver.find_elements_by_xpath(\"//li[@class='fleft grey-text br2 placeHolderLi experience']\")\n"
     ]
    },
    {
     "data": {
      "text/plain": [
       "['0-2 Yrs',\n",
       " '2-7 Yrs',\n",
       " '4-7 Yrs',\n",
       " '2-7 Yrs',\n",
       " '6-10 Yrs',\n",
       " '1-2 Yrs',\n",
       " '0-1 Yrs',\n",
       " '3-7 Yrs',\n",
       " '1-5 Yrs',\n",
       " '1-4 Yrs']"
      ]
     },
     "execution_count": 111,
     "metadata": {},
     "output_type": "execute_result"
    }
   ],
   "source": [
    "experience= driver.find_elements_by_xpath(\"//li[@class='fleft grey-text br2 placeHolderLi experience']\")\n",
    "experience_required=[]\n",
    "for i in experience[0:10]:\n",
    "    experience_required.append(i.text)\n",
    "    \n",
    "    \n",
    "experience_required"
   ]
  },
  {
   "cell_type": "code",
   "execution_count": 112,
   "id": "6ca31e9c",
   "metadata": {},
   "outputs": [
    {
     "name": "stdout",
     "output_type": "stream",
     "text": [
      "10 10 10 10\n"
     ]
    }
   ],
   "source": [
    "print(len(job_title),len(job_location),len(company_name),len(experience_required))"
   ]
  },
  {
   "cell_type": "code",
   "execution_count": 113,
   "id": "0339af0b",
   "metadata": {},
   "outputs": [
    {
     "data": {
      "text/html": [
       "<div>\n",
       "<style scoped>\n",
       "    .dataframe tbody tr th:only-of-type {\n",
       "        vertical-align: middle;\n",
       "    }\n",
       "\n",
       "    .dataframe tbody tr th {\n",
       "        vertical-align: top;\n",
       "    }\n",
       "\n",
       "    .dataframe thead th {\n",
       "        text-align: right;\n",
       "    }\n",
       "</style>\n",
       "<table border=\"1\" class=\"dataframe\">\n",
       "  <thead>\n",
       "    <tr style=\"text-align: right;\">\n",
       "      <th></th>\n",
       "      <th>title</th>\n",
       "      <th>location</th>\n",
       "      <th>company</th>\n",
       "      <th>experience</th>\n",
       "    </tr>\n",
       "  </thead>\n",
       "  <tbody>\n",
       "    <tr>\n",
       "      <th>0</th>\n",
       "      <td>Data Scientist</td>\n",
       "      <td>Kochi</td>\n",
       "      <td>Think i</td>\n",
       "      <td>0-2 Yrs</td>\n",
       "    </tr>\n",
       "    <tr>\n",
       "      <th>1</th>\n",
       "      <td>Project Manager | Team Leader | Senior Data Sc...</td>\n",
       "      <td>Remote</td>\n",
       "      <td>Tidyquant (OPC) Private Limited</td>\n",
       "      <td>2-7 Yrs</td>\n",
       "    </tr>\n",
       "    <tr>\n",
       "      <th>2</th>\n",
       "      <td>Job Opportunity || Data Scientist || HCL Techn...</td>\n",
       "      <td>Delhi</td>\n",
       "      <td>HCL Technologies</td>\n",
       "      <td>4-7 Yrs</td>\n",
       "    </tr>\n",
       "    <tr>\n",
       "      <th>3</th>\n",
       "      <td>Immediate requirement For Data Scientist</td>\n",
       "      <td>Mumbai, Hyderabad</td>\n",
       "      <td>CALIBEHR BUSINESS SUPPORT SERVICES PRIVATE LIM...</td>\n",
       "      <td>2-7 Yrs</td>\n",
       "    </tr>\n",
       "    <tr>\n",
       "      <th>4</th>\n",
       "      <td>Data Scientist</td>\n",
       "      <td>Noida</td>\n",
       "      <td>SVK Global Solutions Private Limited</td>\n",
       "      <td>6-10 Yrs</td>\n",
       "    </tr>\n",
       "    <tr>\n",
       "      <th>5</th>\n",
       "      <td>Data Scientist</td>\n",
       "      <td>Delhi</td>\n",
       "      <td>Verisk Analytics India Private Limited</td>\n",
       "      <td>1-2 Yrs</td>\n",
       "    </tr>\n",
       "    <tr>\n",
       "      <th>6</th>\n",
       "      <td>Data Scientist Internship</td>\n",
       "      <td>New Delhi</td>\n",
       "      <td>iHackers Inc</td>\n",
       "      <td>0-1 Yrs</td>\n",
       "    </tr>\n",
       "    <tr>\n",
       "      <th>7</th>\n",
       "      <td>Data Scientist</td>\n",
       "      <td>Mumbai, Gurgaon</td>\n",
       "      <td>Fractal Analytics</td>\n",
       "      <td>3-7 Yrs</td>\n",
       "    </tr>\n",
       "    <tr>\n",
       "      <th>8</th>\n",
       "      <td>Senior Data Scientist</td>\n",
       "      <td>Delhi</td>\n",
       "      <td>iNICU</td>\n",
       "      <td>1-5 Yrs</td>\n",
       "    </tr>\n",
       "    <tr>\n",
       "      <th>9</th>\n",
       "      <td>Academic Counsellor - Data Scientist</td>\n",
       "      <td>Gurgaon</td>\n",
       "      <td>GreatLearning</td>\n",
       "      <td>1-4 Yrs</td>\n",
       "    </tr>\n",
       "  </tbody>\n",
       "</table>\n",
       "</div>"
      ],
      "text/plain": [
       "                                               title           location  \\\n",
       "0                                     Data Scientist              Kochi   \n",
       "1  Project Manager | Team Leader | Senior Data Sc...             Remote   \n",
       "2  Job Opportunity || Data Scientist || HCL Techn...             Delhi    \n",
       "3           Immediate requirement For Data Scientist  Mumbai, Hyderabad   \n",
       "4                                     Data Scientist              Noida   \n",
       "5                                     Data Scientist             Delhi    \n",
       "6                          Data Scientist Internship          New Delhi   \n",
       "7                                     Data Scientist    Mumbai, Gurgaon   \n",
       "8                              Senior Data Scientist              Delhi   \n",
       "9               Academic Counsellor - Data Scientist            Gurgaon   \n",
       "\n",
       "                                             company experience  \n",
       "0                                            Think i    0-2 Yrs  \n",
       "1                    Tidyquant (OPC) Private Limited    2-7 Yrs  \n",
       "2                                   HCL Technologies    4-7 Yrs  \n",
       "3  CALIBEHR BUSINESS SUPPORT SERVICES PRIVATE LIM...    2-7 Yrs  \n",
       "4               SVK Global Solutions Private Limited   6-10 Yrs  \n",
       "5             Verisk Analytics India Private Limited    1-2 Yrs  \n",
       "6                                       iHackers Inc    0-1 Yrs  \n",
       "7                                  Fractal Analytics    3-7 Yrs  \n",
       "8                                              iNICU    1-5 Yrs  \n",
       "9                                      GreatLearning    1-4 Yrs  "
      ]
     },
     "execution_count": 113,
     "metadata": {},
     "output_type": "execute_result"
    }
   ],
   "source": [
    "import pandas as pd\n",
    "jobs=pd.DataFrame({})\n",
    "jobs['title']=job_title[0:10]\n",
    "jobs['location']=job_location[0:10]\n",
    "jobs['company']=company_name[0:10]\n",
    "jobs['experience']=experience_required[0:10]\n",
    "jobs"
   ]
  },
  {
   "cell_type": "markdown",
   "id": "fe3b58ca",
   "metadata": {},
   "source": [
    "# data of first 100 sunglasses listings on flipkart.com."
   ]
  },
  {
   "cell_type": "code",
   "execution_count": 50,
   "id": "c7d3593a",
   "metadata": {},
   "outputs": [],
   "source": [
    "import selenium\n",
    "import pandas as pd \n",
    "from selenium import webdriver"
   ]
  },
  {
   "cell_type": "code",
   "execution_count": 51,
   "id": "22d30dde",
   "metadata": {},
   "outputs": [
    {
     "name": "stderr",
     "output_type": "stream",
     "text": [
      "<ipython-input-51-e87eaf9bc581>:1: DeprecationWarning: executable_path has been deprecated, please pass in a Service object\n",
      "  driver= webdriver.Chrome(r\"C:\\Users\\Dell\\Downloads\\chromedriver_win32/chromedriver.exe\")\n"
     ]
    }
   ],
   "source": [
    "driver= webdriver.Chrome(r\"C:\\Users\\Dell\\Downloads\\chromedriver_win32/chromedriver.exe\")"
   ]
  },
  {
   "cell_type": "code",
   "execution_count": 57,
   "id": "e72a8617",
   "metadata": {},
   "outputs": [],
   "source": [
    "driver.get(\"https://www.flipkart.com/search?q=sunglasses&sid=26x&as=on&as-show=on&otracker=AS_QueryStore_OrganicAutoSuggest_2_3_na_na_na&otracker1=AS_QueryStore_OrganicAutoSuggest_2_3_na_na_na&as-pos=2&as-type=RECENT&suggestionId=sunglasses%7CSunglasses&requestId=2f2fb1b3-930a-4803-9b51-50b224638027&as-searchtext=sun\")"
   ]
  },
  {
   "cell_type": "code",
   "execution_count": 58,
   "id": "331a5600",
   "metadata": {},
   "outputs": [],
   "source": [
    "brand_name=[]\n",
    "product_description=[]\n",
    "product_price=[]\n",
    "percent_discount=[]\n"
   ]
  },
  {
   "cell_type": "code",
   "execution_count": 59,
   "id": "9501b398",
   "metadata": {},
   "outputs": [
    {
     "name": "stderr",
     "output_type": "stream",
     "text": [
      "<ipython-input-59-6ef59979d23f>:1: DeprecationWarning: find_elements_by_* commands are deprecated. Please use find_elements() instead\n",
      "  brand=company=driver.find_elements_by_xpath(\"//div[@class='_2WkVRV']\")\n"
     ]
    },
    {
     "data": {
      "text/plain": [
       "['VINCENT CHASE',\n",
       " 'PIRASO',\n",
       " 'Fastrack',\n",
       " 'PIRASO',\n",
       " 'PIRASO',\n",
       " 'kingsunglasses',\n",
       " 'SHAAH COLLECTIONS',\n",
       " 'VINCENT CHASE',\n",
       " 'PHENOMENAL',\n",
       " 'New Specs',\n",
       " 'ROZZETTA CRAFT',\n",
       " 'VINCENT CHASE',\n",
       " 'Silver Kartz',\n",
       " 'New Specs',\n",
       " 'GANSTA',\n",
       " 'VINCENT CHASE',\n",
       " 'kingsunglasses',\n",
       " 'hipe',\n",
       " 'SHAAH COLLECTIONS',\n",
       " 'ROYAL SON',\n",
       " 'HIPPON',\n",
       " 'Elligator',\n",
       " 'Rich Club',\n",
       " 'ROYAL SON',\n",
       " 'ROZZETTA CRAFT',\n",
       " 'Fastrack',\n",
       " 'PIRASO',\n",
       " 'VINCENT CHASE',\n",
       " 'Singco India',\n",
       " 'Elligator',\n",
       " 'agera',\n",
       " 'VINCENT CHASE',\n",
       " 'NuVew',\n",
       " 'Fastrack',\n",
       " 'hipe',\n",
       " 'PIRASO',\n",
       " 'kingsunglasses',\n",
       " 'PIRASO',\n",
       " 'Fastrack',\n",
       " 'PIRASO']"
      ]
     },
     "execution_count": 59,
     "metadata": {},
     "output_type": "execute_result"
    }
   ],
   "source": [
    "brand=company=driver.find_elements_by_xpath(\"//div[@class='_2WkVRV']\")\n",
    "brand_name=[]\n",
    "for i in brand[0:100]:\n",
    "    brand_name.append(i.text)\n",
    "    \n",
    "    \n",
    "brand_name\n",
    "\n"
   ]
  },
  {
   "cell_type": "code",
   "execution_count": 62,
   "id": "d1fb86a8",
   "metadata": {},
   "outputs": [
    {
     "name": "stderr",
     "output_type": "stream",
     "text": [
      "<ipython-input-62-d81fa5cf2882>:1: DeprecationWarning: find_elements_by_* commands are deprecated. Please use find_elements() instead\n",
      "  brand=company=driver.find_elements_by_xpath(\"//div[@class='_2WkVRV']\")\n"
     ]
    },
    {
     "data": {
      "text/plain": [
       "['kingsunglasses',\n",
       " 'SHAAH COLLECTIONS',\n",
       " 'SRPM',\n",
       " 'VINCENT CHASE',\n",
       " 'ROZZETTA CRAFT',\n",
       " 'GANSTA',\n",
       " 'Elligator',\n",
       " 'VINCENT CHASE',\n",
       " 'SUNBEE',\n",
       " 'ROYAL SON',\n",
       " 'kingsunglasses',\n",
       " 'ROYAL SON',\n",
       " 'SHAAH COLLECTIONS',\n",
       " 'GANSTA',\n",
       " 'Silver Kartz',\n",
       " 'ROYAL SON',\n",
       " 'PIRASO',\n",
       " 'hipe',\n",
       " 'PHENOMENAL',\n",
       " 'ROYAL SON',\n",
       " 'PHENOMENAL',\n",
       " 'Elligator',\n",
       " 'Lee Topper',\n",
       " 'ROYAL SON',\n",
       " 'Fastrack',\n",
       " 'kingsunglasses',\n",
       " 'povty',\n",
       " 'VILLAIN',\n",
       " 'PIRASO',\n",
       " 'GANSTA',\n",
       " 'New Specs',\n",
       " 'VINCENT CHASE',\n",
       " 'kingsunglasses',\n",
       " 'Elligator',\n",
       " 'elegante',\n",
       " 'PIRASO',\n",
       " 'ROZZETTA CRAFT',\n",
       " 'PHENOMENAL',\n",
       " 'Silver Kartz',\n",
       " 'VINCENT CHASE']"
      ]
     },
     "execution_count": 62,
     "metadata": {},
     "output_type": "execute_result"
    }
   ],
   "source": [
    "brand=company=driver.find_elements_by_xpath(\"//div[@class='_2WkVRV']\")\n",
    "brand_name=[]\n",
    "for i in brand[0:100]:\n",
    "    brand_name.append(i.text)\n",
    "    \n",
    "    \n",
    "brand_name\n"
   ]
  },
  {
   "cell_type": "code",
   "execution_count": 63,
   "id": "0c246afa",
   "metadata": {},
   "outputs": [
    {
     "name": "stderr",
     "output_type": "stream",
     "text": [
      "<ipython-input-63-d81fa5cf2882>:1: DeprecationWarning: find_elements_by_* commands are deprecated. Please use find_elements() instead\n",
      "  brand=company=driver.find_elements_by_xpath(\"//div[@class='_2WkVRV']\")\n"
     ]
    },
    {
     "data": {
      "text/plain": [
       "['Fastrack',\n",
       " 'GANSTA',\n",
       " 'NuVew',\n",
       " 'VINCENT CHASE',\n",
       " 'Lee Topper',\n",
       " 'PIRASO',\n",
       " 'SUNBEE',\n",
       " 'PIRASO',\n",
       " 'Fastrack',\n",
       " 'Elligator',\n",
       " 'PIRASO',\n",
       " 'hipe',\n",
       " 'hipe',\n",
       " 'DEIXELS',\n",
       " 'SUNBEE',\n",
       " 'ROYAL SON',\n",
       " 'ROYAL SON',\n",
       " 'kingsunglasses',\n",
       " 'Rich Club',\n",
       " 'ROYAL SON',\n",
       " 'Ray-Ban',\n",
       " 'PIRASO',\n",
       " 'elegante',\n",
       " 'VINCENT CHASE',\n",
       " 'ROYAL SON',\n",
       " 'hipe',\n",
       " 'Elligator',\n",
       " 'VINCENT CHASE',\n",
       " 'Rich Club',\n",
       " 'Singco India',\n",
       " 'ROYAL SON',\n",
       " 'ROYAL SON',\n",
       " 'PHENOMENAL',\n",
       " 'Ray-Ban',\n",
       " 'NuVew',\n",
       " 'PIRASO',\n",
       " 'Rich Club',\n",
       " 'kingsunglasses',\n",
       " 'kingsunglasses',\n",
       " 'ROYAL SON']"
      ]
     },
     "execution_count": 63,
     "metadata": {},
     "output_type": "execute_result"
    }
   ],
   "source": [
    "brand=company=driver.find_elements_by_xpath(\"//div[@class='_2WkVRV']\")\n",
    "brand_name=[]\n",
    "for i in brand[0:100]:\n",
    "    brand_name.append(i.text)\n",
    "    \n",
    "    \n",
    "brand_name\n"
   ]
  },
  {
   "cell_type": "code",
   "execution_count": 64,
   "id": "d6ba8759",
   "metadata": {},
   "outputs": [
    {
     "name": "stderr",
     "output_type": "stream",
     "text": [
      "<ipython-input-64-120f5c972cd0>:1: DeprecationWarning: find_elements_by_* commands are deprecated. Please use find_elements() instead\n",
      "  product= driver.find_elements_by_xpath(\"//a[@class='IRpwTa']\")\n"
     ]
    },
    {
     "data": {
      "text/plain": [
       "['UV Protection Aviator Sunglasses (53)',\n",
       " 'Polarized, UV Protection Wayfarer Sunglasses (57)',\n",
       " 'UV Protection Rectangular Sunglasses (Free Size)',\n",
       " 'UV Protection Aviator Sunglasses (54)',\n",
       " 'UV Protection Aviator Sunglasses (54)',\n",
       " 'UV Protection Round Sunglasses (54)',\n",
       " 'UV Protection, Polarized, Mirrored Rectangular Sunglass...',\n",
       " 'UV Protection Aviator Sunglasses (Free Size)',\n",
       " 'UV Protection Retro Square Sunglasses (Free Size)',\n",
       " 'UV Protection Rectangular Sunglasses (Free Size)',\n",
       " 'UV Protection Retro Square Sunglasses (Free Size)',\n",
       " 'by Lenskart Polarized, UV Protection Round Sunglasses (...',\n",
       " 'UV Protection Wayfarer Sunglasses (Free Size)',\n",
       " 'Mirrored, UV Protection, Riding Glasses, Others Round S...',\n",
       " 'UV Protection Aviator Sunglasses (57)',\n",
       " 'Polarized, UV Protection Aviator Sunglasses (58)',\n",
       " 'Mirrored, UV Protection Wayfarer Sunglasses (Free Size)',\n",
       " 'Mirrored, UV Protection, Gradient Round Sunglasses (55)',\n",
       " 'UV Protection Round Sunglasses (Free Size)',\n",
       " 'Polarized, UV Protection Round Sunglasses (52)',\n",
       " 'UV Protection Wayfarer Sunglasses (55)',\n",
       " 'UV Protection Round Sunglasses (55)',\n",
       " 'Polarized Round Sunglasses (48)',\n",
       " 'UV Protection Aviator Sunglasses (Free Size)',\n",
       " 'UV Protection, Gradient Rectangular Sunglasses (Free Si...',\n",
       " 'UV Protection Wayfarer Sunglasses (Free Size)',\n",
       " 'UV Protection Aviator Sunglasses (54)',\n",
       " 'UV Protection, Polarized Round Sunglasses (Free Size)',\n",
       " 'UV Protection Round Sunglasses (Free Size)',\n",
       " 'UV Protection Aviator Sunglasses (55)',\n",
       " 'Gradient Aviator Sunglasses (55)',\n",
       " 'UV Protection Wayfarer Sunglasses (32)',\n",
       " 'UV Protection, Night Vision, Riding Glasses Sports Sung...',\n",
       " 'UV Protection Wayfarer Sunglasses (Free Size)',\n",
       " 'UV Protection Sports Sunglasses (Free Size)',\n",
       " 'UV Protection Aviator Sunglasses (55)',\n",
       " 'Mirrored, UV Protection Wayfarer Sunglasses (Free Size)',\n",
       " 'UV Protection, Polarized Aviator Sunglasses (32)',\n",
       " 'UV Protection Wayfarer Sunglasses (55)',\n",
       " 'Polarized, UV Protection Round Sunglasses (52)']"
      ]
     },
     "execution_count": 64,
     "metadata": {},
     "output_type": "execute_result"
    }
   ],
   "source": [
    "product= driver.find_elements_by_xpath(\"//a[@class='IRpwTa']\")\n",
    "\n",
    "product_description=[]\n",
    "\n",
    "for i in product[0:100]:\n",
    "    product_description.append(i.text)\n",
    "    \n",
    "    \n",
    "product_description"
   ]
  },
  {
   "cell_type": "code",
   "execution_count": 21,
   "id": "d0452bc5",
   "metadata": {},
   "outputs": [
    {
     "name": "stderr",
     "output_type": "stream",
     "text": [
      "<ipython-input-21-120f5c972cd0>:1: DeprecationWarning: find_elements_by_* commands are deprecated. Please use find_elements() instead\n",
      "  product= driver.find_elements_by_xpath(\"//a[@class='IRpwTa']\")\n"
     ]
    },
    {
     "data": {
      "text/plain": [
       "['UV Protection, Riding Glasses, Mirrored Wayfarer Sungla...',\n",
       " 'Mirrored Aviator Sunglasses (55)',\n",
       " 'UV Protection, Gradient Rectangular Sunglasses (Free Si...',\n",
       " 'UV Protection, Riding Glasses Rectangular Sunglasses (F...',\n",
       " 'UV Protection Wayfarer Sunglasses (Free Size)',\n",
       " 'UV Protection Wayfarer Sunglasses (53)',\n",
       " 'UV Protection Aviator Sunglasses (Free Size)',\n",
       " 'UV Protection, Gradient Round Sunglasses (Free Size)',\n",
       " 'Mirrored, Gradient, Riding Glasses Round Sunglasses (55...',\n",
       " 'UV Protection Rectangular Sunglasses (Free Size)',\n",
       " 'Mirrored Round Sunglasses (Free Size)',\n",
       " 'UV Protection Wayfarer Sunglasses (Free Size)',\n",
       " 'UV Protection, Mirrored Retro Square Sunglasses (Free S...',\n",
       " 'UV Protection, Polarized Aviator Sunglasses (32)',\n",
       " 'UV Protection Aviator Sunglasses (58)',\n",
       " 'Polarized, UV Protection Wayfarer Sunglasses (53)',\n",
       " 'UV Protection, Mirrored, Night Vision, Riding Glasses S...',\n",
       " 'UV Protection, Mirrored Round Sunglasses (Free Size)',\n",
       " 'UV Protection Round Sunglasses (53)',\n",
       " 'Polarized, UV Protection Rectangular Sunglasses (59)',\n",
       " 'UV Protection Rectangular Sunglasses (Free Size)',\n",
       " 'Gradient, UV Protection Wayfarer Sunglasses (Free Size)',\n",
       " 'UV Protection, Mirrored Aviator Sunglasses (Free Size)',\n",
       " 'Polarized, UV Protection Aviator Sunglasses (58)',\n",
       " 'UV Protection Round Sunglasses (Free Size)',\n",
       " 'UV Protection, Night Vision, Riding Glasses Aviator Sun...',\n",
       " 'UV Protection, Riding Glasses Rectangular, Retro Square...',\n",
       " 'Gradient, UV Protection Cat-eye, Over-sized Sunglasses ...',\n",
       " 'UV Protection Round Sunglasses (Free Size)',\n",
       " 'UV Protection Wayfarer Sunglasses (32)',\n",
       " 'UV Protection, Gradient Round Sunglasses (Free Size)',\n",
       " 'UV Protection Wayfarer Sunglasses (Free Size)',\n",
       " 'UV Protection, Riding Glasses Wayfarer Sunglasses (53)',\n",
       " 'UV Protection, Mirrored Aviator Sunglasses (58)',\n",
       " 'Mirrored Round Sunglasses (53)',\n",
       " 'Polarized, UV Protection Round Sunglasses (52)',\n",
       " 'UV Protection Sports Sunglasses (Free Size)',\n",
       " 'UV Protection Rectangular Sunglasses (55)',\n",
       " 'Mirrored Aviator Sunglasses (55)',\n",
       " 'Polarized, UV Protection Aviator Sunglasses (58)']"
      ]
     },
     "execution_count": 21,
     "metadata": {},
     "output_type": "execute_result"
    }
   ],
   "source": [
    "product= driver.find_elements_by_xpath(\"//a[@class='IRpwTa']\")\n",
    "\n",
    "product_description=[]\n",
    "\n",
    "for i in product[0:100]:\n",
    "    product_description.append(i.text)\n",
    "    \n",
    "    \n",
    "product_description"
   ]
  },
  {
   "cell_type": "code",
   "execution_count": 65,
   "id": "e4246847",
   "metadata": {},
   "outputs": [
    {
     "name": "stderr",
     "output_type": "stream",
     "text": [
      "<ipython-input-65-120f5c972cd0>:1: DeprecationWarning: find_elements_by_* commands are deprecated. Please use find_elements() instead\n",
      "  product= driver.find_elements_by_xpath(\"//a[@class='IRpwTa']\")\n"
     ]
    },
    {
     "data": {
      "text/plain": [
       "['UV Protection Wayfarer Sunglasses (55)',\n",
       " 'UV Protection, Others Round, Aviator Sunglasses (54)',\n",
       " 'UV Protection Round Sunglasses (Free Size)',\n",
       " 'Polarized, UV Protection Aviator Sunglasses (58)',\n",
       " 'UV Protection, Gradient Retro Square Sunglasses (Free S...',\n",
       " 'UV Protection Wayfarer Sunglasses (53)',\n",
       " 'Mirrored, Gradient, Riding Glasses Round Sunglasses (55...',\n",
       " 'by Lenskart Polarized, UV Protection Wayfarer Sunglasse...',\n",
       " 'UV Protection, Polarized, Mirrored Wayfarer Sunglasses ...',\n",
       " 'Mirrored Round Sunglasses (53)',\n",
       " 'Mirrored Aviator Sunglasses (55)',\n",
       " 'UV Protection Retro Square Sunglasses (60)',\n",
       " 'UV Protection, Night Vision, Riding Glasses Aviator Sun...',\n",
       " 'UV Protection Round Sunglasses (Free Size)',\n",
       " 'UV Protection, Polarized, Mirrored Rectangular Sunglass...',\n",
       " 'UV Protection, Mirrored Retro Square Sunglasses (53)',\n",
       " 'UV Protection Aviator Sunglasses (54)',\n",
       " 'UV Protection Oval Sunglasses (56)',\n",
       " 'Others Wayfarer Sunglasses (Free Size)',\n",
       " 'UV Protection Wayfarer Sunglasses (53)',\n",
       " 'UV Protection, Mirrored Retro Square Sunglasses (53)',\n",
       " 'UV Protection, Riding Glasses Wayfarer Sunglasses (53)',\n",
       " 'Polarized, UV Protection Wayfarer Sunglasses (53)',\n",
       " 'UV Protection Wayfarer Sunglasses (Free Size)',\n",
       " 'Riding Glasses, Night Vision Wrap-around Sunglasses (Fr...',\n",
       " 'UV Protection Rectangular Sunglasses (60)',\n",
       " 'Polarized, UV Protection Round Sunglasses (52)',\n",
       " 'UV Protection Rectangular Sunglasses (55)',\n",
       " 'UV Protection Retro Square Sunglasses (Free Size)',\n",
       " 'Mirrored Round Sunglasses (Free Size)',\n",
       " 'UV Protection Rectangular, Over-sized Sunglasses (Free ...',\n",
       " 'UV Protection, Gradient Round Sunglasses (Free Size)',\n",
       " 'UV Protection, Mirrored Retro Square Sunglasses (Free S...',\n",
       " 'UV Protection, Mirrored Round Sunglasses (Free Size)',\n",
       " 'Polarized, UV Protection Aviator Sunglasses (58)',\n",
       " 'UV Protection Round Sunglasses (53)',\n",
       " 'UV Protection Aviator Sunglasses (88)',\n",
       " 'UV Protection Rectangular Sunglasses (Free Size)',\n",
       " 'UV Protection Wayfarer Sunglasses (51)']"
      ]
     },
     "execution_count": 65,
     "metadata": {},
     "output_type": "execute_result"
    }
   ],
   "source": [
    "product= driver.find_elements_by_xpath(\"//a[@class='IRpwTa']\")\n",
    "\n",
    "product_description=[]\n",
    "\n",
    "for i in product[0:100]:\n",
    "    product_description.append(i.text)\n",
    "    \n",
    "    \n",
    "product_description"
   ]
  },
  {
   "cell_type": "code",
   "execution_count": 22,
   "id": "0e25e533",
   "metadata": {},
   "outputs": [
    {
     "name": "stderr",
     "output_type": "stream",
     "text": [
      "<ipython-input-22-120f5c972cd0>:1: DeprecationWarning: find_elements_by_* commands are deprecated. Please use find_elements() instead\n",
      "  product= driver.find_elements_by_xpath(\"//a[@class='IRpwTa']\")\n"
     ]
    },
    {
     "data": {
      "text/plain": [
       "['UV Protection Aviator Sunglasses (Free Size)',\n",
       " 'Gradient, UV Protection Wayfarer Sunglasses (Free Size)',\n",
       " 'UV Protection, Mirrored Retro Square Sunglasses (53)',\n",
       " 'UV Protection Over-sized Sunglasses (65)',\n",
       " 'UV Protection, Night Vision, Riding Glasses, Gradient, ...',\n",
       " 'UV Protection Aviator Sunglasses (88)',\n",
       " 'UV Protection Rectangular Sunglasses (60)',\n",
       " 'Polarized, UV Protection Aviator Sunglasses (58)',\n",
       " 'UV Protection Cat-eye Sunglasses (20)',\n",
       " 'Polarized Aviator Sunglasses (Free Size)',\n",
       " 'UV Protection, Gradient, Riding Glasses Wayfarer Sungla...',\n",
       " 'Gradient Round Sunglasses (Free Size)',\n",
       " 'UV Protection, Others Round, Aviator Sunglasses (54)',\n",
       " 'UV Protection Aviator Sunglasses (55)',\n",
       " 'UV Protection Aviator Sunglasses (57)',\n",
       " 'UV Protection Rectangular Sunglasses (58)',\n",
       " 'UV Protection, Others Round Sunglasses (48)',\n",
       " 'UV Protection, Night Vision Wayfarer Sunglasses (Free S...',\n",
       " 'UV Protection Sports Sunglasses (63)',\n",
       " 'UV Protection, Gradient Round Sunglasses (Free Size)',\n",
       " 'UV Protection Aviator Sunglasses (Free Size)',\n",
       " 'UV Protection Wayfarer Sunglasses (54)',\n",
       " 'UV Protection Round Sunglasses (Free Size)',\n",
       " 'UV Protection Wayfarer Sunglasses (57)',\n",
       " 'UV Protection, Mirrored Round Sunglasses (54)',\n",
       " 'UV Protection Rectangular Sunglasses (55)',\n",
       " 'Toughened Glass Lens, UV Protection Aviator Sunglasses ...',\n",
       " 'Polarized, UV Protection Wayfarer Sunglasses (53)',\n",
       " 'Toughened Glass Lens, UV Protection Wayfarer, Rectangul...',\n",
       " 'Mirrored Aviator Sunglasses (55)',\n",
       " 'Mirrored, UV Protection Aviator Sunglasses (58)',\n",
       " 'Mirrored, UV Protection Round Sunglasses (Free Size)',\n",
       " 'UV Protection Round Sunglasses (54)',\n",
       " 'Riding Glasses, UV Protection, Others Aviator Sunglasse...',\n",
       " 'UV Protection Wayfarer Sunglasses (53)',\n",
       " 'UV Protection, Gradient Round Sunglasses (Free Size)',\n",
       " 'UV Protection, Gradient, Mirrored, Riding Glasses Aviat...',\n",
       " 'Riding Glasses, Night Vision Wrap-around Sunglasses (Fr...',\n",
       " 'UV Protection, Mirrored Retro Square Sunglasses (53)',\n",
       " 'UV Protection Aviator Sunglasses (Free Size)']"
      ]
     },
     "execution_count": 22,
     "metadata": {},
     "output_type": "execute_result"
    }
   ],
   "source": [
    "product= driver.find_elements_by_xpath(\"//a[@class='IRpwTa']\")\n",
    "\n",
    "product_description=[]\n",
    "\n",
    "for i in product[0:100]:\n",
    "    product_description.append(i.text)\n",
    "    \n",
    "    \n",
    "product_description"
   ]
  },
  {
   "cell_type": "code",
   "execution_count": 23,
   "id": "8464092c",
   "metadata": {},
   "outputs": [
    {
     "name": "stderr",
     "output_type": "stream",
     "text": [
      "<ipython-input-23-da19d0fb5ad2>:1: DeprecationWarning: find_elements_by_* commands are deprecated. Please use find_elements() instead\n",
      "  price= driver.find_elements_by_xpath(\"//div[@class='_30jeq3']\")\n"
     ]
    },
    {
     "data": {
      "text/plain": [
       "['₹639',\n",
       " '₹799',\n",
       " '₹539',\n",
       " '₹248',\n",
       " '₹200',\n",
       " '₹177',\n",
       " '₹259',\n",
       " '₹719',\n",
       " '₹187',\n",
       " '₹259',\n",
       " '₹189',\n",
       " '₹559',\n",
       " '₹329',\n",
       " '₹239',\n",
       " '₹189',\n",
       " '₹639',\n",
       " '₹269',\n",
       " '₹329',\n",
       " '₹296',\n",
       " '₹639',\n",
       " '₹187',\n",
       " '₹179',\n",
       " '₹474',\n",
       " '₹559',\n",
       " '₹223',\n",
       " '₹194',\n",
       " '₹259',\n",
       " '₹399',\n",
       " '₹489',\n",
       " '₹231',\n",
       " '₹203',\n",
       " '₹233',\n",
       " '₹336',\n",
       " '₹224',\n",
       " '₹183',\n",
       " '₹474',\n",
       " '₹199',\n",
       " '₹224',\n",
       " '₹969',\n",
       " '₹639']"
      ]
     },
     "execution_count": 23,
     "metadata": {},
     "output_type": "execute_result"
    }
   ],
   "source": [
    "price= driver.find_elements_by_xpath(\"//div[@class='_30jeq3']\")\n",
    " \n",
    "product_price=[]\n",
    "\n",
    "for i in price[0:100]:\n",
    "    product_price.append(i.text)\n",
    "    \n",
    "product_price"
   ]
  },
  {
   "cell_type": "code",
   "execution_count": 24,
   "id": "877ceab2",
   "metadata": {},
   "outputs": [
    {
     "name": "stderr",
     "output_type": "stream",
     "text": [
      "<ipython-input-24-da19d0fb5ad2>:1: DeprecationWarning: find_elements_by_* commands are deprecated. Please use find_elements() instead\n",
      "  price= driver.find_elements_by_xpath(\"//div[@class='_30jeq3']\")\n"
     ]
    },
    {
     "data": {
      "text/plain": [
       "['₹199',\n",
       " '₹319',\n",
       " '₹349',\n",
       " '₹379',\n",
       " '₹329',\n",
       " '₹207',\n",
       " '₹166',\n",
       " '₹336',\n",
       " '₹189',\n",
       " '₹639',\n",
       " '₹340',\n",
       " '₹559',\n",
       " '₹329',\n",
       " '₹164',\n",
       " '₹959',\n",
       " '₹559',\n",
       " '₹291',\n",
       " '₹249',\n",
       " '₹248',\n",
       " '₹799',\n",
       " '₹199',\n",
       " '₹589',\n",
       " '₹249',\n",
       " '₹559',\n",
       " '₹275',\n",
       " '₹248',\n",
       " '₹332',\n",
       " '₹559',\n",
       " '₹299',\n",
       " '₹187',\n",
       " '₹359',\n",
       " '₹559',\n",
       " '₹209',\n",
       " '₹185',\n",
       " '₹246',\n",
       " '₹639',\n",
       " '₹287',\n",
       " '₹169',\n",
       " '₹319',\n",
       " '₹999']"
      ]
     },
     "execution_count": 24,
     "metadata": {},
     "output_type": "execute_result"
    }
   ],
   "source": [
    "price= driver.find_elements_by_xpath(\"//div[@class='_30jeq3']\")\n",
    " \n",
    "product_price=[]\n",
    "\n",
    "for i in price[0:100]:\n",
    "    product_price.append(i.text)\n",
    "    \n",
    "product_price"
   ]
  },
  {
   "cell_type": "code",
   "execution_count": 25,
   "id": "70e184d3",
   "metadata": {},
   "outputs": [
    {
     "name": "stderr",
     "output_type": "stream",
     "text": [
      "<ipython-input-25-da19d0fb5ad2>:1: DeprecationWarning: find_elements_by_* commands are deprecated. Please use find_elements() instead\n",
      "  price= driver.find_elements_by_xpath(\"//div[@class='_30jeq3']\")\n"
     ]
    },
    {
     "data": {
      "text/plain": [
       "['₹559',\n",
       " '₹499',\n",
       " '₹319',\n",
       " '₹599',\n",
       " '₹189',\n",
       " '₹201',\n",
       " '₹186',\n",
       " '₹599',\n",
       " '₹1,099',\n",
       " '₹999',\n",
       " '₹227',\n",
       " '₹359',\n",
       " '₹189',\n",
       " '₹276',\n",
       " '₹287',\n",
       " '₹399',\n",
       " '₹260',\n",
       " '₹299',\n",
       " '₹679',\n",
       " '₹359',\n",
       " '₹261',\n",
       " '₹669',\n",
       " '₹299',\n",
       " '₹559',\n",
       " '₹219',\n",
       " '₹169',\n",
       " '₹640',\n",
       " '₹1,226',\n",
       " '₹840',\n",
       " '₹319',\n",
       " '₹3,354',\n",
       " '₹719',\n",
       " '₹279',\n",
       " '₹201',\n",
       " '₹299',\n",
       " '₹336',\n",
       " '₹209',\n",
       " '₹276',\n",
       " '₹329',\n",
       " '₹359']"
      ]
     },
     "execution_count": 25,
     "metadata": {},
     "output_type": "execute_result"
    }
   ],
   "source": [
    "price= driver.find_elements_by_xpath(\"//div[@class='_30jeq3']\")\n",
    " \n",
    "product_price=[]\n",
    "\n",
    "for i in price[0:100]:\n",
    "    product_price.append(i.text)\n",
    "    \n",
    "product_price"
   ]
  },
  {
   "cell_type": "code",
   "execution_count": 26,
   "id": "5ebbd3d8",
   "metadata": {},
   "outputs": [
    {
     "name": "stderr",
     "output_type": "stream",
     "text": [
      "<ipython-input-26-63add721922f>:1: DeprecationWarning: find_elements_by_* commands are deprecated. Please use find_elements() instead\n",
      "  percent= driver.find_elements_by_xpath(\"//div[@class='_3Ay6Sb']\")\n"
     ]
    },
    {
     "data": {
      "text/plain": [
       "['68% off',\n",
       " '77% off',\n",
       " '40% off',\n",
       " '90% off',\n",
       " '87% off',\n",
       " '89% off',\n",
       " '87% off',\n",
       " '68% off',\n",
       " '88% off',\n",
       " '87% off',\n",
       " '82% off',\n",
       " '70% off',\n",
       " '83% off',\n",
       " '88% off',\n",
       " '87% off',\n",
       " '37% off',\n",
       " '83% off',\n",
       " '83% off',\n",
       " '82% off',\n",
       " '68% off',\n",
       " '88% off',\n",
       " '64% off',\n",
       " '78% off',\n",
       " '70% off',\n",
       " '77% off',\n",
       " '87% off',\n",
       " '82% off',\n",
       " '69% off',\n",
       " '38% off',\n",
       " '80% off',\n",
       " '79% off',\n",
       " '58% off',\n",
       " '87% off',\n",
       " '88% off',\n",
       " '81% off',\n",
       " '76% off',\n",
       " '82% off',\n",
       " '81% off',\n",
       " '25% off',\n",
       " '68% off']"
      ]
     },
     "execution_count": 26,
     "metadata": {},
     "output_type": "execute_result"
    }
   ],
   "source": [
    "percent= driver.find_elements_by_xpath(\"//div[@class='_3Ay6Sb']\")\n",
    "percent_discount=[]\n",
    "\n",
    "for i in percent[0:100]:\n",
    "    percent_discount.append(i.text)\n",
    "    \n",
    "percent_discount"
   ]
  },
  {
   "cell_type": "code",
   "execution_count": 27,
   "id": "35b1221b",
   "metadata": {},
   "outputs": [
    {
     "name": "stderr",
     "output_type": "stream",
     "text": [
      "<ipython-input-27-63add721922f>:1: DeprecationWarning: find_elements_by_* commands are deprecated. Please use find_elements() instead\n",
      "  percent= driver.find_elements_by_xpath(\"//div[@class='_3Ay6Sb']\")\n"
     ]
    },
    {
     "data": {
      "text/plain": [
       "['83% off',\n",
       " '78% off',\n",
       " '82% off',\n",
       " '82% off',\n",
       " '67% off',\n",
       " '79% off',\n",
       " '81% off',\n",
       " '83% off',\n",
       " '86% off',\n",
       " '20% off',\n",
       " '82% off',\n",
       " '37% off',\n",
       " '83% off',\n",
       " '89% off',\n",
       " '26% off',\n",
       " '62% off',\n",
       " '68% off',\n",
       " '85% off',\n",
       " '90% off',\n",
       " '60% off',\n",
       " '86% off',\n",
       " '26% off',\n",
       " '86% off',\n",
       " '68% off',\n",
       " '72% off',\n",
       " '87% off',\n",
       " '77% off',\n",
       " '62% off',\n",
       " '81% off',\n",
       " '88% off',\n",
       " '82% off',\n",
       " '37% off',\n",
       " '88% off',\n",
       " '78% off',\n",
       " '90% off',\n",
       " '68% off',\n",
       " '84% off',\n",
       " '86% off',\n",
       " '78% off',\n",
       " '70% off']"
      ]
     },
     "execution_count": 27,
     "metadata": {},
     "output_type": "execute_result"
    }
   ],
   "source": [
    "percent= driver.find_elements_by_xpath(\"//div[@class='_3Ay6Sb']\")\n",
    "percent_discount=[]\n",
    "\n",
    "for i in percent[0:100]:\n",
    "    percent_discount.append(i.text)\n",
    "    \n",
    "percent_discount"
   ]
  },
  {
   "cell_type": "code",
   "execution_count": 28,
   "id": "12394faf",
   "metadata": {},
   "outputs": [
    {
     "name": "stderr",
     "output_type": "stream",
     "text": [
      "<ipython-input-28-63add721922f>:1: DeprecationWarning: find_elements_by_* commands are deprecated. Please use find_elements() instead\n",
      "  percent= driver.find_elements_by_xpath(\"//div[@class='_3Ay6Sb']\")\n"
     ]
    },
    {
     "data": {
      "text/plain": [
       "['37% off',\n",
       " '37% off',\n",
       " '84% off',\n",
       " '70% off',\n",
       " '85% off',\n",
       " '83% off',\n",
       " '85% off',\n",
       " '62% off',\n",
       " '51% off',\n",
       " '16% off',\n",
       " '88% off',\n",
       " '68% off',\n",
       " '81% off',\n",
       " '88% off',\n",
       " '85% off',\n",
       " '90% off',\n",
       " '67% off',\n",
       " '82% off',\n",
       " '24% off',\n",
       " '73% off',\n",
       " '83% off',\n",
       " '25% off',\n",
       " '82% off',\n",
       " '82% off',\n",
       " '81% off',\n",
       " '86% off',\n",
       " '82% off',\n",
       " '72% off',\n",
       " '77% off',\n",
       " '78% off',\n",
       " '40% off',\n",
       " '50% off',\n",
       " '78% off',\n",
       " '86% off',\n",
       " '91% off',\n",
       " '76% off',\n",
       " '79% off',\n",
       " '88% off',\n",
       " '83% off',\n",
       " '40% off']"
      ]
     },
     "execution_count": 28,
     "metadata": {},
     "output_type": "execute_result"
    }
   ],
   "source": [
    "percent= driver.find_elements_by_xpath(\"//div[@class='_3Ay6Sb']\")\n",
    "percent_discount=[]\n",
    "\n",
    "for i in percent[0:100]:\n",
    "    percent_discount.append(i.text)\n",
    "    \n",
    "percent_discount"
   ]
  },
  {
   "cell_type": "code",
   "execution_count": 38,
   "id": "f7fada49",
   "metadata": {},
   "outputs": [
    {
     "name": "stdout",
     "output_type": "stream",
     "text": [
      "40 40 40 40\n"
     ]
    }
   ],
   "source": [
    "print(len(brand_name),len(product_description),len(product_price),len(percent_discount))"
   ]
  },
  {
   "cell_type": "code",
   "execution_count": 39,
   "id": "1f204bb9",
   "metadata": {},
   "outputs": [
    {
     "data": {
      "text/html": [
       "<div>\n",
       "<style scoped>\n",
       "    .dataframe tbody tr th:only-of-type {\n",
       "        vertical-align: middle;\n",
       "    }\n",
       "\n",
       "    .dataframe tbody tr th {\n",
       "        vertical-align: top;\n",
       "    }\n",
       "\n",
       "    .dataframe thead th {\n",
       "        text-align: right;\n",
       "    }\n",
       "</style>\n",
       "<table border=\"1\" class=\"dataframe\">\n",
       "  <thead>\n",
       "    <tr style=\"text-align: right;\">\n",
       "      <th></th>\n",
       "      <th>brand</th>\n",
       "      <th>product</th>\n",
       "      <th>price</th>\n",
       "      <th>percent</th>\n",
       "    </tr>\n",
       "  </thead>\n",
       "  <tbody>\n",
       "    <tr>\n",
       "      <th>0</th>\n",
       "      <td>Fastrack</td>\n",
       "      <td>UV Protection Aviator Sunglasses (Free Size)</td>\n",
       "      <td>₹559</td>\n",
       "      <td>37% off</td>\n",
       "    </tr>\n",
       "    <tr>\n",
       "      <th>1</th>\n",
       "      <td>NuVew</td>\n",
       "      <td>Gradient, UV Protection Wayfarer Sunglasses (F...</td>\n",
       "      <td>₹499</td>\n",
       "      <td>37% off</td>\n",
       "    </tr>\n",
       "    <tr>\n",
       "      <th>2</th>\n",
       "      <td>Singco India</td>\n",
       "      <td>UV Protection, Mirrored Retro Square Sunglasse...</td>\n",
       "      <td>₹319</td>\n",
       "      <td>84% off</td>\n",
       "    </tr>\n",
       "    <tr>\n",
       "      <th>3</th>\n",
       "      <td>VINCENT CHASE</td>\n",
       "      <td>UV Protection Over-sized Sunglasses (65)</td>\n",
       "      <td>₹599</td>\n",
       "      <td>70% off</td>\n",
       "    </tr>\n",
       "    <tr>\n",
       "      <th>4</th>\n",
       "      <td>kingsunglasses</td>\n",
       "      <td>UV Protection, Night Vision, Riding Glasses, G...</td>\n",
       "      <td>₹189</td>\n",
       "      <td>85% off</td>\n",
       "    </tr>\n",
       "    <tr>\n",
       "      <th>5</th>\n",
       "      <td>JustChhapo</td>\n",
       "      <td>UV Protection Aviator Sunglasses (88)</td>\n",
       "      <td>₹201</td>\n",
       "      <td>83% off</td>\n",
       "    </tr>\n",
       "    <tr>\n",
       "      <th>6</th>\n",
       "      <td>PHENOMENAL</td>\n",
       "      <td>UV Protection Rectangular Sunglasses (60)</td>\n",
       "      <td>₹186</td>\n",
       "      <td>85% off</td>\n",
       "    </tr>\n",
       "    <tr>\n",
       "      <th>7</th>\n",
       "      <td>ROYAL SON</td>\n",
       "      <td>Polarized, UV Protection Aviator Sunglasses (58)</td>\n",
       "      <td>₹599</td>\n",
       "      <td>62% off</td>\n",
       "    </tr>\n",
       "    <tr>\n",
       "      <th>8</th>\n",
       "      <td>Fastrack</td>\n",
       "      <td>UV Protection Cat-eye Sunglasses (20)</td>\n",
       "      <td>₹1,099</td>\n",
       "      <td>51% off</td>\n",
       "    </tr>\n",
       "    <tr>\n",
       "      <th>9</th>\n",
       "      <td>Fravy</td>\n",
       "      <td>Polarized Aviator Sunglasses (Free Size)</td>\n",
       "      <td>₹999</td>\n",
       "      <td>16% off</td>\n",
       "    </tr>\n",
       "    <tr>\n",
       "      <th>10</th>\n",
       "      <td>Fastrack</td>\n",
       "      <td>UV Protection, Gradient, Riding Glasses Wayfar...</td>\n",
       "      <td>₹227</td>\n",
       "      <td>88% off</td>\n",
       "    </tr>\n",
       "    <tr>\n",
       "      <th>11</th>\n",
       "      <td>ROYAL SON</td>\n",
       "      <td>Gradient Round Sunglasses (Free Size)</td>\n",
       "      <td>₹359</td>\n",
       "      <td>68% off</td>\n",
       "    </tr>\n",
       "    <tr>\n",
       "      <th>12</th>\n",
       "      <td>Cruze</td>\n",
       "      <td>UV Protection, Others Round, Aviator Sunglasse...</td>\n",
       "      <td>₹189</td>\n",
       "      <td>81% off</td>\n",
       "    </tr>\n",
       "    <tr>\n",
       "      <th>13</th>\n",
       "      <td>Guru Randhawa</td>\n",
       "      <td>UV Protection Aviator Sunglasses (55)</td>\n",
       "      <td>₹276</td>\n",
       "      <td>88% off</td>\n",
       "    </tr>\n",
       "    <tr>\n",
       "      <th>14</th>\n",
       "      <td>kingsunglasses</td>\n",
       "      <td>UV Protection Aviator Sunglasses (57)</td>\n",
       "      <td>₹287</td>\n",
       "      <td>85% off</td>\n",
       "    </tr>\n",
       "    <tr>\n",
       "      <th>15</th>\n",
       "      <td>ROZZETTA CRAFT</td>\n",
       "      <td>UV Protection Rectangular Sunglasses (58)</td>\n",
       "      <td>₹399</td>\n",
       "      <td>90% off</td>\n",
       "    </tr>\n",
       "    <tr>\n",
       "      <th>16</th>\n",
       "      <td>United Colors of Benetton</td>\n",
       "      <td>UV Protection, Others Round Sunglasses (48)</td>\n",
       "      <td>₹260</td>\n",
       "      <td>67% off</td>\n",
       "    </tr>\n",
       "    <tr>\n",
       "      <th>17</th>\n",
       "      <td>PIRASO</td>\n",
       "      <td>UV Protection, Night Vision Wayfarer Sunglasse...</td>\n",
       "      <td>₹299</td>\n",
       "      <td>82% off</td>\n",
       "    </tr>\n",
       "    <tr>\n",
       "      <th>18</th>\n",
       "      <td>Fastrack</td>\n",
       "      <td>UV Protection Sports Sunglasses (63)</td>\n",
       "      <td>₹679</td>\n",
       "      <td>24% off</td>\n",
       "    </tr>\n",
       "    <tr>\n",
       "      <th>19</th>\n",
       "      <td>ROYAL SON</td>\n",
       "      <td>UV Protection, Gradient Round Sunglasses (Free...</td>\n",
       "      <td>₹359</td>\n",
       "      <td>73% off</td>\n",
       "    </tr>\n",
       "    <tr>\n",
       "      <th>20</th>\n",
       "      <td>ROYAL SON</td>\n",
       "      <td>UV Protection Aviator Sunglasses (Free Size)</td>\n",
       "      <td>₹261</td>\n",
       "      <td>83% off</td>\n",
       "    </tr>\n",
       "    <tr>\n",
       "      <th>21</th>\n",
       "      <td>SRPM</td>\n",
       "      <td>UV Protection Wayfarer Sunglasses (54)</td>\n",
       "      <td>₹669</td>\n",
       "      <td>25% off</td>\n",
       "    </tr>\n",
       "    <tr>\n",
       "      <th>22</th>\n",
       "      <td>ROYAL SON</td>\n",
       "      <td>UV Protection Round Sunglasses (Free Size)</td>\n",
       "      <td>₹299</td>\n",
       "      <td>82% off</td>\n",
       "    </tr>\n",
       "    <tr>\n",
       "      <th>23</th>\n",
       "      <td>ROZZETTA CRAFT</td>\n",
       "      <td>UV Protection Wayfarer Sunglasses (57)</td>\n",
       "      <td>₹559</td>\n",
       "      <td>82% off</td>\n",
       "    </tr>\n",
       "    <tr>\n",
       "      <th>24</th>\n",
       "      <td>ROZZETTA CRAFT</td>\n",
       "      <td>UV Protection, Mirrored Round Sunglasses (54)</td>\n",
       "      <td>₹219</td>\n",
       "      <td>81% off</td>\n",
       "    </tr>\n",
       "    <tr>\n",
       "      <th>25</th>\n",
       "      <td>WROGN</td>\n",
       "      <td>UV Protection Rectangular Sunglasses (55)</td>\n",
       "      <td>₹169</td>\n",
       "      <td>86% off</td>\n",
       "    </tr>\n",
       "    <tr>\n",
       "      <th>26</th>\n",
       "      <td>GANSTA</td>\n",
       "      <td>Toughened Glass Lens, UV Protection Aviator Su...</td>\n",
       "      <td>₹640</td>\n",
       "      <td>82% off</td>\n",
       "    </tr>\n",
       "    <tr>\n",
       "      <th>27</th>\n",
       "      <td>Fastrack</td>\n",
       "      <td>Polarized, UV Protection Wayfarer Sunglasses (53)</td>\n",
       "      <td>₹1,226</td>\n",
       "      <td>72% off</td>\n",
       "    </tr>\n",
       "    <tr>\n",
       "      <th>28</th>\n",
       "      <td>NuVew</td>\n",
       "      <td>Toughened Glass Lens, UV Protection Wayfarer, ...</td>\n",
       "      <td>₹840</td>\n",
       "      <td>77% off</td>\n",
       "    </tr>\n",
       "    <tr>\n",
       "      <th>29</th>\n",
       "      <td>hipe</td>\n",
       "      <td>Mirrored Aviator Sunglasses (55)</td>\n",
       "      <td>₹319</td>\n",
       "      <td>78% off</td>\n",
       "    </tr>\n",
       "    <tr>\n",
       "      <th>30</th>\n",
       "      <td>AISLIN</td>\n",
       "      <td>Mirrored, UV Protection Aviator Sunglasses (58)</td>\n",
       "      <td>₹3,354</td>\n",
       "      <td>40% off</td>\n",
       "    </tr>\n",
       "    <tr>\n",
       "      <th>31</th>\n",
       "      <td>ROYAL SON</td>\n",
       "      <td>Mirrored, UV Protection Round Sunglasses (Free...</td>\n",
       "      <td>₹719</td>\n",
       "      <td>50% off</td>\n",
       "    </tr>\n",
       "    <tr>\n",
       "      <th>32</th>\n",
       "      <td>PETER JONES</td>\n",
       "      <td>UV Protection Round Sunglasses (54)</td>\n",
       "      <td>₹279</td>\n",
       "      <td>78% off</td>\n",
       "    </tr>\n",
       "    <tr>\n",
       "      <th>33</th>\n",
       "      <td>AISLIN</td>\n",
       "      <td>Riding Glasses, UV Protection, Others Aviator ...</td>\n",
       "      <td>₹201</td>\n",
       "      <td>86% off</td>\n",
       "    </tr>\n",
       "    <tr>\n",
       "      <th>34</th>\n",
       "      <td>Fastrack</td>\n",
       "      <td>UV Protection Wayfarer Sunglasses (53)</td>\n",
       "      <td>₹299</td>\n",
       "      <td>91% off</td>\n",
       "    </tr>\n",
       "    <tr>\n",
       "      <th>35</th>\n",
       "      <td>VINCENT CHASE</td>\n",
       "      <td>UV Protection, Gradient Round Sunglasses (Free...</td>\n",
       "      <td>₹336</td>\n",
       "      <td>76% off</td>\n",
       "    </tr>\n",
       "    <tr>\n",
       "      <th>36</th>\n",
       "      <td>Singco India</td>\n",
       "      <td>UV Protection, Gradient, Mirrored, Riding Glas...</td>\n",
       "      <td>₹209</td>\n",
       "      <td>79% off</td>\n",
       "    </tr>\n",
       "    <tr>\n",
       "      <th>37</th>\n",
       "      <td>Flizz</td>\n",
       "      <td>Riding Glasses, Night Vision Wrap-around Sungl...</td>\n",
       "      <td>₹276</td>\n",
       "      <td>88% off</td>\n",
       "    </tr>\n",
       "    <tr>\n",
       "      <th>38</th>\n",
       "      <td>Fastrack</td>\n",
       "      <td>UV Protection, Mirrored Retro Square Sunglasse...</td>\n",
       "      <td>₹329</td>\n",
       "      <td>83% off</td>\n",
       "    </tr>\n",
       "    <tr>\n",
       "      <th>39</th>\n",
       "      <td>ROYAL SON</td>\n",
       "      <td>UV Protection Aviator Sunglasses (Free Size)</td>\n",
       "      <td>₹359</td>\n",
       "      <td>40% off</td>\n",
       "    </tr>\n",
       "  </tbody>\n",
       "</table>\n",
       "</div>"
      ],
      "text/plain": [
       "                        brand  \\\n",
       "0                    Fastrack   \n",
       "1                       NuVew   \n",
       "2                Singco India   \n",
       "3               VINCENT CHASE   \n",
       "4              kingsunglasses   \n",
       "5                  JustChhapo   \n",
       "6                  PHENOMENAL   \n",
       "7                   ROYAL SON   \n",
       "8                    Fastrack   \n",
       "9                       Fravy   \n",
       "10                   Fastrack   \n",
       "11                  ROYAL SON   \n",
       "12                      Cruze   \n",
       "13              Guru Randhawa   \n",
       "14             kingsunglasses   \n",
       "15             ROZZETTA CRAFT   \n",
       "16  United Colors of Benetton   \n",
       "17                     PIRASO   \n",
       "18                   Fastrack   \n",
       "19                  ROYAL SON   \n",
       "20                  ROYAL SON   \n",
       "21                       SRPM   \n",
       "22                  ROYAL SON   \n",
       "23             ROZZETTA CRAFT   \n",
       "24             ROZZETTA CRAFT   \n",
       "25                      WROGN   \n",
       "26                     GANSTA   \n",
       "27                   Fastrack   \n",
       "28                      NuVew   \n",
       "29                       hipe   \n",
       "30                     AISLIN   \n",
       "31                  ROYAL SON   \n",
       "32                PETER JONES   \n",
       "33                     AISLIN   \n",
       "34                   Fastrack   \n",
       "35              VINCENT CHASE   \n",
       "36               Singco India   \n",
       "37                      Flizz   \n",
       "38                   Fastrack   \n",
       "39                  ROYAL SON   \n",
       "\n",
       "                                              product   price  percent  \n",
       "0        UV Protection Aviator Sunglasses (Free Size)    ₹559  37% off  \n",
       "1   Gradient, UV Protection Wayfarer Sunglasses (F...    ₹499  37% off  \n",
       "2   UV Protection, Mirrored Retro Square Sunglasse...    ₹319  84% off  \n",
       "3            UV Protection Over-sized Sunglasses (65)    ₹599  70% off  \n",
       "4   UV Protection, Night Vision, Riding Glasses, G...    ₹189  85% off  \n",
       "5               UV Protection Aviator Sunglasses (88)    ₹201  83% off  \n",
       "6           UV Protection Rectangular Sunglasses (60)    ₹186  85% off  \n",
       "7    Polarized, UV Protection Aviator Sunglasses (58)    ₹599  62% off  \n",
       "8               UV Protection Cat-eye Sunglasses (20)  ₹1,099  51% off  \n",
       "9            Polarized Aviator Sunglasses (Free Size)    ₹999  16% off  \n",
       "10  UV Protection, Gradient, Riding Glasses Wayfar...    ₹227  88% off  \n",
       "11              Gradient Round Sunglasses (Free Size)    ₹359  68% off  \n",
       "12  UV Protection, Others Round, Aviator Sunglasse...    ₹189  81% off  \n",
       "13              UV Protection Aviator Sunglasses (55)    ₹276  88% off  \n",
       "14              UV Protection Aviator Sunglasses (57)    ₹287  85% off  \n",
       "15          UV Protection Rectangular Sunglasses (58)    ₹399  90% off  \n",
       "16        UV Protection, Others Round Sunglasses (48)    ₹260  67% off  \n",
       "17  UV Protection, Night Vision Wayfarer Sunglasse...    ₹299  82% off  \n",
       "18               UV Protection Sports Sunglasses (63)    ₹679  24% off  \n",
       "19  UV Protection, Gradient Round Sunglasses (Free...    ₹359  73% off  \n",
       "20       UV Protection Aviator Sunglasses (Free Size)    ₹261  83% off  \n",
       "21             UV Protection Wayfarer Sunglasses (54)    ₹669  25% off  \n",
       "22         UV Protection Round Sunglasses (Free Size)    ₹299  82% off  \n",
       "23             UV Protection Wayfarer Sunglasses (57)    ₹559  82% off  \n",
       "24      UV Protection, Mirrored Round Sunglasses (54)    ₹219  81% off  \n",
       "25          UV Protection Rectangular Sunglasses (55)    ₹169  86% off  \n",
       "26  Toughened Glass Lens, UV Protection Aviator Su...    ₹640  82% off  \n",
       "27  Polarized, UV Protection Wayfarer Sunglasses (53)  ₹1,226  72% off  \n",
       "28  Toughened Glass Lens, UV Protection Wayfarer, ...    ₹840  77% off  \n",
       "29                   Mirrored Aviator Sunglasses (55)    ₹319  78% off  \n",
       "30    Mirrored, UV Protection Aviator Sunglasses (58)  ₹3,354  40% off  \n",
       "31  Mirrored, UV Protection Round Sunglasses (Free...    ₹719  50% off  \n",
       "32                UV Protection Round Sunglasses (54)    ₹279  78% off  \n",
       "33  Riding Glasses, UV Protection, Others Aviator ...    ₹201  86% off  \n",
       "34             UV Protection Wayfarer Sunglasses (53)    ₹299  91% off  \n",
       "35  UV Protection, Gradient Round Sunglasses (Free...    ₹336  76% off  \n",
       "36  UV Protection, Gradient, Mirrored, Riding Glas...    ₹209  79% off  \n",
       "37  Riding Glasses, Night Vision Wrap-around Sungl...    ₹276  88% off  \n",
       "38  UV Protection, Mirrored Retro Square Sunglasse...    ₹329  83% off  \n",
       "39       UV Protection Aviator Sunglasses (Free Size)    ₹359  40% off  "
      ]
     },
     "execution_count": 39,
     "metadata": {},
     "output_type": "execute_result"
    }
   ],
   "source": [
    "import pandas as pd\n",
    "flipkart=pd.DataFrame({})\n",
    "flipkart['brand']=brand_name[0:100]\n",
    "flipkart['product']=product_description[0:100]\n",
    "flipkart['price']=product_price[0:100]\n",
    "flipkart['percent']=percent_discount[0:100]\n",
    "flipkart"
   ]
  },
  {
   "cell_type": "markdown",
   "id": "eb9fa578",
   "metadata": {},
   "source": [
    "# Q5."
   ]
  },
  {
   "cell_type": "code",
   "execution_count": 5,
   "id": "2a4df7cb",
   "metadata": {},
   "outputs": [],
   "source": [
    "import selenium\n",
    "import pandas as pd \n",
    "from selenium import webdriver"
   ]
  },
  {
   "cell_type": "code",
   "execution_count": 6,
   "id": "f1968647",
   "metadata": {},
   "outputs": [
    {
     "name": "stderr",
     "output_type": "stream",
     "text": [
      "<ipython-input-6-e87eaf9bc581>:1: DeprecationWarning: executable_path has been deprecated, please pass in a Service object\n",
      "  driver= webdriver.Chrome(r\"C:\\Users\\Dell\\Downloads\\chromedriver_win32/chromedriver.exe\")\n"
     ]
    }
   ],
   "source": [
    "driver= webdriver.Chrome(r\"C:\\Users\\Dell\\Downloads\\chromedriver_win32/chromedriver.exe\")"
   ]
  },
  {
   "cell_type": "code",
   "execution_count": 7,
   "id": "9de12e43",
   "metadata": {},
   "outputs": [],
   "source": [
    "driver.get(\"https://www.flipkart.com/apple-iphone-11-black-64-gb-includes- earpods-poweradapter/p/itm0f37c2240b217?pid=MOBFKCTSVZAXUHGR&lid=LSTMOBFKCTSVZAXUHGREPBFGI&marketplace.\")"
   ]
  },
  {
   "cell_type": "code",
   "execution_count": 11,
   "id": "5316c078",
   "metadata": {},
   "outputs": [],
   "source": [
    "star_rating=[]\n",
    "review_summary=[]\n",
    "full_review=[]\n",
    "\n"
   ]
  },
  {
   "cell_type": "code",
   "execution_count": 12,
   "id": "ffa3a6ef",
   "metadata": {},
   "outputs": [
    {
     "name": "stderr",
     "output_type": "stream",
     "text": [
      "<ipython-input-12-362fffb91cea>:1: DeprecationWarning: find_elements_by_* commands are deprecated. Please use find_elements() instead\n",
      "  rating=driver.find_elements_by_xpath(\"//div[@class='_3LWZlK _1BLPMq']\")\n"
     ]
    },
    {
     "data": {
      "text/plain": [
       "['5', '5', '5', '5', '5', '5', '5', '4', '5', '5']"
      ]
     },
     "execution_count": 12,
     "metadata": {},
     "output_type": "execute_result"
    }
   ],
   "source": [
    "rating=driver.find_elements_by_xpath(\"//div[@class='_3LWZlK _1BLPMq']\")\n",
    "star_rating=[]\n",
    "for i in rating[0:100]:\n",
    "    star_rating.append(i.text)\n",
    "    \n",
    "    \n",
    "star_rating"
   ]
  },
  {
   "cell_type": "code",
   "execution_count": 13,
   "id": "6ff81888",
   "metadata": {},
   "outputs": [
    {
     "name": "stderr",
     "output_type": "stream",
     "text": [
      "<ipython-input-13-b924885abe4f>:1: DeprecationWarning: find_elements_by_* commands are deprecated. Please use find_elements() instead\n",
      "  review=driver.find_elements_by_xpath(\"//p[@class='_2-N8zT']\")\n"
     ]
    },
    {
     "data": {
      "text/plain": [
       "['Brilliant',\n",
       " 'Simply awesome',\n",
       " 'Perfect product!',\n",
       " 'Worth every penny',\n",
       " 'Fabulous!',\n",
       " 'Best in the market!',\n",
       " 'Great product',\n",
       " 'Good choice',\n",
       " 'Worth every penny',\n",
       " 'Highly recommended']"
      ]
     },
     "execution_count": 13,
     "metadata": {},
     "output_type": "execute_result"
    }
   ],
   "source": [
    "review=driver.find_elements_by_xpath(\"//p[@class='_2-N8zT']\")\n",
    "review_summary=[]\n",
    "for i in review[0:100]:\n",
    "    review_summary.append(i.text)\n",
    "    \n",
    "    \n",
    "review_summary"
   ]
  },
  {
   "cell_type": "code",
   "execution_count": 14,
   "id": "bcb485fb",
   "metadata": {},
   "outputs": [
    {
     "name": "stderr",
     "output_type": "stream",
     "text": [
      "<ipython-input-14-2b7b3a0a77b4>:1: DeprecationWarning: find_elements_by_* commands are deprecated. Please use find_elements() instead\n",
      "  detailed_review=driver.find_elements_by_xpath(\"//div[@class='t-ZTKy']\")\n"
     ]
    },
    {
     "data": {
      "text/plain": [
       "['The Best Phone for the MoneyThe iPhone 11 offers superb cameras, a more durable design and excellent battery life for an affordable price.Compelling ultra-wide cameraNew Night mode is excellentLong battery life',\n",
       " 'Really satisfied with the Product I received... It’s totally genuine and the packaging was also really good so if ur planning to buy just go for it.',\n",
       " 'Amazing phone with great cameras and better battery which gives you the best performance. I just love the camera .',\n",
       " 'Previously I was using one plus 3t it was a great phoneAnd then I decided to upgrade I am stuck between Samsung s10 plus or iPhone 11I have seen the specs and everything were good except the display it’s somewhere between 720-1080 and it’s not even an amoled it’s an LCD displayBut I decided to go with iPhone because I have never used an IOS device I have Been an android user from the past 9 years I ordered IPhone 11 (128gb) product redMy experience after using 3 weeks1. The delivery ...READ MORE',\n",
       " 'This is my first iOS phone. I am very happy with this product. Very much satisfied with this. I love this phone.',\n",
       " 'Great iPhone very snappy experience as apple kind. Upgraded from iPhone 7.Pros-Camera top class- Battery top performed-Chipset no need to say as apple kind-Security as you expect from apple- Display super bright industry leading colouraccuracy and super responsive-Build quality as expect from apple sturdypremium durable beautiful stylish.-Os most stable os in smartphone industryCons-No 5G-Display is not based on OLED technology-Charger headphones and 1 apple stic...READ MORE',\n",
       " 'Amazing Powerful and Durable Gadget.I’m am very happy with the camera picture quality, Amazing face id unlocked in dark room, Strong battery with perfect screen size as you can carry easily in pocket. This is my third iPhone.I shifted from android Samsung Note series to iPhone because of the strong build quality and peace of mind for next 3-4 years.Don’t think to much just go for it and I suggest you to go for minimum 128gb variant or more 256gb.I’ve attached my puppy pics and no fi...READ MORE',\n",
       " 'So far it’s been an AMAZING experience coming back to iOS after nearly a decade but it’s not as versatile as android though phone is sturdy dropped it accidentally a couple of times and nothing happened fortunately camera is awesome',\n",
       " 'i11 is worthy to buy, too much happy with the product. Thank u flipkart I received the item on time..loved it..',\n",
       " 'iphone 11 is a very good phone to buy only if you can compromise for the display. The display on this is device is pretty good but you can get other options with better displays in this price segment.If you can survive with an HD+ LCD panel with thicker bezels and a notch up top then this is a very good phone for you.Cameras are awesome, battery backup excellent, great performance and a decent premium look. Good job Apple !']"
      ]
     },
     "execution_count": 14,
     "metadata": {},
     "output_type": "execute_result"
    }
   ],
   "source": [
    "detailed_review=driver.find_elements_by_xpath(\"//div[@class='t-ZTKy']\")\n",
    "full_review=[]\n",
    "for i in detailed_review[0:100]:\n",
    "    full_review.append(i.text.replace(\"\\n\",\"\"))\n",
    "    \n",
    "    \n",
    "full_review"
   ]
  },
  {
   "cell_type": "code",
   "execution_count": 15,
   "id": "ebc9176c",
   "metadata": {},
   "outputs": [
    {
     "name": "stderr",
     "output_type": "stream",
     "text": [
      "<ipython-input-15-362fffb91cea>:1: DeprecationWarning: find_elements_by_* commands are deprecated. Please use find_elements() instead\n",
      "  rating=driver.find_elements_by_xpath(\"//div[@class='_3LWZlK _1BLPMq']\")\n"
     ]
    },
    {
     "data": {
      "text/plain": [
       "['5', '5', '5', '5', '5', '5', '5', '4', '5', '5']"
      ]
     },
     "execution_count": 15,
     "metadata": {},
     "output_type": "execute_result"
    }
   ],
   "source": [
    "rating=driver.find_elements_by_xpath(\"//div[@class='_3LWZlK _1BLPMq']\")\n",
    "star_rating=[]\n",
    "for i in rating[0:100]:\n",
    "    star_rating.append(i.text)\n",
    "    \n",
    "    \n",
    "star_rating"
   ]
  },
  {
   "cell_type": "code",
   "execution_count": 16,
   "id": "3ed00904",
   "metadata": {},
   "outputs": [
    {
     "name": "stderr",
     "output_type": "stream",
     "text": [
      "<ipython-input-16-b924885abe4f>:1: DeprecationWarning: find_elements_by_* commands are deprecated. Please use find_elements() instead\n",
      "  review=driver.find_elements_by_xpath(\"//p[@class='_2-N8zT']\")\n"
     ]
    },
    {
     "data": {
      "text/plain": [
       "['Brilliant',\n",
       " 'Simply awesome',\n",
       " 'Perfect product!',\n",
       " 'Worth every penny',\n",
       " 'Fabulous!',\n",
       " 'Best in the market!',\n",
       " 'Great product',\n",
       " 'Good choice',\n",
       " 'Worth every penny',\n",
       " 'Highly recommended']"
      ]
     },
     "execution_count": 16,
     "metadata": {},
     "output_type": "execute_result"
    }
   ],
   "source": [
    "review=driver.find_elements_by_xpath(\"//p[@class='_2-N8zT']\")\n",
    "review_summary=[]\n",
    "for i in review[0:100]:\n",
    "    review_summary.append(i.text)\n",
    "    \n",
    "    \n",
    "review_summary"
   ]
  },
  {
   "cell_type": "code",
   "execution_count": 17,
   "id": "45401f35",
   "metadata": {},
   "outputs": [
    {
     "name": "stderr",
     "output_type": "stream",
     "text": [
      "<ipython-input-17-2b7b3a0a77b4>:1: DeprecationWarning: find_elements_by_* commands are deprecated. Please use find_elements() instead\n",
      "  detailed_review=driver.find_elements_by_xpath(\"//div[@class='t-ZTKy']\")\n"
     ]
    },
    {
     "data": {
      "text/plain": [
       "['The Best Phone for the MoneyThe iPhone 11 offers superb cameras, a more durable design and excellent battery life for an affordable price.Compelling ultra-wide cameraNew Night mode is excellentLong battery life',\n",
       " 'Really satisfied with the Product I received... It’s totally genuine and the packaging was also really good so if ur planning to buy just go for it.',\n",
       " 'Amazing phone with great cameras and better battery which gives you the best performance. I just love the camera .',\n",
       " 'Previously I was using one plus 3t it was a great phoneAnd then I decided to upgrade I am stuck between Samsung s10 plus or iPhone 11I have seen the specs and everything were good except the display it’s somewhere between 720-1080 and it’s not even an amoled it’s an LCD displayBut I decided to go with iPhone because I have never used an IOS device I have Been an android user from the past 9 years I ordered IPhone 11 (128gb) product redMy experience after using 3 weeks1. The delivery ...READ MORE',\n",
       " 'This is my first iOS phone. I am very happy with this product. Very much satisfied with this. I love this phone.',\n",
       " 'Great iPhone very snappy experience as apple kind. Upgraded from iPhone 7.Pros-Camera top class- Battery top performed-Chipset no need to say as apple kind-Security as you expect from apple- Display super bright industry leading colouraccuracy and super responsive-Build quality as expect from apple sturdypremium durable beautiful stylish.-Os most stable os in smartphone industryCons-No 5G-Display is not based on OLED technology-Charger headphones and 1 apple stic...READ MORE',\n",
       " 'Amazing Powerful and Durable Gadget.I’m am very happy with the camera picture quality, Amazing face id unlocked in dark room, Strong battery with perfect screen size as you can carry easily in pocket. This is my third iPhone.I shifted from android Samsung Note series to iPhone because of the strong build quality and peace of mind for next 3-4 years.Don’t think to much just go for it and I suggest you to go for minimum 128gb variant or more 256gb.I’ve attached my puppy pics and no fi...READ MORE',\n",
       " 'So far it’s been an AMAZING experience coming back to iOS after nearly a decade but it’s not as versatile as android though phone is sturdy dropped it accidentally a couple of times and nothing happened fortunately camera is awesome',\n",
       " 'i11 is worthy to buy, too much happy with the product. Thank u flipkart I received the item on time..loved it..',\n",
       " 'iphone 11 is a very good phone to buy only if you can compromise for the display. The display on this is device is pretty good but you can get other options with better displays in this price segment.If you can survive with an HD+ LCD panel with thicker bezels and a notch up top then this is a very good phone for you.Cameras are awesome, battery backup excellent, great performance and a decent premium look. Good job Apple !']"
      ]
     },
     "execution_count": 17,
     "metadata": {},
     "output_type": "execute_result"
    }
   ],
   "source": [
    "detailed_review=driver.find_elements_by_xpath(\"//div[@class='t-ZTKy']\")\n",
    "full_review=[]\n",
    "for i in detailed_review[0:100]:\n",
    "    full_review.append(i.text.replace(\"\\n\",\"\"))\n",
    "    \n",
    "    \n",
    "full_review"
   ]
  },
  {
   "cell_type": "code",
   "execution_count": 18,
   "id": "0c3b4365",
   "metadata": {},
   "outputs": [
    {
     "name": "stderr",
     "output_type": "stream",
     "text": [
      "<ipython-input-18-362fffb91cea>:1: DeprecationWarning: find_elements_by_* commands are deprecated. Please use find_elements() instead\n",
      "  rating=driver.find_elements_by_xpath(\"//div[@class='_3LWZlK _1BLPMq']\")\n"
     ]
    },
    {
     "data": {
      "text/plain": [
       "['5', '5', '5', '5', '5', '5', '5', '4', '5', '5']"
      ]
     },
     "execution_count": 18,
     "metadata": {},
     "output_type": "execute_result"
    }
   ],
   "source": [
    "rating=driver.find_elements_by_xpath(\"//div[@class='_3LWZlK _1BLPMq']\")\n",
    "star_rating=[]\n",
    "for i in rating[0:100]:\n",
    "    star_rating.append(i.text)\n",
    "    \n",
    "    \n",
    "star_rating"
   ]
  },
  {
   "cell_type": "code",
   "execution_count": 19,
   "id": "2c6cbf00",
   "metadata": {},
   "outputs": [
    {
     "name": "stderr",
     "output_type": "stream",
     "text": [
      "<ipython-input-19-b924885abe4f>:1: DeprecationWarning: find_elements_by_* commands are deprecated. Please use find_elements() instead\n",
      "  review=driver.find_elements_by_xpath(\"//p[@class='_2-N8zT']\")\n"
     ]
    },
    {
     "data": {
      "text/plain": [
       "['Brilliant',\n",
       " 'Simply awesome',\n",
       " 'Perfect product!',\n",
       " 'Worth every penny',\n",
       " 'Fabulous!',\n",
       " 'Best in the market!',\n",
       " 'Great product',\n",
       " 'Good choice',\n",
       " 'Worth every penny',\n",
       " 'Highly recommended']"
      ]
     },
     "execution_count": 19,
     "metadata": {},
     "output_type": "execute_result"
    }
   ],
   "source": [
    "review=driver.find_elements_by_xpath(\"//p[@class='_2-N8zT']\")\n",
    "review_summary=[]\n",
    "for i in review[0:100]:\n",
    "    review_summary.append(i.text)\n",
    "    \n",
    "    \n",
    "review_summary"
   ]
  },
  {
   "cell_type": "code",
   "execution_count": 20,
   "id": "a8b42385",
   "metadata": {},
   "outputs": [
    {
     "name": "stderr",
     "output_type": "stream",
     "text": [
      "<ipython-input-20-2b7b3a0a77b4>:1: DeprecationWarning: find_elements_by_* commands are deprecated. Please use find_elements() instead\n",
      "  detailed_review=driver.find_elements_by_xpath(\"//div[@class='t-ZTKy']\")\n"
     ]
    },
    {
     "data": {
      "text/plain": [
       "['The Best Phone for the MoneyThe iPhone 11 offers superb cameras, a more durable design and excellent battery life for an affordable price.Compelling ultra-wide cameraNew Night mode is excellentLong battery life',\n",
       " 'Really satisfied with the Product I received... It’s totally genuine and the packaging was also really good so if ur planning to buy just go for it.',\n",
       " 'Amazing phone with great cameras and better battery which gives you the best performance. I just love the camera .',\n",
       " 'Previously I was using one plus 3t it was a great phoneAnd then I decided to upgrade I am stuck between Samsung s10 plus or iPhone 11I have seen the specs and everything were good except the display it’s somewhere between 720-1080 and it’s not even an amoled it’s an LCD displayBut I decided to go with iPhone because I have never used an IOS device I have Been an android user from the past 9 years I ordered IPhone 11 (128gb) product redMy experience after using 3 weeks1. The delivery ...READ MORE',\n",
       " 'This is my first iOS phone. I am very happy with this product. Very much satisfied with this. I love this phone.',\n",
       " 'Great iPhone very snappy experience as apple kind. Upgraded from iPhone 7.Pros-Camera top class- Battery top performed-Chipset no need to say as apple kind-Security as you expect from apple- Display super bright industry leading colouraccuracy and super responsive-Build quality as expect from apple sturdypremium durable beautiful stylish.-Os most stable os in smartphone industryCons-No 5G-Display is not based on OLED technology-Charger headphones and 1 apple stic...READ MORE',\n",
       " 'Amazing Powerful and Durable Gadget.I’m am very happy with the camera picture quality, Amazing face id unlocked in dark room, Strong battery with perfect screen size as you can carry easily in pocket. This is my third iPhone.I shifted from android Samsung Note series to iPhone because of the strong build quality and peace of mind for next 3-4 years.Don’t think to much just go for it and I suggest you to go for minimum 128gb variant or more 256gb.I’ve attached my puppy pics and no fi...READ MORE',\n",
       " 'So far it’s been an AMAZING experience coming back to iOS after nearly a decade but it’s not as versatile as android though phone is sturdy dropped it accidentally a couple of times and nothing happened fortunately camera is awesome',\n",
       " 'i11 is worthy to buy, too much happy with the product. Thank u flipkart I received the item on time..loved it..',\n",
       " 'iphone 11 is a very good phone to buy only if you can compromise for the display. The display on this is device is pretty good but you can get other options with better displays in this price segment.If you can survive with an HD+ LCD panel with thicker bezels and a notch up top then this is a very good phone for you.Cameras are awesome, battery backup excellent, great performance and a decent premium look. Good job Apple !']"
      ]
     },
     "execution_count": 20,
     "metadata": {},
     "output_type": "execute_result"
    }
   ],
   "source": [
    "detailed_review=driver.find_elements_by_xpath(\"//div[@class='t-ZTKy']\")\n",
    "full_review=[]\n",
    "for i in detailed_review[0:100]:\n",
    "    full_review.append(i.text.replace(\"\\n\",\"\"))\n",
    "    \n",
    "    \n",
    "full_review"
   ]
  },
  {
   "cell_type": "code",
   "execution_count": 21,
   "id": "07eef9a2",
   "metadata": {},
   "outputs": [
    {
     "name": "stderr",
     "output_type": "stream",
     "text": [
      "<ipython-input-21-362fffb91cea>:1: DeprecationWarning: find_elements_by_* commands are deprecated. Please use find_elements() instead\n",
      "  rating=driver.find_elements_by_xpath(\"//div[@class='_3LWZlK _1BLPMq']\")\n"
     ]
    },
    {
     "data": {
      "text/plain": [
       "['5', '5', '5', '5', '5', '5', '5', '4', '5', '5']"
      ]
     },
     "execution_count": 21,
     "metadata": {},
     "output_type": "execute_result"
    }
   ],
   "source": [
    "rating=driver.find_elements_by_xpath(\"//div[@class='_3LWZlK _1BLPMq']\")\n",
    "star_rating=[]\n",
    "for i in rating[0:100]:\n",
    "    star_rating.append(i.text)\n",
    "    \n",
    "    \n",
    "star_rating"
   ]
  },
  {
   "cell_type": "code",
   "execution_count": 22,
   "id": "2a01cf7b",
   "metadata": {},
   "outputs": [
    {
     "name": "stderr",
     "output_type": "stream",
     "text": [
      "<ipython-input-22-b924885abe4f>:1: DeprecationWarning: find_elements_by_* commands are deprecated. Please use find_elements() instead\n",
      "  review=driver.find_elements_by_xpath(\"//p[@class='_2-N8zT']\")\n"
     ]
    },
    {
     "data": {
      "text/plain": [
       "['Brilliant',\n",
       " 'Simply awesome',\n",
       " 'Perfect product!',\n",
       " 'Worth every penny',\n",
       " 'Fabulous!',\n",
       " 'Best in the market!',\n",
       " 'Great product',\n",
       " 'Good choice',\n",
       " 'Worth every penny',\n",
       " 'Highly recommended']"
      ]
     },
     "execution_count": 22,
     "metadata": {},
     "output_type": "execute_result"
    }
   ],
   "source": [
    "review=driver.find_elements_by_xpath(\"//p[@class='_2-N8zT']\")\n",
    "review_summary=[]\n",
    "for i in review[0:100]:\n",
    "    review_summary.append(i.text)\n",
    "    \n",
    "    \n",
    "review_summary"
   ]
  },
  {
   "cell_type": "code",
   "execution_count": 23,
   "id": "0527a189",
   "metadata": {},
   "outputs": [
    {
     "name": "stderr",
     "output_type": "stream",
     "text": [
      "<ipython-input-23-2b7b3a0a77b4>:1: DeprecationWarning: find_elements_by_* commands are deprecated. Please use find_elements() instead\n",
      "  detailed_review=driver.find_elements_by_xpath(\"//div[@class='t-ZTKy']\")\n"
     ]
    },
    {
     "data": {
      "text/plain": [
       "['The Best Phone for the MoneyThe iPhone 11 offers superb cameras, a more durable design and excellent battery life for an affordable price.Compelling ultra-wide cameraNew Night mode is excellentLong battery life',\n",
       " 'Really satisfied with the Product I received... It’s totally genuine and the packaging was also really good so if ur planning to buy just go for it.',\n",
       " 'Amazing phone with great cameras and better battery which gives you the best performance. I just love the camera .',\n",
       " 'Previously I was using one plus 3t it was a great phoneAnd then I decided to upgrade I am stuck between Samsung s10 plus or iPhone 11I have seen the specs and everything were good except the display it’s somewhere between 720-1080 and it’s not even an amoled it’s an LCD displayBut I decided to go with iPhone because I have never used an IOS device I have Been an android user from the past 9 years I ordered IPhone 11 (128gb) product redMy experience after using 3 weeks1. The delivery ...READ MORE',\n",
       " 'This is my first iOS phone. I am very happy with this product. Very much satisfied with this. I love this phone.',\n",
       " 'Great iPhone very snappy experience as apple kind. Upgraded from iPhone 7.Pros-Camera top class- Battery top performed-Chipset no need to say as apple kind-Security as you expect from apple- Display super bright industry leading colouraccuracy and super responsive-Build quality as expect from apple sturdypremium durable beautiful stylish.-Os most stable os in smartphone industryCons-No 5G-Display is not based on OLED technology-Charger headphones and 1 apple stic...READ MORE',\n",
       " 'Amazing Powerful and Durable Gadget.I’m am very happy with the camera picture quality, Amazing face id unlocked in dark room, Strong battery with perfect screen size as you can carry easily in pocket. This is my third iPhone.I shifted from android Samsung Note series to iPhone because of the strong build quality and peace of mind for next 3-4 years.Don’t think to much just go for it and I suggest you to go for minimum 128gb variant or more 256gb.I’ve attached my puppy pics and no fi...READ MORE',\n",
       " 'So far it’s been an AMAZING experience coming back to iOS after nearly a decade but it’s not as versatile as android though phone is sturdy dropped it accidentally a couple of times and nothing happened fortunately camera is awesome',\n",
       " 'i11 is worthy to buy, too much happy with the product. Thank u flipkart I received the item on time..loved it..',\n",
       " 'iphone 11 is a very good phone to buy only if you can compromise for the display. The display on this is device is pretty good but you can get other options with better displays in this price segment.If you can survive with an HD+ LCD panel with thicker bezels and a notch up top then this is a very good phone for you.Cameras are awesome, battery backup excellent, great performance and a decent premium look. Good job Apple !']"
      ]
     },
     "execution_count": 23,
     "metadata": {},
     "output_type": "execute_result"
    }
   ],
   "source": [
    "detailed_review=driver.find_elements_by_xpath(\"//div[@class='t-ZTKy']\")\n",
    "full_review=[]\n",
    "for i in detailed_review[0:100]:\n",
    "    full_review.append(i.text.replace(\"\\n\",\"\"))\n",
    "    \n",
    "    \n",
    "full_review"
   ]
  },
  {
   "cell_type": "code",
   "execution_count": 24,
   "id": "ad15bc58",
   "metadata": {},
   "outputs": [
    {
     "name": "stderr",
     "output_type": "stream",
     "text": [
      "<ipython-input-24-362fffb91cea>:1: DeprecationWarning: find_elements_by_* commands are deprecated. Please use find_elements() instead\n",
      "  rating=driver.find_elements_by_xpath(\"//div[@class='_3LWZlK _1BLPMq']\")\n"
     ]
    },
    {
     "data": {
      "text/plain": [
       "['5', '5', '5', '5', '5', '5', '5', '4', '5', '5']"
      ]
     },
     "execution_count": 24,
     "metadata": {},
     "output_type": "execute_result"
    }
   ],
   "source": [
    "rating=driver.find_elements_by_xpath(\"//div[@class='_3LWZlK _1BLPMq']\")\n",
    "star_rating=[]\n",
    "for i in rating[0:100]:\n",
    "    star_rating.append(i.text)\n",
    "    \n",
    "    \n",
    "star_rating"
   ]
  },
  {
   "cell_type": "code",
   "execution_count": 25,
   "id": "995b2679",
   "metadata": {},
   "outputs": [
    {
     "name": "stderr",
     "output_type": "stream",
     "text": [
      "<ipython-input-25-b924885abe4f>:1: DeprecationWarning: find_elements_by_* commands are deprecated. Please use find_elements() instead\n",
      "  review=driver.find_elements_by_xpath(\"//p[@class='_2-N8zT']\")\n"
     ]
    },
    {
     "data": {
      "text/plain": [
       "['Brilliant',\n",
       " 'Simply awesome',\n",
       " 'Perfect product!',\n",
       " 'Worth every penny',\n",
       " 'Fabulous!',\n",
       " 'Best in the market!',\n",
       " 'Great product',\n",
       " 'Good choice',\n",
       " 'Worth every penny',\n",
       " 'Highly recommended']"
      ]
     },
     "execution_count": 25,
     "metadata": {},
     "output_type": "execute_result"
    }
   ],
   "source": [
    "review=driver.find_elements_by_xpath(\"//p[@class='_2-N8zT']\")\n",
    "review_summary=[]\n",
    "for i in review[0:100]:\n",
    "    review_summary.append(i.text)\n",
    "    \n",
    "    \n",
    "review_summary"
   ]
  },
  {
   "cell_type": "code",
   "execution_count": 26,
   "id": "fd347fbc",
   "metadata": {},
   "outputs": [
    {
     "name": "stderr",
     "output_type": "stream",
     "text": [
      "<ipython-input-26-2b7b3a0a77b4>:1: DeprecationWarning: find_elements_by_* commands are deprecated. Please use find_elements() instead\n",
      "  detailed_review=driver.find_elements_by_xpath(\"//div[@class='t-ZTKy']\")\n"
     ]
    },
    {
     "data": {
      "text/plain": [
       "['The Best Phone for the MoneyThe iPhone 11 offers superb cameras, a more durable design and excellent battery life for an affordable price.Compelling ultra-wide cameraNew Night mode is excellentLong battery life',\n",
       " 'Really satisfied with the Product I received... It’s totally genuine and the packaging was also really good so if ur planning to buy just go for it.',\n",
       " 'Amazing phone with great cameras and better battery which gives you the best performance. I just love the camera .',\n",
       " 'Previously I was using one plus 3t it was a great phoneAnd then I decided to upgrade I am stuck between Samsung s10 plus or iPhone 11I have seen the specs and everything were good except the display it’s somewhere between 720-1080 and it’s not even an amoled it’s an LCD displayBut I decided to go with iPhone because I have never used an IOS device I have Been an android user from the past 9 years I ordered IPhone 11 (128gb) product redMy experience after using 3 weeks1. The delivery ...READ MORE',\n",
       " 'This is my first iOS phone. I am very happy with this product. Very much satisfied with this. I love this phone.',\n",
       " 'Great iPhone very snappy experience as apple kind. Upgraded from iPhone 7.Pros-Camera top class- Battery top performed-Chipset no need to say as apple kind-Security as you expect from apple- Display super bright industry leading colouraccuracy and super responsive-Build quality as expect from apple sturdypremium durable beautiful stylish.-Os most stable os in smartphone industryCons-No 5G-Display is not based on OLED technology-Charger headphones and 1 apple stic...READ MORE',\n",
       " 'Amazing Powerful and Durable Gadget.I’m am very happy with the camera picture quality, Amazing face id unlocked in dark room, Strong battery with perfect screen size as you can carry easily in pocket. This is my third iPhone.I shifted from android Samsung Note series to iPhone because of the strong build quality and peace of mind for next 3-4 years.Don’t think to much just go for it and I suggest you to go for minimum 128gb variant or more 256gb.I’ve attached my puppy pics and no fi...READ MORE',\n",
       " 'So far it’s been an AMAZING experience coming back to iOS after nearly a decade but it’s not as versatile as android though phone is sturdy dropped it accidentally a couple of times and nothing happened fortunately camera is awesome',\n",
       " 'i11 is worthy to buy, too much happy with the product. Thank u flipkart I received the item on time..loved it..',\n",
       " 'iphone 11 is a very good phone to buy only if you can compromise for the display. The display on this is device is pretty good but you can get other options with better displays in this price segment.If you can survive with an HD+ LCD panel with thicker bezels and a notch up top then this is a very good phone for you.Cameras are awesome, battery backup excellent, great performance and a decent premium look. Good job Apple !']"
      ]
     },
     "execution_count": 26,
     "metadata": {},
     "output_type": "execute_result"
    }
   ],
   "source": [
    "detailed_review=driver.find_elements_by_xpath(\"//div[@class='t-ZTKy']\")\n",
    "full_review=[]\n",
    "for i in detailed_review[0:100]:\n",
    "    full_review.append(i.text.replace(\"\\n\",\"\"))\n",
    "    \n",
    "    \n",
    "full_review"
   ]
  },
  {
   "cell_type": "code",
   "execution_count": 27,
   "id": "5fe900ef",
   "metadata": {},
   "outputs": [
    {
     "name": "stderr",
     "output_type": "stream",
     "text": [
      "<ipython-input-27-362fffb91cea>:1: DeprecationWarning: find_elements_by_* commands are deprecated. Please use find_elements() instead\n",
      "  rating=driver.find_elements_by_xpath(\"//div[@class='_3LWZlK _1BLPMq']\")\n"
     ]
    },
    {
     "data": {
      "text/plain": [
       "['5', '5', '5', '5', '5', '5', '5', '4', '5', '5']"
      ]
     },
     "execution_count": 27,
     "metadata": {},
     "output_type": "execute_result"
    }
   ],
   "source": [
    "rating=driver.find_elements_by_xpath(\"//div[@class='_3LWZlK _1BLPMq']\")\n",
    "star_rating=[]\n",
    "for i in rating[0:100]:\n",
    "    star_rating.append(i.text)\n",
    "    \n",
    "    \n",
    "star_rating"
   ]
  },
  {
   "cell_type": "code",
   "execution_count": 28,
   "id": "275985b8",
   "metadata": {},
   "outputs": [
    {
     "name": "stderr",
     "output_type": "stream",
     "text": [
      "<ipython-input-28-b924885abe4f>:1: DeprecationWarning: find_elements_by_* commands are deprecated. Please use find_elements() instead\n",
      "  review=driver.find_elements_by_xpath(\"//p[@class='_2-N8zT']\")\n"
     ]
    },
    {
     "data": {
      "text/plain": [
       "['Brilliant',\n",
       " 'Simply awesome',\n",
       " 'Perfect product!',\n",
       " 'Worth every penny',\n",
       " 'Fabulous!',\n",
       " 'Best in the market!',\n",
       " 'Great product',\n",
       " 'Good choice',\n",
       " 'Worth every penny',\n",
       " 'Highly recommended']"
      ]
     },
     "execution_count": 28,
     "metadata": {},
     "output_type": "execute_result"
    }
   ],
   "source": [
    "review=driver.find_elements_by_xpath(\"//p[@class='_2-N8zT']\")\n",
    "review_summary=[]\n",
    "for i in review[0:100]:\n",
    "    review_summary.append(i.text)\n",
    "    \n",
    "    \n",
    "review_summary"
   ]
  },
  {
   "cell_type": "code",
   "execution_count": 29,
   "id": "7647ed7c",
   "metadata": {},
   "outputs": [
    {
     "name": "stderr",
     "output_type": "stream",
     "text": [
      "<ipython-input-29-2b7b3a0a77b4>:1: DeprecationWarning: find_elements_by_* commands are deprecated. Please use find_elements() instead\n",
      "  detailed_review=driver.find_elements_by_xpath(\"//div[@class='t-ZTKy']\")\n"
     ]
    },
    {
     "data": {
      "text/plain": [
       "['The Best Phone for the MoneyThe iPhone 11 offers superb cameras, a more durable design and excellent battery life for an affordable price.Compelling ultra-wide cameraNew Night mode is excellentLong battery life',\n",
       " 'Really satisfied with the Product I received... It’s totally genuine and the packaging was also really good so if ur planning to buy just go for it.',\n",
       " 'Amazing phone with great cameras and better battery which gives you the best performance. I just love the camera .',\n",
       " 'Previously I was using one plus 3t it was a great phoneAnd then I decided to upgrade I am stuck between Samsung s10 plus or iPhone 11I have seen the specs and everything were good except the display it’s somewhere between 720-1080 and it’s not even an amoled it’s an LCD displayBut I decided to go with iPhone because I have never used an IOS device I have Been an android user from the past 9 years I ordered IPhone 11 (128gb) product redMy experience after using 3 weeks1. The delivery ...READ MORE',\n",
       " 'This is my first iOS phone. I am very happy with this product. Very much satisfied with this. I love this phone.',\n",
       " 'Great iPhone very snappy experience as apple kind. Upgraded from iPhone 7.Pros-Camera top class- Battery top performed-Chipset no need to say as apple kind-Security as you expect from apple- Display super bright industry leading colouraccuracy and super responsive-Build quality as expect from apple sturdypremium durable beautiful stylish.-Os most stable os in smartphone industryCons-No 5G-Display is not based on OLED technology-Charger headphones and 1 apple stic...READ MORE',\n",
       " 'Amazing Powerful and Durable Gadget.I’m am very happy with the camera picture quality, Amazing face id unlocked in dark room, Strong battery with perfect screen size as you can carry easily in pocket. This is my third iPhone.I shifted from android Samsung Note series to iPhone because of the strong build quality and peace of mind for next 3-4 years.Don’t think to much just go for it and I suggest you to go for minimum 128gb variant or more 256gb.I’ve attached my puppy pics and no fi...READ MORE',\n",
       " 'So far it’s been an AMAZING experience coming back to iOS after nearly a decade but it’s not as versatile as android though phone is sturdy dropped it accidentally a couple of times and nothing happened fortunately camera is awesome',\n",
       " 'i11 is worthy to buy, too much happy with the product. Thank u flipkart I received the item on time..loved it..',\n",
       " 'iphone 11 is a very good phone to buy only if you can compromise for the display. The display on this is device is pretty good but you can get other options with better displays in this price segment.If you can survive with an HD+ LCD panel with thicker bezels and a notch up top then this is a very good phone for you.Cameras are awesome, battery backup excellent, great performance and a decent premium look. Good job Apple !']"
      ]
     },
     "execution_count": 29,
     "metadata": {},
     "output_type": "execute_result"
    }
   ],
   "source": [
    "detailed_review=driver.find_elements_by_xpath(\"//div[@class='t-ZTKy']\")\n",
    "full_review=[]\n",
    "for i in detailed_review[0:100]:\n",
    "    full_review.append(i.text.replace(\"\\n\",\"\"))\n",
    "    \n",
    "    \n",
    "full_review"
   ]
  },
  {
   "cell_type": "code",
   "execution_count": 30,
   "id": "5c66dbfd",
   "metadata": {},
   "outputs": [
    {
     "name": "stderr",
     "output_type": "stream",
     "text": [
      "<ipython-input-30-362fffb91cea>:1: DeprecationWarning: find_elements_by_* commands are deprecated. Please use find_elements() instead\n",
      "  rating=driver.find_elements_by_xpath(\"//div[@class='_3LWZlK _1BLPMq']\")\n"
     ]
    },
    {
     "data": {
      "text/plain": [
       "['5', '5', '5', '5', '5', '5', '5', '4', '5', '5']"
      ]
     },
     "execution_count": 30,
     "metadata": {},
     "output_type": "execute_result"
    }
   ],
   "source": [
    "rating=driver.find_elements_by_xpath(\"//div[@class='_3LWZlK _1BLPMq']\")\n",
    "star_rating=[]\n",
    "for i in rating[0:100]:\n",
    "    star_rating.append(i.text)\n",
    "    \n",
    "    \n",
    "star_rating"
   ]
  },
  {
   "cell_type": "code",
   "execution_count": 31,
   "id": "53549688",
   "metadata": {},
   "outputs": [
    {
     "name": "stderr",
     "output_type": "stream",
     "text": [
      "<ipython-input-31-b924885abe4f>:1: DeprecationWarning: find_elements_by_* commands are deprecated. Please use find_elements() instead\n",
      "  review=driver.find_elements_by_xpath(\"//p[@class='_2-N8zT']\")\n"
     ]
    },
    {
     "data": {
      "text/plain": [
       "['Brilliant',\n",
       " 'Simply awesome',\n",
       " 'Perfect product!',\n",
       " 'Worth every penny',\n",
       " 'Fabulous!',\n",
       " 'Best in the market!',\n",
       " 'Great product',\n",
       " 'Good choice',\n",
       " 'Worth every penny',\n",
       " 'Highly recommended']"
      ]
     },
     "execution_count": 31,
     "metadata": {},
     "output_type": "execute_result"
    }
   ],
   "source": [
    "review=driver.find_elements_by_xpath(\"//p[@class='_2-N8zT']\")\n",
    "review_summary=[]\n",
    "for i in review[0:100]:\n",
    "    review_summary.append(i.text)\n",
    "    \n",
    "    \n",
    "review_summary"
   ]
  },
  {
   "cell_type": "code",
   "execution_count": 32,
   "id": "1daf7ee0",
   "metadata": {},
   "outputs": [
    {
     "name": "stderr",
     "output_type": "stream",
     "text": [
      "<ipython-input-32-2b7b3a0a77b4>:1: DeprecationWarning: find_elements_by_* commands are deprecated. Please use find_elements() instead\n",
      "  detailed_review=driver.find_elements_by_xpath(\"//div[@class='t-ZTKy']\")\n"
     ]
    },
    {
     "data": {
      "text/plain": [
       "['The Best Phone for the MoneyThe iPhone 11 offers superb cameras, a more durable design and excellent battery life for an affordable price.Compelling ultra-wide cameraNew Night mode is excellentLong battery life',\n",
       " 'Really satisfied with the Product I received... It’s totally genuine and the packaging was also really good so if ur planning to buy just go for it.',\n",
       " 'Amazing phone with great cameras and better battery which gives you the best performance. I just love the camera .',\n",
       " 'Previously I was using one plus 3t it was a great phoneAnd then I decided to upgrade I am stuck between Samsung s10 plus or iPhone 11I have seen the specs and everything were good except the display it’s somewhere between 720-1080 and it’s not even an amoled it’s an LCD displayBut I decided to go with iPhone because I have never used an IOS device I have Been an android user from the past 9 years I ordered IPhone 11 (128gb) product redMy experience after using 3 weeks1. The delivery ...READ MORE',\n",
       " 'This is my first iOS phone. I am very happy with this product. Very much satisfied with this. I love this phone.',\n",
       " 'Great iPhone very snappy experience as apple kind. Upgraded from iPhone 7.Pros-Camera top class- Battery top performed-Chipset no need to say as apple kind-Security as you expect from apple- Display super bright industry leading colouraccuracy and super responsive-Build quality as expect from apple sturdypremium durable beautiful stylish.-Os most stable os in smartphone industryCons-No 5G-Display is not based on OLED technology-Charger headphones and 1 apple stic...READ MORE',\n",
       " 'Amazing Powerful and Durable Gadget.I’m am very happy with the camera picture quality, Amazing face id unlocked in dark room, Strong battery with perfect screen size as you can carry easily in pocket. This is my third iPhone.I shifted from android Samsung Note series to iPhone because of the strong build quality and peace of mind for next 3-4 years.Don’t think to much just go for it and I suggest you to go for minimum 128gb variant or more 256gb.I’ve attached my puppy pics and no fi...READ MORE',\n",
       " 'So far it’s been an AMAZING experience coming back to iOS after nearly a decade but it’s not as versatile as android though phone is sturdy dropped it accidentally a couple of times and nothing happened fortunately camera is awesome',\n",
       " 'i11 is worthy to buy, too much happy with the product. Thank u flipkart I received the item on time..loved it..',\n",
       " 'iphone 11 is a very good phone to buy only if you can compromise for the display. The display on this is device is pretty good but you can get other options with better displays in this price segment.If you can survive with an HD+ LCD panel with thicker bezels and a notch up top then this is a very good phone for you.Cameras are awesome, battery backup excellent, great performance and a decent premium look. Good job Apple !']"
      ]
     },
     "execution_count": 32,
     "metadata": {},
     "output_type": "execute_result"
    }
   ],
   "source": [
    "detailed_review=driver.find_elements_by_xpath(\"//div[@class='t-ZTKy']\")\n",
    "full_review=[]\n",
    "for i in detailed_review[0:100]:\n",
    "    full_review.append(i.text.replace(\"\\n\",\"\"))\n",
    "    \n",
    "    \n",
    "full_review"
   ]
  },
  {
   "cell_type": "code",
   "execution_count": 33,
   "id": "f64c429f",
   "metadata": {},
   "outputs": [
    {
     "name": "stderr",
     "output_type": "stream",
     "text": [
      "<ipython-input-33-362fffb91cea>:1: DeprecationWarning: find_elements_by_* commands are deprecated. Please use find_elements() instead\n",
      "  rating=driver.find_elements_by_xpath(\"//div[@class='_3LWZlK _1BLPMq']\")\n"
     ]
    },
    {
     "data": {
      "text/plain": [
       "['5', '5', '5', '5', '5', '5', '5', '4', '5', '5']"
      ]
     },
     "execution_count": 33,
     "metadata": {},
     "output_type": "execute_result"
    }
   ],
   "source": [
    "rating=driver.find_elements_by_xpath(\"//div[@class='_3LWZlK _1BLPMq']\")\n",
    "star_rating=[]\n",
    "for i in rating[0:100]:\n",
    "    star_rating.append(i.text)\n",
    "    \n",
    "    \n",
    "star_rating"
   ]
  },
  {
   "cell_type": "code",
   "execution_count": 34,
   "id": "ba23fc86",
   "metadata": {},
   "outputs": [
    {
     "name": "stderr",
     "output_type": "stream",
     "text": [
      "<ipython-input-34-b924885abe4f>:1: DeprecationWarning: find_elements_by_* commands are deprecated. Please use find_elements() instead\n",
      "  review=driver.find_elements_by_xpath(\"//p[@class='_2-N8zT']\")\n"
     ]
    },
    {
     "data": {
      "text/plain": [
       "['Brilliant',\n",
       " 'Simply awesome',\n",
       " 'Perfect product!',\n",
       " 'Worth every penny',\n",
       " 'Fabulous!',\n",
       " 'Best in the market!',\n",
       " 'Great product',\n",
       " 'Good choice',\n",
       " 'Worth every penny',\n",
       " 'Highly recommended']"
      ]
     },
     "execution_count": 34,
     "metadata": {},
     "output_type": "execute_result"
    }
   ],
   "source": [
    "review=driver.find_elements_by_xpath(\"//p[@class='_2-N8zT']\")\n",
    "review_summary=[]\n",
    "for i in review[0:100]:\n",
    "    review_summary.append(i.text)\n",
    "    \n",
    "    \n",
    "review_summary"
   ]
  },
  {
   "cell_type": "code",
   "execution_count": 35,
   "id": "fe84f12f",
   "metadata": {},
   "outputs": [
    {
     "name": "stderr",
     "output_type": "stream",
     "text": [
      "<ipython-input-35-2b7b3a0a77b4>:1: DeprecationWarning: find_elements_by_* commands are deprecated. Please use find_elements() instead\n",
      "  detailed_review=driver.find_elements_by_xpath(\"//div[@class='t-ZTKy']\")\n"
     ]
    },
    {
     "data": {
      "text/plain": [
       "['The Best Phone for the MoneyThe iPhone 11 offers superb cameras, a more durable design and excellent battery life for an affordable price.Compelling ultra-wide cameraNew Night mode is excellentLong battery life',\n",
       " 'Really satisfied with the Product I received... It’s totally genuine and the packaging was also really good so if ur planning to buy just go for it.',\n",
       " 'Amazing phone with great cameras and better battery which gives you the best performance. I just love the camera .',\n",
       " 'Previously I was using one plus 3t it was a great phoneAnd then I decided to upgrade I am stuck between Samsung s10 plus or iPhone 11I have seen the specs and everything were good except the display it’s somewhere between 720-1080 and it’s not even an amoled it’s an LCD displayBut I decided to go with iPhone because I have never used an IOS device I have Been an android user from the past 9 years I ordered IPhone 11 (128gb) product redMy experience after using 3 weeks1. The delivery ...READ MORE',\n",
       " 'This is my first iOS phone. I am very happy with this product. Very much satisfied with this. I love this phone.',\n",
       " 'Great iPhone very snappy experience as apple kind. Upgraded from iPhone 7.Pros-Camera top class- Battery top performed-Chipset no need to say as apple kind-Security as you expect from apple- Display super bright industry leading colouraccuracy and super responsive-Build quality as expect from apple sturdypremium durable beautiful stylish.-Os most stable os in smartphone industryCons-No 5G-Display is not based on OLED technology-Charger headphones and 1 apple stic...READ MORE',\n",
       " 'Amazing Powerful and Durable Gadget.I’m am very happy with the camera picture quality, Amazing face id unlocked in dark room, Strong battery with perfect screen size as you can carry easily in pocket. This is my third iPhone.I shifted from android Samsung Note series to iPhone because of the strong build quality and peace of mind for next 3-4 years.Don’t think to much just go for it and I suggest you to go for minimum 128gb variant or more 256gb.I’ve attached my puppy pics and no fi...READ MORE',\n",
       " 'So far it’s been an AMAZING experience coming back to iOS after nearly a decade but it’s not as versatile as android though phone is sturdy dropped it accidentally a couple of times and nothing happened fortunately camera is awesome',\n",
       " 'i11 is worthy to buy, too much happy with the product. Thank u flipkart I received the item on time..loved it..',\n",
       " 'iphone 11 is a very good phone to buy only if you can compromise for the display. The display on this is device is pretty good but you can get other options with better displays in this price segment.If you can survive with an HD+ LCD panel with thicker bezels and a notch up top then this is a very good phone for you.Cameras are awesome, battery backup excellent, great performance and a decent premium look. Good job Apple !']"
      ]
     },
     "execution_count": 35,
     "metadata": {},
     "output_type": "execute_result"
    }
   ],
   "source": [
    "detailed_review=driver.find_elements_by_xpath(\"//div[@class='t-ZTKy']\")\n",
    "full_review=[]\n",
    "for i in detailed_review[0:100]:\n",
    "    full_review.append(i.text.replace(\"\\n\",\"\"))\n",
    "    \n",
    "    \n",
    "full_review"
   ]
  },
  {
   "cell_type": "code",
   "execution_count": 36,
   "id": "243d40ec",
   "metadata": {},
   "outputs": [
    {
     "name": "stderr",
     "output_type": "stream",
     "text": [
      "<ipython-input-36-362fffb91cea>:1: DeprecationWarning: find_elements_by_* commands are deprecated. Please use find_elements() instead\n",
      "  rating=driver.find_elements_by_xpath(\"//div[@class='_3LWZlK _1BLPMq']\")\n"
     ]
    },
    {
     "data": {
      "text/plain": [
       "['5', '5', '5', '5', '5', '5', '5', '4', '5', '5']"
      ]
     },
     "execution_count": 36,
     "metadata": {},
     "output_type": "execute_result"
    }
   ],
   "source": [
    "rating=driver.find_elements_by_xpath(\"//div[@class='_3LWZlK _1BLPMq']\")\n",
    "star_rating=[]\n",
    "for i in rating[0:100]:\n",
    "    star_rating.append(i.text)\n",
    "    \n",
    "    \n",
    "star_rating"
   ]
  },
  {
   "cell_type": "code",
   "execution_count": 37,
   "id": "0160570c",
   "metadata": {},
   "outputs": [
    {
     "name": "stderr",
     "output_type": "stream",
     "text": [
      "<ipython-input-37-b924885abe4f>:1: DeprecationWarning: find_elements_by_* commands are deprecated. Please use find_elements() instead\n",
      "  review=driver.find_elements_by_xpath(\"//p[@class='_2-N8zT']\")\n"
     ]
    },
    {
     "data": {
      "text/plain": [
       "['Brilliant',\n",
       " 'Simply awesome',\n",
       " 'Perfect product!',\n",
       " 'Worth every penny',\n",
       " 'Fabulous!',\n",
       " 'Best in the market!',\n",
       " 'Great product',\n",
       " 'Good choice',\n",
       " 'Worth every penny',\n",
       " 'Highly recommended']"
      ]
     },
     "execution_count": 37,
     "metadata": {},
     "output_type": "execute_result"
    }
   ],
   "source": [
    "review=driver.find_elements_by_xpath(\"//p[@class='_2-N8zT']\")\n",
    "review_summary=[]\n",
    "for i in review[0:100]:\n",
    "    review_summary.append(i.text)\n",
    "    \n",
    "    \n",
    "review_summary"
   ]
  },
  {
   "cell_type": "code",
   "execution_count": 38,
   "id": "bf4559e4",
   "metadata": {},
   "outputs": [
    {
     "name": "stderr",
     "output_type": "stream",
     "text": [
      "<ipython-input-38-2b7b3a0a77b4>:1: DeprecationWarning: find_elements_by_* commands are deprecated. Please use find_elements() instead\n",
      "  detailed_review=driver.find_elements_by_xpath(\"//div[@class='t-ZTKy']\")\n"
     ]
    },
    {
     "data": {
      "text/plain": [
       "['The Best Phone for the MoneyThe iPhone 11 offers superb cameras, a more durable design and excellent battery life for an affordable price.Compelling ultra-wide cameraNew Night mode is excellentLong battery life',\n",
       " 'Really satisfied with the Product I received... It’s totally genuine and the packaging was also really good so if ur planning to buy just go for it.',\n",
       " 'Amazing phone with great cameras and better battery which gives you the best performance. I just love the camera .',\n",
       " 'Previously I was using one plus 3t it was a great phoneAnd then I decided to upgrade I am stuck between Samsung s10 plus or iPhone 11I have seen the specs and everything were good except the display it’s somewhere between 720-1080 and it’s not even an amoled it’s an LCD displayBut I decided to go with iPhone because I have never used an IOS device I have Been an android user from the past 9 years I ordered IPhone 11 (128gb) product redMy experience after using 3 weeks1. The delivery ...READ MORE',\n",
       " 'This is my first iOS phone. I am very happy with this product. Very much satisfied with this. I love this phone.',\n",
       " 'Great iPhone very snappy experience as apple kind. Upgraded from iPhone 7.Pros-Camera top class- Battery top performed-Chipset no need to say as apple kind-Security as you expect from apple- Display super bright industry leading colouraccuracy and super responsive-Build quality as expect from apple sturdypremium durable beautiful stylish.-Os most stable os in smartphone industryCons-No 5G-Display is not based on OLED technology-Charger headphones and 1 apple stic...READ MORE',\n",
       " 'Amazing Powerful and Durable Gadget.I’m am very happy with the camera picture quality, Amazing face id unlocked in dark room, Strong battery with perfect screen size as you can carry easily in pocket. This is my third iPhone.I shifted from android Samsung Note series to iPhone because of the strong build quality and peace of mind for next 3-4 years.Don’t think to much just go for it and I suggest you to go for minimum 128gb variant or more 256gb.I’ve attached my puppy pics and no fi...READ MORE',\n",
       " 'So far it’s been an AMAZING experience coming back to iOS after nearly a decade but it’s not as versatile as android though phone is sturdy dropped it accidentally a couple of times and nothing happened fortunately camera is awesome',\n",
       " 'i11 is worthy to buy, too much happy with the product. Thank u flipkart I received the item on time..loved it..',\n",
       " 'iphone 11 is a very good phone to buy only if you can compromise for the display. The display on this is device is pretty good but you can get other options with better displays in this price segment.If you can survive with an HD+ LCD panel with thicker bezels and a notch up top then this is a very good phone for you.Cameras are awesome, battery backup excellent, great performance and a decent premium look. Good job Apple !']"
      ]
     },
     "execution_count": 38,
     "metadata": {},
     "output_type": "execute_result"
    }
   ],
   "source": [
    "detailed_review=driver.find_elements_by_xpath(\"//div[@class='t-ZTKy']\")\n",
    "full_review=[]\n",
    "for i in detailed_review[0:100]:\n",
    "    full_review.append(i.text.replace(\"\\n\",\"\"))\n",
    "    \n",
    "    \n",
    "full_review"
   ]
  },
  {
   "cell_type": "code",
   "execution_count": 39,
   "id": "8f97f8b8",
   "metadata": {},
   "outputs": [
    {
     "name": "stderr",
     "output_type": "stream",
     "text": [
      "<ipython-input-39-362fffb91cea>:1: DeprecationWarning: find_elements_by_* commands are deprecated. Please use find_elements() instead\n",
      "  rating=driver.find_elements_by_xpath(\"//div[@class='_3LWZlK _1BLPMq']\")\n"
     ]
    },
    {
     "data": {
      "text/plain": [
       "['5', '5', '5', '5', '5', '5', '5', '4', '5', '5']"
      ]
     },
     "execution_count": 39,
     "metadata": {},
     "output_type": "execute_result"
    }
   ],
   "source": [
    "rating=driver.find_elements_by_xpath(\"//div[@class='_3LWZlK _1BLPMq']\")\n",
    "star_rating=[]\n",
    "for i in rating[0:100]:\n",
    "    star_rating.append(i.text)\n",
    "    \n",
    "    \n",
    "star_rating"
   ]
  },
  {
   "cell_type": "code",
   "execution_count": 40,
   "id": "92b29018",
   "metadata": {},
   "outputs": [
    {
     "name": "stderr",
     "output_type": "stream",
     "text": [
      "<ipython-input-40-b924885abe4f>:1: DeprecationWarning: find_elements_by_* commands are deprecated. Please use find_elements() instead\n",
      "  review=driver.find_elements_by_xpath(\"//p[@class='_2-N8zT']\")\n"
     ]
    },
    {
     "data": {
      "text/plain": [
       "['Brilliant',\n",
       " 'Simply awesome',\n",
       " 'Perfect product!',\n",
       " 'Worth every penny',\n",
       " 'Fabulous!',\n",
       " 'Best in the market!',\n",
       " 'Great product',\n",
       " 'Good choice',\n",
       " 'Worth every penny',\n",
       " 'Highly recommended']"
      ]
     },
     "execution_count": 40,
     "metadata": {},
     "output_type": "execute_result"
    }
   ],
   "source": [
    "review=driver.find_elements_by_xpath(\"//p[@class='_2-N8zT']\")\n",
    "review_summary=[]\n",
    "for i in review[0:100]:\n",
    "    review_summary.append(i.text)\n",
    "    \n",
    "    \n",
    "review_summary"
   ]
  },
  {
   "cell_type": "code",
   "execution_count": 41,
   "id": "72f6bdc0",
   "metadata": {},
   "outputs": [
    {
     "name": "stderr",
     "output_type": "stream",
     "text": [
      "<ipython-input-41-2b7b3a0a77b4>:1: DeprecationWarning: find_elements_by_* commands are deprecated. Please use find_elements() instead\n",
      "  detailed_review=driver.find_elements_by_xpath(\"//div[@class='t-ZTKy']\")\n"
     ]
    },
    {
     "data": {
      "text/plain": [
       "['The Best Phone for the MoneyThe iPhone 11 offers superb cameras, a more durable design and excellent battery life for an affordable price.Compelling ultra-wide cameraNew Night mode is excellentLong battery life',\n",
       " 'Really satisfied with the Product I received... It’s totally genuine and the packaging was also really good so if ur planning to buy just go for it.',\n",
       " 'Amazing phone with great cameras and better battery which gives you the best performance. I just love the camera .',\n",
       " 'Previously I was using one plus 3t it was a great phoneAnd then I decided to upgrade I am stuck between Samsung s10 plus or iPhone 11I have seen the specs and everything were good except the display it’s somewhere between 720-1080 and it’s not even an amoled it’s an LCD displayBut I decided to go with iPhone because I have never used an IOS device I have Been an android user from the past 9 years I ordered IPhone 11 (128gb) product redMy experience after using 3 weeks1. The delivery ...READ MORE',\n",
       " 'This is my first iOS phone. I am very happy with this product. Very much satisfied with this. I love this phone.',\n",
       " 'Great iPhone very snappy experience as apple kind. Upgraded from iPhone 7.Pros-Camera top class- Battery top performed-Chipset no need to say as apple kind-Security as you expect from apple- Display super bright industry leading colouraccuracy and super responsive-Build quality as expect from apple sturdypremium durable beautiful stylish.-Os most stable os in smartphone industryCons-No 5G-Display is not based on OLED technology-Charger headphones and 1 apple stic...READ MORE',\n",
       " 'Amazing Powerful and Durable Gadget.I’m am very happy with the camera picture quality, Amazing face id unlocked in dark room, Strong battery with perfect screen size as you can carry easily in pocket. This is my third iPhone.I shifted from android Samsung Note series to iPhone because of the strong build quality and peace of mind for next 3-4 years.Don’t think to much just go for it and I suggest you to go for minimum 128gb variant or more 256gb.I’ve attached my puppy pics and no fi...READ MORE',\n",
       " 'So far it’s been an AMAZING experience coming back to iOS after nearly a decade but it’s not as versatile as android though phone is sturdy dropped it accidentally a couple of times and nothing happened fortunately camera is awesome',\n",
       " 'i11 is worthy to buy, too much happy with the product. Thank u flipkart I received the item on time..loved it..',\n",
       " 'iphone 11 is a very good phone to buy only if you can compromise for the display. The display on this is device is pretty good but you can get other options with better displays in this price segment.If you can survive with an HD+ LCD panel with thicker bezels and a notch up top then this is a very good phone for you.Cameras are awesome, battery backup excellent, great performance and a decent premium look. Good job Apple !']"
      ]
     },
     "execution_count": 41,
     "metadata": {},
     "output_type": "execute_result"
    }
   ],
   "source": [
    "detailed_review=driver.find_elements_by_xpath(\"//div[@class='t-ZTKy']\")\n",
    "full_review=[]\n",
    "for i in detailed_review[0:100]:\n",
    "    full_review.append(i.text.replace(\"\\n\",\"\"))\n",
    "    \n",
    "    \n",
    "full_review"
   ]
  },
  {
   "cell_type": "code",
   "execution_count": 42,
   "id": "43dd0614",
   "metadata": {},
   "outputs": [
    {
     "name": "stdout",
     "output_type": "stream",
     "text": [
      "10 10 10\n"
     ]
    }
   ],
   "source": [
    "print(len(star_rating),len(review_summary),len(full_review))"
   ]
  },
  {
   "cell_type": "code",
   "execution_count": 43,
   "id": "571d787d",
   "metadata": {},
   "outputs": [
    {
     "data": {
      "text/html": [
       "<div>\n",
       "<style scoped>\n",
       "    .dataframe tbody tr th:only-of-type {\n",
       "        vertical-align: middle;\n",
       "    }\n",
       "\n",
       "    .dataframe tbody tr th {\n",
       "        vertical-align: top;\n",
       "    }\n",
       "\n",
       "    .dataframe thead th {\n",
       "        text-align: right;\n",
       "    }\n",
       "</style>\n",
       "<table border=\"1\" class=\"dataframe\">\n",
       "  <thead>\n",
       "    <tr style=\"text-align: right;\">\n",
       "      <th></th>\n",
       "      <th>rating</th>\n",
       "      <th>review</th>\n",
       "      <th>detailed_review</th>\n",
       "    </tr>\n",
       "  </thead>\n",
       "  <tbody>\n",
       "    <tr>\n",
       "      <th>0</th>\n",
       "      <td>5</td>\n",
       "      <td>Brilliant</td>\n",
       "      <td>The Best Phone for the MoneyThe iPhone 11 offe...</td>\n",
       "    </tr>\n",
       "    <tr>\n",
       "      <th>1</th>\n",
       "      <td>5</td>\n",
       "      <td>Simply awesome</td>\n",
       "      <td>Really satisfied with the Product I received.....</td>\n",
       "    </tr>\n",
       "    <tr>\n",
       "      <th>2</th>\n",
       "      <td>5</td>\n",
       "      <td>Perfect product!</td>\n",
       "      <td>Amazing phone with great cameras and better ba...</td>\n",
       "    </tr>\n",
       "    <tr>\n",
       "      <th>3</th>\n",
       "      <td>5</td>\n",
       "      <td>Worth every penny</td>\n",
       "      <td>Previously I was using one plus 3t it was a gr...</td>\n",
       "    </tr>\n",
       "    <tr>\n",
       "      <th>4</th>\n",
       "      <td>5</td>\n",
       "      <td>Fabulous!</td>\n",
       "      <td>This is my first iOS phone. I am very happy wi...</td>\n",
       "    </tr>\n",
       "    <tr>\n",
       "      <th>5</th>\n",
       "      <td>5</td>\n",
       "      <td>Best in the market!</td>\n",
       "      <td>Great iPhone very snappy experience as apple k...</td>\n",
       "    </tr>\n",
       "    <tr>\n",
       "      <th>6</th>\n",
       "      <td>5</td>\n",
       "      <td>Great product</td>\n",
       "      <td>Amazing Powerful and Durable Gadget.I’m am ver...</td>\n",
       "    </tr>\n",
       "    <tr>\n",
       "      <th>7</th>\n",
       "      <td>4</td>\n",
       "      <td>Good choice</td>\n",
       "      <td>So far it’s been an AMAZING experience coming ...</td>\n",
       "    </tr>\n",
       "    <tr>\n",
       "      <th>8</th>\n",
       "      <td>5</td>\n",
       "      <td>Worth every penny</td>\n",
       "      <td>i11 is worthy to buy, too much happy with the ...</td>\n",
       "    </tr>\n",
       "    <tr>\n",
       "      <th>9</th>\n",
       "      <td>5</td>\n",
       "      <td>Highly recommended</td>\n",
       "      <td>iphone 11 is a very good phone to buy only if ...</td>\n",
       "    </tr>\n",
       "  </tbody>\n",
       "</table>\n",
       "</div>"
      ],
      "text/plain": [
       "  rating               review  \\\n",
       "0      5            Brilliant   \n",
       "1      5       Simply awesome   \n",
       "2      5     Perfect product!   \n",
       "3      5    Worth every penny   \n",
       "4      5            Fabulous!   \n",
       "5      5  Best in the market!   \n",
       "6      5        Great product   \n",
       "7      4          Good choice   \n",
       "8      5    Worth every penny   \n",
       "9      5   Highly recommended   \n",
       "\n",
       "                                     detailed_review  \n",
       "0  The Best Phone for the MoneyThe iPhone 11 offe...  \n",
       "1  Really satisfied with the Product I received.....  \n",
       "2  Amazing phone with great cameras and better ba...  \n",
       "3  Previously I was using one plus 3t it was a gr...  \n",
       "4  This is my first iOS phone. I am very happy wi...  \n",
       "5  Great iPhone very snappy experience as apple k...  \n",
       "6  Amazing Powerful and Durable Gadget.I’m am ver...  \n",
       "7  So far it’s been an AMAZING experience coming ...  \n",
       "8  i11 is worthy to buy, too much happy with the ...  \n",
       "9  iphone 11 is a very good phone to buy only if ...  "
      ]
     },
     "execution_count": 43,
     "metadata": {},
     "output_type": "execute_result"
    }
   ],
   "source": [
    "import pandas as pd\n",
    "iphone=pd.DataFrame({})\n",
    "iphone['rating']=star_rating[0:100]\n",
    "iphone['review']=review_summary[0:100]\n",
    "iphone['detailed_review']=full_review[0:100]\n",
    "iphone\n"
   ]
  },
  {
   "cell_type": "markdown",
   "id": "07eb9b40",
   "metadata": {},
   "source": [
    "# Q6 sneakers"
   ]
  },
  {
   "cell_type": "code",
   "execution_count": 2,
   "id": "c0b098ef",
   "metadata": {},
   "outputs": [],
   "source": [
    "import selenium\n",
    "import pandas as pd \n",
    "from selenium import webdriver"
   ]
  },
  {
   "cell_type": "code",
   "execution_count": 3,
   "id": "46c1c512",
   "metadata": {},
   "outputs": [
    {
     "name": "stderr",
     "output_type": "stream",
     "text": [
      "<ipython-input-3-e87eaf9bc581>:1: DeprecationWarning: executable_path has been deprecated, please pass in a Service object\n",
      "  driver= webdriver.Chrome(r\"C:\\Users\\Dell\\Downloads\\chromedriver_win32/chromedriver.exe\")\n"
     ]
    }
   ],
   "source": [
    "driver= webdriver.Chrome(r\"C:\\Users\\Dell\\Downloads\\chromedriver_win32/chromedriver.exe\")"
   ]
  },
  {
   "cell_type": "code",
   "execution_count": 4,
   "id": "ea538f94",
   "metadata": {},
   "outputs": [],
   "source": [
    "driver.get('https://www.flipkart.com/search?q=sneakers&otracker=search&otracker1=search&marketplace=FLIPKART&as-show=on&as=off&as-pos=1&as-type=HISTORY')\n",
    "\n"
   ]
  },
  {
   "cell_type": "code",
   "execution_count": 47,
   "id": "f4fd8452",
   "metadata": {},
   "outputs": [],
   "source": [
    "brand_name=[]\n",
    "product_description=[]\n",
    "product_price=[]\n",
    "\n"
   ]
  },
  {
   "cell_type": "code",
   "execution_count": 5,
   "id": "31fb00d5",
   "metadata": {},
   "outputs": [
    {
     "name": "stderr",
     "output_type": "stream",
     "text": [
      "<ipython-input-5-dbb9105211b7>:1: DeprecationWarning: find_elements_by_* commands are deprecated. Please use find_elements() instead\n",
      "  brand=company=driver.find_elements_by_xpath(\"//div[@class='_2WkVRV']\")\n"
     ]
    },
    {
     "data": {
      "text/plain": [
       "['SUSON',\n",
       " 'Extoes',\n",
       " 'ASTEROID',\n",
       " 'Chevit',\n",
       " 'Magnolia',\n",
       " 'Numenzo',\n",
       " 'Chevit',\n",
       " 'otoos',\n",
       " 'Chevit',\n",
       " 'URBANBOX',\n",
       " 'Numenzo',\n",
       " 'SUSON',\n",
       " 'ASTEROID',\n",
       " 'Kraasa',\n",
       " 'FOOTGRAB',\n",
       " 'aadi',\n",
       " 'SPARX',\n",
       " 'SCATCHITE',\n",
       " 'Numenzo',\n",
       " 'PUMA',\n",
       " 'BRUTON',\n",
       " 'D-SNEAKERZ',\n",
       " 'BRUTON',\n",
       " 'BRUTON',\n",
       " 'Robbie jones',\n",
       " 'Kraasa',\n",
       " 'Arohi',\n",
       " \"Neeman's\",\n",
       " 'BIRDE',\n",
       " 'believe',\n",
       " 'Shoes Bank',\n",
       " 'Extoes',\n",
       " 'India hub',\n",
       " 'RODDICK SHOES',\n",
       " 'BRUTON',\n",
       " 'CALCADOS',\n",
       " 'SPARX',\n",
       " 'Robbie jones',\n",
       " 'India hub',\n",
       " 'FITTRACKS']"
      ]
     },
     "execution_count": 5,
     "metadata": {},
     "output_type": "execute_result"
    }
   ],
   "source": [
    "brand=company=driver.find_elements_by_xpath(\"//div[@class='_2WkVRV']\")\n",
    "\n",
    "brand_name=[]\n",
    "for i in brand[0:40]:\n",
    "    brand_name.append(i.text)\n",
    "    \n",
    "    \n",
    "brand_name"
   ]
  },
  {
   "cell_type": "code",
   "execution_count": 6,
   "id": "fd19bf77",
   "metadata": {},
   "outputs": [
    {
     "name": "stderr",
     "output_type": "stream",
     "text": [
      "<ipython-input-6-120f5c972cd0>:1: DeprecationWarning: find_elements_by_* commands are deprecated. Please use find_elements() instead\n",
      "  product= driver.find_elements_by_xpath(\"//a[@class='IRpwTa']\")\n"
     ]
    },
    {
     "data": {
      "text/plain": [
       "['Gym/Walking/Running Sneakers For Men',\n",
       " 'Modern Trendy Shoes Combo pack of 4 Sneakers For Men',\n",
       " \"Original Luxury Branded Fashionable Men's Casual Walkin...\",\n",
       " 'Super Stylish & Trendy Combo Pack of 02 Pairs Sneakers ...',\n",
       " 'Sneakers For Men',\n",
       " '411 Casual Sneakers For Men',\n",
       " 'Unique & Perfect Collection Combo Pack of 02 Shoes for ...',\n",
       " 'Sneakers For Men',\n",
       " 'Perfect & Affordable Combo Pack of 02 Pairs Sneakers Ou...',\n",
       " 'Sneakers For Men',\n",
       " 'Gym/Walking/Running Sneakers For Men',\n",
       " \"Original Luxury Branded Fashionable Men's Casual Walkin...\",\n",
       " 'Shark-41 Sneakers For Men',\n",
       " 'White Boots || High Tops || Sneakers For Men',\n",
       " 'Men White Sneakers Sneakers For Men',\n",
       " 'Sneakers Sneakers For Men',\n",
       " 'Numenzo Black Sneaker For Men Sneakers For Men',\n",
       " 'Corode IDP Sneakers For Men',\n",
       " 'Combo Pack Of 4 Casual Shoes Loafer Shoes Sneakers For ...',\n",
       " \"Casual , Partywear Sneakers Shoes For Men's And Boys Wh...\",\n",
       " 'Modern Trendy Shoes Sneakers For Men',\n",
       " 'Modern Trendy Combo Pack OF 2 Casual Shoes For Men Snea...',\n",
       " 'Casual Sneakers Shoes For Men Sneakers For Men',\n",
       " 'Series 7 Sneakers For Men',\n",
       " 'Sneakers For Men',\n",
       " 'Sports Running Shoes Sneakers For Men',\n",
       " 'Sneakers for men(black_6) Sneakers For Men',\n",
       " \"White Sneaker For Men's/Boy's Sneakers For Men\",\n",
       " 'Relaxed Attractive Combo pack of 3 Sneakers For Men',\n",
       " 'Sneakers For Men',\n",
       " 'Fashion Outdoor Canvas Casual Light Weight Lace-up Even...',\n",
       " 'Combo Pack Of 2 Latest Stylish Casual Shoes for Men Lac...',\n",
       " 'Canvas Casual Partywear Outdoor Sneakers Shoes For Mens...',\n",
       " 'Sneakers For Men',\n",
       " 'Fashionable sneaker casual shoes Sneakers For Men']"
      ]
     },
     "execution_count": 6,
     "metadata": {},
     "output_type": "execute_result"
    }
   ],
   "source": [
    "product= driver.find_elements_by_xpath(\"//a[@class='IRpwTa']\")\n",
    "\n",
    "product_description=[]\n",
    "\n",
    "for i in product[0:100]:\n",
    "    product_description.append(i.text)\n",
    "    \n",
    "    \n",
    "product_description"
   ]
  },
  {
   "cell_type": "code",
   "execution_count": 7,
   "id": "bfa2e349",
   "metadata": {},
   "outputs": [
    {
     "name": "stderr",
     "output_type": "stream",
     "text": [
      "<ipython-input-7-da19d0fb5ad2>:1: DeprecationWarning: find_elements_by_* commands are deprecated. Please use find_elements() instead\n",
      "  price= driver.find_elements_by_xpath(\"//div[@class='_30jeq3']\")\n"
     ]
    },
    {
     "data": {
      "text/plain": [
       "['₹379',\n",
       " '₹898',\n",
       " '₹499',\n",
       " '₹699',\n",
       " '₹398',\n",
       " '₹499',\n",
       " '₹599',\n",
       " '₹499',\n",
       " '₹599',\n",
       " '₹220',\n",
       " '₹479',\n",
       " '₹399',\n",
       " '₹499',\n",
       " '₹499',\n",
       " '₹549',\n",
       " '₹599',\n",
       " '₹633',\n",
       " '₹398',\n",
       " '₹499',\n",
       " '₹1,599',\n",
       " '₹666',\n",
       " '₹348',\n",
       " '₹379',\n",
       " '₹592',\n",
       " '₹379',\n",
       " '₹499',\n",
       " '₹458',\n",
       " '₹2,399',\n",
       " '₹299',\n",
       " '₹499',\n",
       " '₹345',\n",
       " '₹729',\n",
       " '₹499',\n",
       " '₹499',\n",
       " '₹592',\n",
       " '₹899',\n",
       " '₹645',\n",
       " '₹474',\n",
       " '₹448',\n",
       " '₹499']"
      ]
     },
     "execution_count": 7,
     "metadata": {},
     "output_type": "execute_result"
    }
   ],
   "source": [
    "price= driver.find_elements_by_xpath(\"//div[@class='_30jeq3']\")\n",
    " \n",
    "product_price=[]\n",
    "\n",
    "for i in price[0:100]:\n",
    "    product_price.append(i.text)\n",
    "    \n",
    "product_price"
   ]
  },
  {
   "cell_type": "code",
   "execution_count": 8,
   "id": "719403d1",
   "metadata": {},
   "outputs": [
    {
     "name": "stderr",
     "output_type": "stream",
     "text": [
      "<ipython-input-8-dbb9105211b7>:1: DeprecationWarning: find_elements_by_* commands are deprecated. Please use find_elements() instead\n",
      "  brand=company=driver.find_elements_by_xpath(\"//div[@class='_2WkVRV']\")\n"
     ]
    },
    {
     "data": {
      "text/plain": [
       "['Robbie jones',\n",
       " 'Robbie jones',\n",
       " 'Robbie jones',\n",
       " 'SUSON',\n",
       " 'luxury fashion',\n",
       " 'Chevit',\n",
       " 'Wlinzak',\n",
       " 'Extoes',\n",
       " 'T-ROCK',\n",
       " 'ESSENCE',\n",
       " 'India hub',\n",
       " 'otoos',\n",
       " 'Absolute comfort',\n",
       " 'PUMA',\n",
       " 'RODDICK SHOES',\n",
       " 'SUSON',\n",
       " 'PUMA',\n",
       " 'VORII',\n",
       " 'FEWROK',\n",
       " 'BRUTON',\n",
       " 'Edoeviv',\n",
       " 'rodox',\n",
       " 'RODDICK SHOES',\n",
       " 'aadi',\n",
       " 'URBANBOX',\n",
       " 'PEXLO',\n",
       " 'D-SNEAKERZ',\n",
       " 'BRUTON',\n",
       " 'SPARX',\n",
       " 'BRUTON',\n",
       " 'Chevit',\n",
       " 'Extoes',\n",
       " 'SPARX',\n",
       " 'Numenzo',\n",
       " 'bluemaker',\n",
       " 'PUMA',\n",
       " 'SneakerVilla',\n",
       " 'SPARX',\n",
       " 'EZBRA',\n",
       " 'CALCADOS']"
      ]
     },
     "execution_count": 8,
     "metadata": {},
     "output_type": "execute_result"
    }
   ],
   "source": [
    "brand=company=driver.find_elements_by_xpath(\"//div[@class='_2WkVRV']\")\n",
    "\n",
    "brand_name=[]\n",
    "for i in brand[0:40]:\n",
    "    brand_name.append(i.text)\n",
    "    \n",
    "    \n",
    "brand_name"
   ]
  },
  {
   "cell_type": "code",
   "execution_count": 9,
   "id": "a5efcfe9",
   "metadata": {},
   "outputs": [
    {
     "name": "stderr",
     "output_type": "stream",
     "text": [
      "<ipython-input-9-120f5c972cd0>:1: DeprecationWarning: find_elements_by_* commands are deprecated. Please use find_elements() instead\n",
      "  product= driver.find_elements_by_xpath(\"//a[@class='IRpwTa']\")\n"
     ]
    },
    {
     "data": {
      "text/plain": [
       "['Sneakers For Men',\n",
       " 'Sneakers For Men',\n",
       " 'Sneakers For Men',\n",
       " 'Gym/Walking/Running Sneakers For Men',\n",
       " 'Luxury Fashionable casual sneaker shoes Sneakers For Me...',\n",
       " 'Smart Casuals Canvas Shoes Combo pack of 2 Sneakers For...',\n",
       " 'Modern Trendy Shoes Combo pack of 4 Sneakers For Men',\n",
       " 'Synthetic Leather Casual Partywear Wedding Sneakers Sho...',\n",
       " 'Sneakers For Men',\n",
       " 'Fashionable casual sneakers shoes Sneakers For Men',\n",
       " 'Sneakers For Men',\n",
       " 'Perforated Low IDP Sneakers For Men',\n",
       " 'Fashion Outdoor Canvas Casual Light Weight Lace-up Even...',\n",
       " 'Gym/Walking/Running Sneakers For Men',\n",
       " 'Puma Wired Cage Sneakers For Men',\n",
       " 'Combo Pack of 2 Sports Running LightWeight Winter Shoes...',\n",
       " \"Luxury Branded Fashionable Men's Casual Walking Partywe...\",\n",
       " 'Fashion Outdoor Canvas Casual Light Weight Lace-up Even...',\n",
       " 'Lightweight Combo Pack of 02 Pair Casual Sneaker Canvas...',\n",
       " \"Casual , Partywear Sneakers Shoes For Men's And Boys Wh...\",\n",
       " 'Modern Trendy Combo Pack OF 2 Casual Shoes For Men Snea...',\n",
       " 'SM-675 Sneakers For Men',\n",
       " 'Combo Pack of 2 Sports Running LightWeight Shoes Sneake...',\n",
       " 'Affordable Combo Pack of 03 Pairs Sneakers Outdoor Loaf...',\n",
       " 'Relaxed Attractive Combo pack of 3 Sneakers For Men',\n",
       " 'SM-322 Sneakers For Men',\n",
       " 'Sneakers For Men',\n",
       " 'casual for men (blue 06) Sneakers For Men',\n",
       " 'Corode IDP Sneakers For Men']"
      ]
     },
     "execution_count": 9,
     "metadata": {},
     "output_type": "execute_result"
    }
   ],
   "source": [
    "product= driver.find_elements_by_xpath(\"//a[@class='IRpwTa']\")\n",
    "\n",
    "product_description=[]\n",
    "\n",
    "for i in product[0:100]:\n",
    "    product_description.append(i.text)\n",
    "    \n",
    "    \n",
    "product_description"
   ]
  },
  {
   "cell_type": "code",
   "execution_count": 10,
   "id": "82ce2952",
   "metadata": {},
   "outputs": [
    {
     "name": "stderr",
     "output_type": "stream",
     "text": [
      "<ipython-input-10-da19d0fb5ad2>:1: DeprecationWarning: find_elements_by_* commands are deprecated. Please use find_elements() instead\n",
      "  price= driver.find_elements_by_xpath(\"//div[@class='_30jeq3']\")\n"
     ]
    },
    {
     "data": {
      "text/plain": [
       "['₹474',\n",
       " '₹426',\n",
       " '₹474',\n",
       " '₹379',\n",
       " '₹449',\n",
       " '₹399',\n",
       " '₹399',\n",
       " '₹898',\n",
       " '₹379',\n",
       " '₹499',\n",
       " '₹499',\n",
       " '₹499',\n",
       " '₹166',\n",
       " '₹1,599',\n",
       " '₹499',\n",
       " '₹399',\n",
       " '₹1,719',\n",
       " '₹469',\n",
       " '₹399',\n",
       " '₹499',\n",
       " '₹499',\n",
       " '₹699',\n",
       " '₹499',\n",
       " '₹599',\n",
       " '₹166',\n",
       " '₹598',\n",
       " '₹384',\n",
       " '₹592',\n",
       " '₹795',\n",
       " '₹474',\n",
       " '₹799',\n",
       " '₹729',\n",
       " '₹819',\n",
       " '₹499',\n",
       " '₹474',\n",
       " '₹1,599',\n",
       " '₹549',\n",
       " '₹649',\n",
       " '₹343',\n",
       " '₹899']"
      ]
     },
     "execution_count": 10,
     "metadata": {},
     "output_type": "execute_result"
    }
   ],
   "source": [
    "price= driver.find_elements_by_xpath(\"//div[@class='_30jeq3']\")\n",
    " \n",
    "product_price=[]\n",
    "\n",
    "for i in price[0:100]:\n",
    "    product_price.append(i.text)\n",
    "    \n",
    "product_price"
   ]
  },
  {
   "cell_type": "code",
   "execution_count": 11,
   "id": "e4482be2",
   "metadata": {},
   "outputs": [
    {
     "name": "stderr",
     "output_type": "stream",
     "text": [
      "<ipython-input-11-dbb9105211b7>:1: DeprecationWarning: find_elements_by_* commands are deprecated. Please use find_elements() instead\n",
      "  brand=company=driver.find_elements_by_xpath(\"//div[@class='_2WkVRV']\")\n"
     ]
    },
    {
     "data": {
      "text/plain": [
       "['bluemaker',\n",
       " 'PUMA',\n",
       " 'ASIAN',\n",
       " 'Stinson',\n",
       " 'RapidBox',\n",
       " 'Labbin',\n",
       " 'Clymb',\n",
       " 'ENJOY the celebration people',\n",
       " 'ESSENCE',\n",
       " 'HOTSTYLE',\n",
       " 'Echor',\n",
       " \"Neeman's\",\n",
       " 'RODDICK SHOES',\n",
       " 'LuvShus',\n",
       " 'Echor',\n",
       " 'BIRDE',\n",
       " 'Robbie jones',\n",
       " 'India hub',\n",
       " 'Robbie jones',\n",
       " 'PUMA',\n",
       " 'BIRDE',\n",
       " 'Robbie jones',\n",
       " 'Jack Diamond',\n",
       " 'FITTRACKS',\n",
       " 'SPARX',\n",
       " 'Xtoon',\n",
       " 'HOC',\n",
       " \"Neeman's\",\n",
       " 'BRUTON',\n",
       " 'BOOYO',\n",
       " 'SPADE CLUB',\n",
       " 'Shuzer68',\n",
       " 'ESSENCE',\n",
       " 'PEXLO',\n",
       " 'BIRDE',\n",
       " 'Delize',\n",
       " 'Robbie jones',\n",
       " 'Vedboy',\n",
       " 'Nobelite',\n",
       " 'EEKEN']"
      ]
     },
     "execution_count": 11,
     "metadata": {},
     "output_type": "execute_result"
    }
   ],
   "source": [
    "brand=company=driver.find_elements_by_xpath(\"//div[@class='_2WkVRV']\")\n",
    "\n",
    "brand_name=[]\n",
    "for i in brand[0:40]:\n",
    "    brand_name.append(i.text)\n",
    "    \n",
    "    \n",
    "brand_name"
   ]
  },
  {
   "cell_type": "code",
   "execution_count": 12,
   "id": "bddcd114",
   "metadata": {},
   "outputs": [
    {
     "name": "stderr",
     "output_type": "stream",
     "text": [
      "<ipython-input-12-120f5c972cd0>:1: DeprecationWarning: find_elements_by_* commands are deprecated. Please use find_elements() instead\n",
      "  product= driver.find_elements_by_xpath(\"//a[@class='IRpwTa']\")\n"
     ]
    },
    {
     "data": {
      "text/plain": [
       "['casual for men (beige 06) Sneakers For Men',\n",
       " 'Plank Eng Knit Slipon IDP Sneakers For Men',\n",
       " 'Skypy-31 Walking Shoes,Training Shoes,Sneakers,Loafers,...',\n",
       " 'Relaxed Attractive Combo pack of 2 Sneakers For Men',\n",
       " 'Casual Sneakers White Shoes For Men And Boys Sneakers F...',\n",
       " 'Mesh Sports/Walking Shoes/Outdoor Ultra Lightweight Run...',\n",
       " 'Mesh And Rubber Casual Partywear New Design Stylish Par...',\n",
       " 'Luxury Fashionable casual sneaker shoes and partywear s...',\n",
       " \"Men's Sneakers Fashion Lightweight Running Shoes Tennis...\",\n",
       " 'Men Casual Shoe New Trend With Fashion Panda Desgined L...',\n",
       " \"Men's Canvas Low Top Sneakers Lace-up Classic Casual Sn...\",\n",
       " 'Sneakers For Men',\n",
       " 'Casual Sneakers Shoes For Men And Boys Sneakers For Men',\n",
       " 'Sneakers For Men',\n",
       " 'Sneakers For Men',\n",
       " 'Pacer Laser IDP Sneakers For Men',\n",
       " 'Birde Trendy Casual Shoes Sneakers For Men',\n",
       " 'Casual Sneakers Green Shoes For Men And Boys Sneakers F...',\n",
       " 'Casual Sneakers Sneakers For Men',\n",
       " \"white Casual shoes,Sneakers for men's Sneakers For Men\",\n",
       " 'Luxury Fashionable Breathable Casual Sneakers Shoes For...',\n",
       " 'Lattest Sneakers Shoe Sneakers For Men',\n",
       " 'Sneakers For Men',\n",
       " 'Trendy Sneakers For Men',\n",
       " 'Combo Pack of 3 Casual Sneakers Shoes Sneakers For Men',\n",
       " 'Birde Trendy Casual Shoes Sneakers For Men',\n",
       " 'Casual Sneakers Green Shoes For Men And Boys Sneakers F...',\n",
       " 'Sneakers For Men (White) Sneakers For Men',\n",
       " 'Sneakers For Men']"
      ]
     },
     "execution_count": 12,
     "metadata": {},
     "output_type": "execute_result"
    }
   ],
   "source": [
    "product= driver.find_elements_by_xpath(\"//a[@class='IRpwTa']\")\n",
    "\n",
    "product_description=[]\n",
    "\n",
    "for i in product[0:100]:\n",
    "    product_description.append(i.text)\n",
    "    \n",
    "    \n",
    "product_description"
   ]
  },
  {
   "cell_type": "code",
   "execution_count": 13,
   "id": "68011fe3",
   "metadata": {},
   "outputs": [
    {
     "name": "stderr",
     "output_type": "stream",
     "text": [
      "<ipython-input-13-da19d0fb5ad2>:1: DeprecationWarning: find_elements_by_* commands are deprecated. Please use find_elements() instead\n",
      "  price= driver.find_elements_by_xpath(\"//div[@class='_30jeq3']\")\n"
     ]
    },
    {
     "data": {
      "text/plain": [
       "['₹474',\n",
       " '₹2,359',\n",
       " '₹399',\n",
       " '₹498',\n",
       " '₹580',\n",
       " '₹379',\n",
       " '₹259',\n",
       " '₹599',\n",
       " '₹499',\n",
       " '₹199',\n",
       " '₹499',\n",
       " '₹2,399',\n",
       " '₹499',\n",
       " '₹442',\n",
       " '₹399',\n",
       " '₹499',\n",
       " '₹474',\n",
       " '₹499',\n",
       " '₹474',\n",
       " '₹1,569',\n",
       " '₹299',\n",
       " '₹474',\n",
       " '₹645',\n",
       " '₹499',\n",
       " '₹1,039',\n",
       " '₹449',\n",
       " '₹439',\n",
       " '₹2,399',\n",
       " '₹299',\n",
       " '₹449',\n",
       " '₹699',\n",
       " '₹437',\n",
       " '₹499',\n",
       " '₹698',\n",
       " '₹299',\n",
       " '₹2,429',\n",
       " '₹474',\n",
       " '₹441',\n",
       " '₹247',\n",
       " '₹2,399']"
      ]
     },
     "execution_count": 13,
     "metadata": {},
     "output_type": "execute_result"
    }
   ],
   "source": [
    "price= driver.find_elements_by_xpath(\"//div[@class='_30jeq3']\")\n",
    " \n",
    "product_price=[]\n",
    "\n",
    "for i in price[0:100]:\n",
    "    product_price.append(i.text)\n",
    "    \n",
    "product_price"
   ]
  },
  {
   "cell_type": "code",
   "execution_count": 14,
   "id": "792ada07",
   "metadata": {},
   "outputs": [
    {
     "name": "stderr",
     "output_type": "stream",
     "text": [
      "<ipython-input-14-dbb9105211b7>:1: DeprecationWarning: find_elements_by_* commands are deprecated. Please use find_elements() instead\n",
      "  brand=company=driver.find_elements_by_xpath(\"//div[@class='_2WkVRV']\")\n"
     ]
    },
    {
     "data": {
      "text/plain": [
       "['SPARX',\n",
       " 'ASIAN',\n",
       " 'BIRDE',\n",
       " 'PUMA',\n",
       " 'EZBRA',\n",
       " 'Robbie jones',\n",
       " 'SPARX',\n",
       " 'ALBERTO TORRESI',\n",
       " 'HOCKWOOD',\n",
       " 'FOOTGRAB',\n",
       " 'aadi',\n",
       " \"Neeman's\",\n",
       " 'Absolute comfort',\n",
       " 'PEXLO',\n",
       " 'Clymb',\n",
       " 'CAYZER',\n",
       " 'HOTSTYLE',\n",
       " 'STRANGER BROTHERS',\n",
       " 'SneakerVilla',\n",
       " 'shoexpress',\n",
       " 'Chevit',\n",
       " 'bluemaker',\n",
       " 'OUTALYFE',\n",
       " 'ADIDAS',\n",
       " 'EZDEZARIO',\n",
       " 'Vans on',\n",
       " 'KNIGHT WALKERS',\n",
       " 'West Code',\n",
       " 'PUMA',\n",
       " 'Echor',\n",
       " 'CALCADOS',\n",
       " 'EEKEN',\n",
       " 'SPARX',\n",
       " 'asics',\n",
       " 'Chevit',\n",
       " 'EEKEN',\n",
       " 'PEHANOSA',\n",
       " 'SPARX',\n",
       " 'BRUTON',\n",
       " 'EEKEN']"
      ]
     },
     "execution_count": 14,
     "metadata": {},
     "output_type": "execute_result"
    }
   ],
   "source": [
    "brand=company=driver.find_elements_by_xpath(\"//div[@class='_2WkVRV']\")\n",
    "\n",
    "brand_name=[]\n",
    "for i in brand[0:40]:\n",
    "    brand_name.append(i.text)\n",
    "    \n",
    "    \n",
    "brand_name"
   ]
  },
  {
   "cell_type": "code",
   "execution_count": 15,
   "id": "84bb8066",
   "metadata": {},
   "outputs": [
    {
     "name": "stderr",
     "output_type": "stream",
     "text": [
      "<ipython-input-15-120f5c972cd0>:1: DeprecationWarning: find_elements_by_* commands are deprecated. Please use find_elements() instead\n",
      "  product= driver.find_elements_by_xpath(\"//a[@class='IRpwTa']\")\n"
     ]
    },
    {
     "data": {
      "text/plain": [
       "['Skypy-31 Walking Shoes,Training Shoes,Sneakers,Loafers,...',\n",
       " 'Trendy Casual Shoes Sneakers For Men',\n",
       " 'Vikky v2 Sneakers For Men',\n",
       " 'Casual Sneakers White Shoes For Men Sneakers For Men',\n",
       " 'SM-322 Sneakers For Men',\n",
       " 'Sneakers For Men',\n",
       " 'Combo Pack of 3 Casual Sneakers Shoes Sneakers For Men',\n",
       " 'Mesh Casual/Walking Shoes/Outdoor Ultra Lightweight Sne...',\n",
       " 'Sneakers For Men',\n",
       " 'Sneakers For Men',\n",
       " 'Smart Casuals Canvas Shoes Combo pack of 2 Sneakers For...',\n",
       " 'casual shoe for men Sneakers For Men',\n",
       " 'Latest collection, Casual Party Wear Comfortable, Flexi...',\n",
       " 'Advantage Base Sneakers For Men',\n",
       " 'Casual Sneakers Shoes For Men Sneakers For Men Sneakers...',\n",
       " 'Sneakers For Men',\n",
       " 'BMW Motorsport Kart Cat-X Tech Sneakers For Men',\n",
       " \"Men's Sneakers Walking Shoes - Lightweight Classic Whit...\",\n",
       " 'Monday from the House of Paragon Sneakers For Men',\n",
       " 'Sneakers For Men',\n",
       " 'AMPLICA Sneakers For Men',\n",
       " 'Combo Pack of 3 Casual Shoes (Sneakers Shoes) Sneakers ...',\n",
       " 'Samstag from the House of Paragon Sneakers For Men',\n",
       " 'Sneaker for men Sneakers For Men',\n",
       " 'Modern & Trendy Collection Combo Pack of 02 Shoes for M...',\n",
       " 'Samstag from the House of Paragon Sneakers For Men']"
      ]
     },
     "execution_count": 15,
     "metadata": {},
     "output_type": "execute_result"
    }
   ],
   "source": [
    "product= driver.find_elements_by_xpath(\"//a[@class='IRpwTa']\")\n",
    "\n",
    "product_description=[]\n",
    "\n",
    "for i in product[0:100]:\n",
    "    product_description.append(i.text)\n",
    "    \n",
    "    \n",
    "product_description"
   ]
  },
  {
   "cell_type": "code",
   "execution_count": 16,
   "id": "73fe2ecb",
   "metadata": {},
   "outputs": [
    {
     "name": "stderr",
     "output_type": "stream",
     "text": [
      "<ipython-input-16-da19d0fb5ad2>:1: DeprecationWarning: find_elements_by_* commands are deprecated. Please use find_elements() instead\n",
      "  price= driver.find_elements_by_xpath(\"//div[@class='_30jeq3']\")\n"
     ]
    },
    {
     "data": {
      "text/plain": [
       "['₹778',\n",
       " '₹399',\n",
       " '₹299',\n",
       " '₹1,599',\n",
       " '₹343',\n",
       " '₹474',\n",
       " '₹785',\n",
       " '₹943',\n",
       " '₹698',\n",
       " '₹549',\n",
       " '₹379',\n",
       " '₹2,399',\n",
       " '₹259',\n",
       " '₹698',\n",
       " '₹259',\n",
       " '₹399',\n",
       " '₹298',\n",
       " '₹421',\n",
       " '₹499',\n",
       " '₹2,069',\n",
       " '₹399',\n",
       " '₹474',\n",
       " '₹414',\n",
       " '₹4,999',\n",
       " '₹449',\n",
       " '₹1,490',\n",
       " '₹599',\n",
       " '₹1,291',\n",
       " '₹4,499',\n",
       " '₹469',\n",
       " '₹899',\n",
       " '₹1,699',\n",
       " '₹645',\n",
       " '₹2,749',\n",
       " '₹707',\n",
       " '₹1,599',\n",
       " '₹399',\n",
       " '₹755',\n",
       " '₹474',\n",
       " '₹1,599']"
      ]
     },
     "execution_count": 16,
     "metadata": {},
     "output_type": "execute_result"
    }
   ],
   "source": [
    "price= driver.find_elements_by_xpath(\"//div[@class='_30jeq3']\")\n",
    " \n",
    "product_price=[]\n",
    "\n",
    "for i in price[0:100]:\n",
    "    product_price.append(i.text)\n",
    "    \n",
    "product_price"
   ]
  },
  {
   "cell_type": "code",
   "execution_count": 17,
   "id": "16a9757a",
   "metadata": {},
   "outputs": [
    {
     "name": "stdout",
     "output_type": "stream",
     "text": [
      "40 26 40\n"
     ]
    }
   ],
   "source": [
    "print(len(brand_name),len(product_description),len(product_price))"
   ]
  },
  {
   "cell_type": "markdown",
   "id": "77f725ec",
   "metadata": {},
   "source": [
    "# Q8 LAPTOP DATA SCRAPPING"
   ]
  },
  {
   "cell_type": "code",
   "execution_count": 3,
   "id": "43ca17aa",
   "metadata": {},
   "outputs": [],
   "source": [
    "import selenium\n",
    "import pandas as pd \n",
    "from selenium import webdriver"
   ]
  },
  {
   "cell_type": "code",
   "execution_count": 4,
   "id": "b3516aaf",
   "metadata": {},
   "outputs": [
    {
     "name": "stderr",
     "output_type": "stream",
     "text": [
      "<ipython-input-4-e87eaf9bc581>:1: DeprecationWarning: executable_path has been deprecated, please pass in a Service object\n",
      "  driver= webdriver.Chrome(r\"C:\\Users\\Dell\\Downloads\\chromedriver_win32/chromedriver.exe\")\n"
     ]
    }
   ],
   "source": [
    "driver= webdriver.Chrome(r\"C:\\Users\\Dell\\Downloads\\chromedriver_win32/chromedriver.exe\")"
   ]
  },
  {
   "cell_type": "code",
   "execution_count": 5,
   "id": "62db1393",
   "metadata": {},
   "outputs": [],
   "source": [
    "driver.get(\"https://www.amazon.in/s?k=laptop&i=computers&rh=n%3A1375424031%2Cp_n_feature_thirteen_browse-bin%3A12598162031&dc&qid=1636625055&rnid=12598141031&ref=sr_nr_p_n_feature_thirteen_browse-bin_11\")"
   ]
  },
  {
   "cell_type": "code",
   "execution_count": 8,
   "id": "992cc3dd",
   "metadata": {},
   "outputs": [
    {
     "name": "stderr",
     "output_type": "stream",
     "text": [
      "<ipython-input-8-48ef181e4d32>:1: DeprecationWarning: find_elements_by_* commands are deprecated. Please use find_elements() instead\n",
      "  title= driver.find_elements_by_xpath(\"//a[@class='a-link-normal a-text-normal']\")\n"
     ]
    },
    {
     "data": {
      "text/plain": [
       "['LG Gram 17 Ultra-Light 11th Gen Intel Core i5 17 inches Business Laptop (8 GB RAM, 512 GB SSD, Windows 10 Home, Iris Xe Graphics, Thunderbolt 4, USC C x 2 with Power, 1.35 kg, Black - 17Z90P-G.AJ55A2',\n",
       " 'Lenovo ThinkBook 13s Intel 11th Gen Core i5 13.3\"(33.78 cm) WQXGA IPS 300 nits 100% sRGB Dolby Vision Thin and Light Laptop (16GB/1TB SSD/Windows 10/MS Office/FPR/Mineral Grey/1.26 Kg), 20V9A05JIH',\n",
       " 'Lenovo V14 Intel Core i5 11th Gen 14\" (35.56cm) FHD IPS 300 nits Thin and Light Laptop (8GB RAM/256GB SSD/Windows 10/MS Office/Iris® Xe Graphics/1 Year Onsite Warranty/1.60 kg), 82KA00LKIH',\n",
       " '(Renewed) Dell Latitude Intel 4th Gen Core i5 14-Inch (35.56 cms) 1366x768 Laptop (4 GB/120 GB SSD/Windows 10/Integrated Graphics/Gray/2 kg), E5440-i5-4 GB-120 GB',\n",
       " '(Renewed) Dell Latitude Intel 2nd Gen Core i5 14 inches 1366x768 Business Laptop (4 GB/250 GB/Windows 7 Professional OEM COA/HD Graphics 3000/Greyish Silver/1.80 kg), E6420',\n",
       " 'HP 14 11th Gen Intel Core i5 Processor 14 inches HD Laptop, 8GB/512GB SSD/Windows 10/MS Office (Natural Silver/1.46Kg), 14s-dq2535TU',\n",
       " 'ASUS TUF Gaming F15, 15.6-inch (39.62 cms) FHD 144Hz, Core i5-10300H 10th Gen, GTX 1650 Ti 4GB Graphics, Gaming Laptop (8GB/512GB SSD/1-Month Office 365 Trial/Windows 10/Gray/2.3 Kg), FX566LI-HN272T',\n",
       " '(Renewed) Dell Latitude 14-inch (35.56 cm) HD Business Laptop (Core i5 3rd Gen/8 GB RAM/500 GB/Webcam/Wifi/Bluetooth 4.0/USB 3.0/Windows 10 Pro/MS Office 19/Pan India Warranty)',\n",
       " 'HP Pavilion (2021) Intel 11th Gen Core i5 14 inches FHD Screen Thin & Light Laptop, 16GB RAM, 512GB SSD, Iris Xe Graphics, Windows 11, MS Office, Backlit Keyboard, 1.41kg, Natural Silver (14-dv0054TU)',\n",
       " 'Lenovo IdeaPad Slim 3 10th Gen Intel Core i5 15.6\" (39.62cm) FHD IPS Thin & Light Laptop (8GB/512GB SSD/Windows 10/MS Office/2 Yr Warranty/Platinum Grey/1.7Kg), 81WB013AIN']"
      ]
     },
     "execution_count": 8,
     "metadata": {},
     "output_type": "execute_result"
    }
   ],
   "source": [
    "title= driver.find_elements_by_xpath(\"//a[@class='a-link-normal a-text-normal']\")\n",
    "\n",
    "product_title=[]\n",
    "\n",
    "for i in title[0:10]:\n",
    "    product_title.append(i.text)\n",
    "    \n",
    "    \n",
    "product_title"
   ]
  },
  {
   "cell_type": "code",
   "execution_count": 11,
   "id": "b4a7bef7",
   "metadata": {},
   "outputs": [
    {
     "name": "stderr",
     "output_type": "stream",
     "text": [
      "<ipython-input-11-9b91d4031f6b>:1: DeprecationWarning: find_elements_by_* commands are deprecated. Please use find_elements() instead\n",
      "  rating= driver.find_elements_by_xpath(\"//div[@class='a-row a-size-small']\")\n"
     ]
    },
    {
     "data": {
      "text/plain": [
       "['34', '41', '4', '2', '1', '666', '1,316', '8', '1,277', '238']"
      ]
     },
     "execution_count": 11,
     "metadata": {},
     "output_type": "execute_result"
    }
   ],
   "source": [
    "rating= driver.find_elements_by_xpath(\"//div[@class='a-row a-size-small']\")\n",
    "\n",
    "star_rating=[]\n",
    "\n",
    "for i in rating[0:10]:\n",
    "    star_rating.append(i.text)\n",
    "    \n",
    "    \n",
    "star_rating"
   ]
  },
  {
   "cell_type": "code",
   "execution_count": 13,
   "id": "ac84c561",
   "metadata": {},
   "outputs": [
    {
     "name": "stderr",
     "output_type": "stream",
     "text": [
      "<ipython-input-13-bc9b519aaa7b>:1: DeprecationWarning: find_elements_by_* commands are deprecated. Please use find_elements() instead\n",
      "  price= driver.find_elements_by_xpath(\"//span[@class='a-price-whole']\")\n"
     ]
    },
    {
     "data": {
      "text/plain": [
       "['92,255',\n",
       " '76,990',\n",
       " '48,990',\n",
       " '24,990',\n",
       " '26,999',\n",
       " '56,490',\n",
       " '63,990',\n",
       " '27,990',\n",
       " '66,990',\n",
       " '53,990']"
      ]
     },
     "execution_count": 13,
     "metadata": {},
     "output_type": "execute_result"
    }
   ],
   "source": [
    "price= driver.find_elements_by_xpath(\"//span[@class='a-price-whole']\")\n",
    " \n",
    "product_price=[]\n",
    "\n",
    "for i in price[0:10]:\n",
    "    product_price.append(i.text)\n",
    "    \n",
    "product_price"
   ]
  },
  {
   "cell_type": "code",
   "execution_count": 14,
   "id": "b91a9c29",
   "metadata": {},
   "outputs": [
    {
     "name": "stdout",
     "output_type": "stream",
     "text": [
      "10 10 10\n"
     ]
    }
   ],
   "source": [
    "print(len(product_title),len(star_rating),len(product_price))"
   ]
  },
  {
   "cell_type": "code",
   "execution_count": 16,
   "id": "1a99afc1",
   "metadata": {},
   "outputs": [
    {
     "data": {
      "text/html": [
       "<div>\n",
       "<style scoped>\n",
       "    .dataframe tbody tr th:only-of-type {\n",
       "        vertical-align: middle;\n",
       "    }\n",
       "\n",
       "    .dataframe tbody tr th {\n",
       "        vertical-align: top;\n",
       "    }\n",
       "\n",
       "    .dataframe thead th {\n",
       "        text-align: right;\n",
       "    }\n",
       "</style>\n",
       "<table border=\"1\" class=\"dataframe\">\n",
       "  <thead>\n",
       "    <tr style=\"text-align: right;\">\n",
       "      <th></th>\n",
       "      <th>Title</th>\n",
       "      <th>Rating</th>\n",
       "      <th>Price</th>\n",
       "    </tr>\n",
       "  </thead>\n",
       "  <tbody>\n",
       "    <tr>\n",
       "      <th>0</th>\n",
       "      <td>LG Gram 17 Ultra-Light 11th Gen Intel Core i5 ...</td>\n",
       "      <td>34</td>\n",
       "      <td>92,255</td>\n",
       "    </tr>\n",
       "    <tr>\n",
       "      <th>1</th>\n",
       "      <td>Lenovo ThinkBook 13s Intel 11th Gen Core i5 13...</td>\n",
       "      <td>41</td>\n",
       "      <td>76,990</td>\n",
       "    </tr>\n",
       "    <tr>\n",
       "      <th>2</th>\n",
       "      <td>Lenovo V14 Intel Core i5 11th Gen 14\" (35.56cm...</td>\n",
       "      <td>4</td>\n",
       "      <td>48,990</td>\n",
       "    </tr>\n",
       "    <tr>\n",
       "      <th>3</th>\n",
       "      <td>(Renewed) Dell Latitude Intel 4th Gen Core i5 ...</td>\n",
       "      <td>2</td>\n",
       "      <td>24,990</td>\n",
       "    </tr>\n",
       "    <tr>\n",
       "      <th>4</th>\n",
       "      <td>(Renewed) Dell Latitude Intel 2nd Gen Core i5 ...</td>\n",
       "      <td>1</td>\n",
       "      <td>26,999</td>\n",
       "    </tr>\n",
       "    <tr>\n",
       "      <th>5</th>\n",
       "      <td>HP 14 11th Gen Intel Core i5 Processor 14 inch...</td>\n",
       "      <td>666</td>\n",
       "      <td>56,490</td>\n",
       "    </tr>\n",
       "    <tr>\n",
       "      <th>6</th>\n",
       "      <td>ASUS TUF Gaming F15, 15.6-inch (39.62 cms) FHD...</td>\n",
       "      <td>1,316</td>\n",
       "      <td>63,990</td>\n",
       "    </tr>\n",
       "    <tr>\n",
       "      <th>7</th>\n",
       "      <td>(Renewed) Dell Latitude 14-inch (35.56 cm) HD ...</td>\n",
       "      <td>8</td>\n",
       "      <td>27,990</td>\n",
       "    </tr>\n",
       "    <tr>\n",
       "      <th>8</th>\n",
       "      <td>HP Pavilion (2021) Intel 11th Gen Core i5 14 i...</td>\n",
       "      <td>1,277</td>\n",
       "      <td>66,990</td>\n",
       "    </tr>\n",
       "    <tr>\n",
       "      <th>9</th>\n",
       "      <td>Lenovo IdeaPad Slim 3 10th Gen Intel Core i5 1...</td>\n",
       "      <td>238</td>\n",
       "      <td>53,990</td>\n",
       "    </tr>\n",
       "  </tbody>\n",
       "</table>\n",
       "</div>"
      ],
      "text/plain": [
       "                                               Title Rating   Price\n",
       "0  LG Gram 17 Ultra-Light 11th Gen Intel Core i5 ...     34  92,255\n",
       "1  Lenovo ThinkBook 13s Intel 11th Gen Core i5 13...     41  76,990\n",
       "2  Lenovo V14 Intel Core i5 11th Gen 14\" (35.56cm...      4  48,990\n",
       "3  (Renewed) Dell Latitude Intel 4th Gen Core i5 ...      2  24,990\n",
       "4  (Renewed) Dell Latitude Intel 2nd Gen Core i5 ...      1  26,999\n",
       "5  HP 14 11th Gen Intel Core i5 Processor 14 inch...    666  56,490\n",
       "6  ASUS TUF Gaming F15, 15.6-inch (39.62 cms) FHD...  1,316  63,990\n",
       "7  (Renewed) Dell Latitude 14-inch (35.56 cm) HD ...      8  27,990\n",
       "8  HP Pavilion (2021) Intel 11th Gen Core i5 14 i...  1,277  66,990\n",
       "9  Lenovo IdeaPad Slim 3 10th Gen Intel Core i5 1...    238  53,990"
      ]
     },
     "execution_count": 16,
     "metadata": {},
     "output_type": "execute_result"
    }
   ],
   "source": [
    "import pandas as pd\n",
    "laptop=pd.DataFrame({})\n",
    "laptop['Title']=product_title[0:10]\n",
    "laptop['Rating']=star_rating[0:10]\n",
    "laptop['Price']=product_price[0:10]\n",
    "laptop"
   ]
  },
  {
   "cell_type": "markdown",
   "id": "958be273",
   "metadata": {},
   "source": [
    "# Q9. ambition box assssignment"
   ]
  },
  {
   "cell_type": "code",
   "execution_count": 18,
   "id": "43e38b0a",
   "metadata": {},
   "outputs": [],
   "source": [
    "import selenium\n",
    "import pandas as pd \n",
    "from selenium import webdriver"
   ]
  },
  {
   "cell_type": "code",
   "execution_count": 26,
   "id": "16d449a1",
   "metadata": {},
   "outputs": [
    {
     "name": "stderr",
     "output_type": "stream",
     "text": [
      "<ipython-input-26-e87eaf9bc581>:1: DeprecationWarning: executable_path has been deprecated, please pass in a Service object\n",
      "  driver= webdriver.Chrome(r\"C:\\Users\\Dell\\Downloads\\chromedriver_win32/chromedriver.exe\")\n"
     ]
    }
   ],
   "source": [
    "driver= webdriver.Chrome(r\"C:\\Users\\Dell\\Downloads\\chromedriver_win32/chromedriver.exe\")"
   ]
  },
  {
   "cell_type": "code",
   "execution_count": 28,
   "id": "524ad6e2",
   "metadata": {},
   "outputs": [],
   "source": [
    "driver.get(\"https://www.ambitionbox.com/jobs/search?designation=data-scientist&location=Noida\")"
   ]
  },
  {
   "cell_type": "code",
   "execution_count": 29,
   "id": "a47aa1cd",
   "metadata": {},
   "outputs": [],
   "source": [
    "company_name=[]\n",
    "days_ago=[]\n",
    "company_rating=[]\n"
   ]
  },
  {
   "cell_type": "code",
   "execution_count": 30,
   "id": "f0bc6cc2",
   "metadata": {},
   "outputs": [
    {
     "name": "stderr",
     "output_type": "stream",
     "text": [
      "<ipython-input-30-c829b824f4b0>:1: DeprecationWarning: find_elements_by_* commands are deprecated. Please use find_elements() instead\n",
      "  company=driver.find_elements_by_xpath(\"//p[@class='company body-medium']\")\n"
     ]
    },
    {
     "data": {
      "text/plain": [
       "['Optum Global Solutions (India) Private Limited',\n",
       " 'Steria India Ltd',\n",
       " 'Ameriprise Financial',\n",
       " 'Jubilant Foodworks Limited',\n",
       " 'Optum Global Solutions (India) Private Limited',\n",
       " 'Steria India Ltd',\n",
       " 'Steria India Ltd',\n",
       " 'Zyoin',\n",
       " 'GI Group',\n",
       " 'GI Group']"
      ]
     },
     "execution_count": 30,
     "metadata": {},
     "output_type": "execute_result"
    }
   ],
   "source": [
    "company=driver.find_elements_by_xpath(\"//p[@class='company body-medium']\")\n",
    "company_name=[]\n",
    "for i in company[0:10]:\n",
    "    company_name.append(i.text)\n",
    "    \n",
    "    \n",
    "company_name"
   ]
  },
  {
   "cell_type": "code",
   "execution_count": 32,
   "id": "8e2de7b9",
   "metadata": {},
   "outputs": [
    {
     "name": "stderr",
     "output_type": "stream",
     "text": [
      "<ipython-input-32-ce97dd16babb>:1: DeprecationWarning: find_elements_by_* commands are deprecated. Please use find_elements() instead\n",
      "  rating=driver.find_elements_by_xpath(\"//span[@class='body-small']\")\n"
     ]
    },
    {
     "data": {
      "text/plain": [
       "['4.1', '4.1', '4.1', '3.9', '4.1', '4.1', '4.1', '4.2', '3.9', '3.9']"
      ]
     },
     "execution_count": 32,
     "metadata": {},
     "output_type": "execute_result"
    }
   ],
   "source": [
    "rating=driver.find_elements_by_xpath(\"//span[@class='body-small']\")\n",
    "star_rating=[]\n",
    "for i in rating[0:10]:\n",
    "    star_rating.append(i.text)\n",
    "    \n",
    "\n",
    "star_rating"
   ]
  },
  {
   "cell_type": "code",
   "execution_count": 35,
   "id": "29d6b9e4",
   "metadata": {},
   "outputs": [
    {
     "name": "stderr",
     "output_type": "stream",
     "text": [
      "<ipython-input-35-be1c89a8b1ba>:1: DeprecationWarning: find_elements_by_* commands are deprecated. Please use find_elements() instead\n",
      "  days=driver.find_elements_by_xpath(\"//span[@class='body-small-l']\")\n"
     ]
    },
    {
     "data": {
      "text/plain": [
       "['8d ago',\n",
       " 'via naukri.com',\n",
       " '23hr ago',\n",
       " 'via naukri.com',\n",
       " '3d ago',\n",
       " 'via naukri.com',\n",
       " '8hr ago',\n",
       " 'via hirist.com',\n",
       " '29d ago',\n",
       " 'via naukri.com']"
      ]
     },
     "execution_count": 35,
     "metadata": {},
     "output_type": "execute_result"
    }
   ],
   "source": [
    "days=driver.find_elements_by_xpath(\"//span[@class='body-small-l']\")\n",
    "days_ago=[]\n",
    "for i in days[0:10]:\n",
    "    days_ago.append(i.text)\n",
    "\n",
    "    \n",
    "days_ago"
   ]
  },
  {
   "cell_type": "code",
   "execution_count": 36,
   "id": "5fa9bdda",
   "metadata": {},
   "outputs": [
    {
     "name": "stdout",
     "output_type": "stream",
     "text": [
      "10 10 10\n"
     ]
    }
   ],
   "source": [
    "print(len(company_name),len(days_ago),len(days_ago))"
   ]
  },
  {
   "cell_type": "code",
   "execution_count": 37,
   "id": "044966d1",
   "metadata": {},
   "outputs": [
    {
     "data": {
      "text/html": [
       "<div>\n",
       "<style scoped>\n",
       "    .dataframe tbody tr th:only-of-type {\n",
       "        vertical-align: middle;\n",
       "    }\n",
       "\n",
       "    .dataframe tbody tr th {\n",
       "        vertical-align: top;\n",
       "    }\n",
       "\n",
       "    .dataframe thead th {\n",
       "        text-align: right;\n",
       "    }\n",
       "</style>\n",
       "<table border=\"1\" class=\"dataframe\">\n",
       "  <thead>\n",
       "    <tr style=\"text-align: right;\">\n",
       "      <th></th>\n",
       "      <th>Company</th>\n",
       "      <th>Rating</th>\n",
       "      <th>Days</th>\n",
       "    </tr>\n",
       "  </thead>\n",
       "  <tbody>\n",
       "    <tr>\n",
       "      <th>0</th>\n",
       "      <td>Optum Global Solutions (India) Private Limited</td>\n",
       "      <td>4.1</td>\n",
       "      <td>8d ago</td>\n",
       "    </tr>\n",
       "    <tr>\n",
       "      <th>1</th>\n",
       "      <td>Steria India Ltd</td>\n",
       "      <td>4.1</td>\n",
       "      <td>via naukri.com</td>\n",
       "    </tr>\n",
       "    <tr>\n",
       "      <th>2</th>\n",
       "      <td>Ameriprise Financial</td>\n",
       "      <td>4.1</td>\n",
       "      <td>23hr ago</td>\n",
       "    </tr>\n",
       "    <tr>\n",
       "      <th>3</th>\n",
       "      <td>Jubilant Foodworks Limited</td>\n",
       "      <td>3.9</td>\n",
       "      <td>via naukri.com</td>\n",
       "    </tr>\n",
       "    <tr>\n",
       "      <th>4</th>\n",
       "      <td>Optum Global Solutions (India) Private Limited</td>\n",
       "      <td>4.1</td>\n",
       "      <td>3d ago</td>\n",
       "    </tr>\n",
       "    <tr>\n",
       "      <th>5</th>\n",
       "      <td>Steria India Ltd</td>\n",
       "      <td>4.1</td>\n",
       "      <td>via naukri.com</td>\n",
       "    </tr>\n",
       "    <tr>\n",
       "      <th>6</th>\n",
       "      <td>Steria India Ltd</td>\n",
       "      <td>4.1</td>\n",
       "      <td>8hr ago</td>\n",
       "    </tr>\n",
       "    <tr>\n",
       "      <th>7</th>\n",
       "      <td>Zyoin</td>\n",
       "      <td>4.2</td>\n",
       "      <td>via hirist.com</td>\n",
       "    </tr>\n",
       "    <tr>\n",
       "      <th>8</th>\n",
       "      <td>GI Group</td>\n",
       "      <td>3.9</td>\n",
       "      <td>29d ago</td>\n",
       "    </tr>\n",
       "    <tr>\n",
       "      <th>9</th>\n",
       "      <td>GI Group</td>\n",
       "      <td>3.9</td>\n",
       "      <td>via naukri.com</td>\n",
       "    </tr>\n",
       "  </tbody>\n",
       "</table>\n",
       "</div>"
      ],
      "text/plain": [
       "                                          Company Rating            Days\n",
       "0  Optum Global Solutions (India) Private Limited    4.1          8d ago\n",
       "1                                Steria India Ltd    4.1  via naukri.com\n",
       "2                            Ameriprise Financial    4.1        23hr ago\n",
       "3                      Jubilant Foodworks Limited    3.9  via naukri.com\n",
       "4  Optum Global Solutions (India) Private Limited    4.1          3d ago\n",
       "5                                Steria India Ltd    4.1  via naukri.com\n",
       "6                                Steria India Ltd    4.1         8hr ago\n",
       "7                                           Zyoin    4.2  via hirist.com\n",
       "8                                        GI Group    3.9         29d ago\n",
       "9                                        GI Group    3.9  via naukri.com"
      ]
     },
     "execution_count": 37,
     "metadata": {},
     "output_type": "execute_result"
    }
   ],
   "source": [
    "import pandas as pd\n",
    "jobs=pd.DataFrame({})\n",
    "jobs['Company']=company_name[0:10]\n",
    "jobs['Rating']=star_rating[0:10]\n",
    "jobs['Days']=days_ago[0:10]\n",
    "jobs"
   ]
  },
  {
   "cell_type": "markdown",
   "id": "98d8ec26",
   "metadata": {},
   "source": [
    "# Q.10 ambition box/salary"
   ]
  },
  {
   "cell_type": "code",
   "execution_count": 21,
   "id": "578218c7",
   "metadata": {},
   "outputs": [],
   "source": [
    "import selenium\n",
    "import pandas as pd \n",
    "from selenium import webdriver"
   ]
  },
  {
   "cell_type": "code",
   "execution_count": 22,
   "id": "58c66618",
   "metadata": {},
   "outputs": [
    {
     "name": "stderr",
     "output_type": "stream",
     "text": [
      "<ipython-input-22-e87eaf9bc581>:1: DeprecationWarning: executable_path has been deprecated, please pass in a Service object\n",
      "  driver= webdriver.Chrome(r\"C:\\Users\\Dell\\Downloads\\chromedriver_win32/chromedriver.exe\")\n"
     ]
    }
   ],
   "source": [
    "driver= webdriver.Chrome(r\"C:\\Users\\Dell\\Downloads\\chromedriver_win32/chromedriver.exe\")"
   ]
  },
  {
   "cell_type": "code",
   "execution_count": 23,
   "id": "4390461c",
   "metadata": {},
   "outputs": [],
   "source": [
    "driver.get(\"https://www.ambitionbox.com/salaries\")"
   ]
  },
  {
   "cell_type": "code",
   "execution_count": 24,
   "id": "4406fe7f",
   "metadata": {},
   "outputs": [],
   "source": [
    "company_name=[]\n",
    "salary_record=[]\n",
    "average_salary=[]\n",
    "min_salary=[]\n",
    "max_salary=[]\n",
    "experience_required=[]\n"
   ]
  },
  {
   "cell_type": "code",
   "execution_count": 41,
   "id": "4c18076f",
   "metadata": {},
   "outputs": [
    {
     "name": "stderr",
     "output_type": "stream",
     "text": [
      "<ipython-input-41-49372ad308c9>:1: DeprecationWarning: find_elements_by_* commands are deprecated. Please use find_elements() instead\n",
      "  company=driver.find_elements_by_xpath(\"//div[@class='name']\")\n"
     ]
    },
    {
     "data": {
      "text/plain": [
       "['Microsoft Corporation',\n",
       " 'Goldman Sachs',\n",
       " 'Flipkart',\n",
       " 'Amazon',\n",
       " 'Servicenow Software Development India',\n",
       " 'ServiceNow',\n",
       " 'Walmart',\n",
       " 'Arcesium',\n",
       " 'PayPal',\n",
       " 'Visa']"
      ]
     },
     "execution_count": 41,
     "metadata": {},
     "output_type": "execute_result"
    }
   ],
   "source": [
    "company=driver.find_elements_by_xpath(\"//div[@class='name']\")\n",
    "company_name=[]\n",
    "for i in company[0:10]:\n",
    "    company_name.append(i.text.split(\"\\n\")[0])\n",
    "    \n",
    "    \n",
    "company_name"
   ]
  },
  {
   "cell_type": "code",
   "execution_count": 26,
   "id": "8951840f",
   "metadata": {},
   "outputs": [
    {
     "name": "stderr",
     "output_type": "stream",
     "text": [
      "<ipython-input-26-42c42b570fab>:1: DeprecationWarning: find_elements_by_* commands are deprecated. Please use find_elements() instead\n",
      "  average=driver.find_elements_by_xpath(\"//p[@class='averageCtc']\")\n"
     ]
    },
    {
     "data": {
      "text/plain": [
       "['₹ 22.4L',\n",
       " '₹ 21.2L',\n",
       " '₹ 20.8L',\n",
       " '₹ 19.2L',\n",
       " '₹ 18.2L',\n",
       " '₹ 18.0L',\n",
       " '₹ 17.9L',\n",
       " '₹ 17.7L',\n",
       " '₹ 17.6L',\n",
       " '₹ 17.1L']"
      ]
     },
     "execution_count": 26,
     "metadata": {},
     "output_type": "execute_result"
    }
   ],
   "source": [
    "average=driver.find_elements_by_xpath(\"//p[@class='averageCtc']\")\n",
    "average_salary=[]\n",
    "for i in average[0:10]:\n",
    "    average_salary.append(i.text)\n",
    "    \n",
    "    \n",
    "average_salary"
   ]
  },
  {
   "cell_type": "code",
   "execution_count": 27,
   "id": "c4e7ad40",
   "metadata": {},
   "outputs": [
    {
     "name": "stderr",
     "output_type": "stream",
     "text": [
      "<ipython-input-27-2962ee262fde>:1: DeprecationWarning: find_elements_by_* commands are deprecated. Please use find_elements() instead\n",
      "  minimum=driver.find_elements_by_xpath(\"//div[@class='value body-medium']\")\n"
     ]
    },
    {
     "data": {
      "text/plain": [
       "['₹ 12.0L',\n",
       " '₹ 45.0L',\n",
       " '₹ 16.0L',\n",
       " '₹ 30.0L',\n",
       " '₹ 7.0L',\n",
       " '₹ 30.0L',\n",
       " '₹ 8.0L',\n",
       " '₹ 40.0L',\n",
       " '₹ 13.0L',\n",
       " '₹ 25.0L']"
      ]
     },
     "execution_count": 27,
     "metadata": {},
     "output_type": "execute_result"
    }
   ],
   "source": [
    "minimum=driver.find_elements_by_xpath(\"//div[@class='value body-medium']\")\n",
    "min_salary=[]\n",
    "for i in minimum[0:10]:\n",
    "    min_salary.append(i.text)\n",
    "    \n",
    "    \n",
    "min_salary"
   ]
  },
  {
   "cell_type": "code",
   "execution_count": 28,
   "id": "10f3ada1",
   "metadata": {},
   "outputs": [
    {
     "name": "stderr",
     "output_type": "stream",
     "text": [
      "<ipython-input-28-2d33c337dc5a>:1: DeprecationWarning: find_elements_by_* commands are deprecated. Please use find_elements() instead\n",
      "  maximum=driver.find_elements_by_xpath(\"//div[@class='value body-medium']\")\n"
     ]
    },
    {
     "data": {
      "text/plain": [
       "['₹ 12.0L',\n",
       " '₹ 45.0L',\n",
       " '₹ 16.0L',\n",
       " '₹ 30.0L',\n",
       " '₹ 7.0L',\n",
       " '₹ 30.0L',\n",
       " '₹ 8.0L',\n",
       " '₹ 40.0L',\n",
       " '₹ 13.0L',\n",
       " '₹ 25.0L']"
      ]
     },
     "execution_count": 28,
     "metadata": {},
     "output_type": "execute_result"
    }
   ],
   "source": [
    "maximum=driver.find_elements_by_xpath(\"//div[@class='value body-medium']\")\n",
    "max_salary=[]\n",
    "for i in maximum[0:10]:\n",
    "    max_salary.append(i.text)\n",
    "    \n",
    "    \n",
    "max_salary"
   ]
  },
  {
   "cell_type": "code",
   "execution_count": 34,
   "id": "f31e1008",
   "metadata": {},
   "outputs": [
    {
     "name": "stderr",
     "output_type": "stream",
     "text": [
      "<ipython-input-34-5fe0058159ae>:1: DeprecationWarning: find_elements_by_* commands are deprecated. Please use find_elements() instead\n",
      "  experience=driver.find_elements_by_xpath(\"//div[@class='salaries sbold-list-header']\")\n"
     ]
    },
    {
     "data": {
      "text/plain": [
       "['1-4 yrs exp',\n",
       " '2 yrs exp',\n",
       " '1-4 yrs exp',\n",
       " '1-4 yrs exp',\n",
       " '2-3 yrs exp',\n",
       " '3 yrs exp',\n",
       " '1-4 yrs exp',\n",
       " '1-2 yrs exp',\n",
       " '1 yr exp',\n",
       " '1-2 yrs exp']"
      ]
     },
     "execution_count": 34,
     "metadata": {},
     "output_type": "execute_result"
    }
   ],
   "source": [
    "experience=driver.find_elements_by_xpath(\"//div[@class='salaries sbold-list-header']\")\n",
    "experience_required=[]\n",
    "for i in experience[0:10]:\n",
    "    experience_required.append(i.text.split(\"\\n\")[-1])\n",
    "    \n",
    "    \n",
    "experience_required"
   ]
  },
  {
   "cell_type": "code",
   "execution_count": 38,
   "id": "9994f6ff",
   "metadata": {},
   "outputs": [
    {
     "name": "stderr",
     "output_type": "stream",
     "text": [
      "<ipython-input-38-f9e5cae73e78>:1: DeprecationWarning: find_elements_by_* commands are deprecated. Please use find_elements() instead\n",
      "  record=driver.find_elements_by_xpath(\"//div[@class='name']\")\n"
     ]
    },
    {
     "data": {
      "text/plain": [
       "['based on 209 salaries',\n",
       " 'based on 10 salaries',\n",
       " 'based on 51 salaries',\n",
       " 'based on 75 salaries',\n",
       " 'based on 25 salaries',\n",
       " 'based on 15 salaries',\n",
       " 'based on 70 salaries',\n",
       " 'based on 54 salaries',\n",
       " 'based on 12 salaries',\n",
       " 'based on 26 salaries']"
      ]
     },
     "execution_count": 38,
     "metadata": {},
     "output_type": "execute_result"
    }
   ],
   "source": [
    "record=driver.find_elements_by_xpath(\"//div[@class='name']\")\n",
    "salary_record=[]\n",
    "for i in record[0:10]:\n",
    "    salary_record.append(i.text.split(\"\\n\")[-1])\n",
    "    \n",
    "    \n",
    "salary_record"
   ]
  },
  {
   "cell_type": "code",
   "execution_count": 39,
   "id": "cad1ee28",
   "metadata": {},
   "outputs": [
    {
     "name": "stdout",
     "output_type": "stream",
     "text": [
      "10 10 10 10 10 10\n"
     ]
    }
   ],
   "source": [
    "print(len(company_name),len(salary_record),len(average_salary),len(min_salary),len(max_salary),len(experience_required))\n"
   ]
  },
  {
   "cell_type": "code",
   "execution_count": 42,
   "id": "b46e4a6e",
   "metadata": {},
   "outputs": [
    {
     "data": {
      "text/html": [
       "<div>\n",
       "<style scoped>\n",
       "    .dataframe tbody tr th:only-of-type {\n",
       "        vertical-align: middle;\n",
       "    }\n",
       "\n",
       "    .dataframe tbody tr th {\n",
       "        vertical-align: top;\n",
       "    }\n",
       "\n",
       "    .dataframe thead th {\n",
       "        text-align: right;\n",
       "    }\n",
       "</style>\n",
       "<table border=\"1\" class=\"dataframe\">\n",
       "  <thead>\n",
       "    <tr style=\"text-align: right;\">\n",
       "      <th></th>\n",
       "      <th>Company</th>\n",
       "      <th>average</th>\n",
       "      <th>minimum</th>\n",
       "      <th>maximum</th>\n",
       "      <th>experience</th>\n",
       "      <th>record</th>\n",
       "    </tr>\n",
       "  </thead>\n",
       "  <tbody>\n",
       "    <tr>\n",
       "      <th>0</th>\n",
       "      <td>Microsoft Corporation</td>\n",
       "      <td>₹ 22.4L</td>\n",
       "      <td>₹ 12.0L</td>\n",
       "      <td>₹ 12.0L</td>\n",
       "      <td>1-4 yrs exp</td>\n",
       "      <td>based on 209 salaries</td>\n",
       "    </tr>\n",
       "    <tr>\n",
       "      <th>1</th>\n",
       "      <td>Goldman Sachs</td>\n",
       "      <td>₹ 21.2L</td>\n",
       "      <td>₹ 45.0L</td>\n",
       "      <td>₹ 45.0L</td>\n",
       "      <td>2 yrs exp</td>\n",
       "      <td>based on 10 salaries</td>\n",
       "    </tr>\n",
       "    <tr>\n",
       "      <th>2</th>\n",
       "      <td>Flipkart</td>\n",
       "      <td>₹ 20.8L</td>\n",
       "      <td>₹ 16.0L</td>\n",
       "      <td>₹ 16.0L</td>\n",
       "      <td>1-4 yrs exp</td>\n",
       "      <td>based on 51 salaries</td>\n",
       "    </tr>\n",
       "    <tr>\n",
       "      <th>3</th>\n",
       "      <td>Amazon</td>\n",
       "      <td>₹ 19.2L</td>\n",
       "      <td>₹ 30.0L</td>\n",
       "      <td>₹ 30.0L</td>\n",
       "      <td>1-4 yrs exp</td>\n",
       "      <td>based on 75 salaries</td>\n",
       "    </tr>\n",
       "    <tr>\n",
       "      <th>4</th>\n",
       "      <td>Servicenow Software Development India</td>\n",
       "      <td>₹ 18.2L</td>\n",
       "      <td>₹ 7.0L</td>\n",
       "      <td>₹ 7.0L</td>\n",
       "      <td>2-3 yrs exp</td>\n",
       "      <td>based on 25 salaries</td>\n",
       "    </tr>\n",
       "    <tr>\n",
       "      <th>5</th>\n",
       "      <td>ServiceNow</td>\n",
       "      <td>₹ 18.0L</td>\n",
       "      <td>₹ 30.0L</td>\n",
       "      <td>₹ 30.0L</td>\n",
       "      <td>3 yrs exp</td>\n",
       "      <td>based on 15 salaries</td>\n",
       "    </tr>\n",
       "    <tr>\n",
       "      <th>6</th>\n",
       "      <td>Walmart</td>\n",
       "      <td>₹ 17.9L</td>\n",
       "      <td>₹ 8.0L</td>\n",
       "      <td>₹ 8.0L</td>\n",
       "      <td>1-4 yrs exp</td>\n",
       "      <td>based on 70 salaries</td>\n",
       "    </tr>\n",
       "    <tr>\n",
       "      <th>7</th>\n",
       "      <td>Arcesium</td>\n",
       "      <td>₹ 17.7L</td>\n",
       "      <td>₹ 40.0L</td>\n",
       "      <td>₹ 40.0L</td>\n",
       "      <td>1-2 yrs exp</td>\n",
       "      <td>based on 54 salaries</td>\n",
       "    </tr>\n",
       "    <tr>\n",
       "      <th>8</th>\n",
       "      <td>PayPal</td>\n",
       "      <td>₹ 17.6L</td>\n",
       "      <td>₹ 13.0L</td>\n",
       "      <td>₹ 13.0L</td>\n",
       "      <td>1 yr exp</td>\n",
       "      <td>based on 12 salaries</td>\n",
       "    </tr>\n",
       "    <tr>\n",
       "      <th>9</th>\n",
       "      <td>Visa</td>\n",
       "      <td>₹ 17.1L</td>\n",
       "      <td>₹ 25.0L</td>\n",
       "      <td>₹ 25.0L</td>\n",
       "      <td>1-2 yrs exp</td>\n",
       "      <td>based on 26 salaries</td>\n",
       "    </tr>\n",
       "  </tbody>\n",
       "</table>\n",
       "</div>"
      ],
      "text/plain": [
       "                                 Company  average  minimum  maximum  \\\n",
       "0                  Microsoft Corporation  ₹ 22.4L  ₹ 12.0L  ₹ 12.0L   \n",
       "1                          Goldman Sachs  ₹ 21.2L  ₹ 45.0L  ₹ 45.0L   \n",
       "2                               Flipkart  ₹ 20.8L  ₹ 16.0L  ₹ 16.0L   \n",
       "3                                 Amazon  ₹ 19.2L  ₹ 30.0L  ₹ 30.0L   \n",
       "4  Servicenow Software Development India  ₹ 18.2L   ₹ 7.0L   ₹ 7.0L   \n",
       "5                             ServiceNow  ₹ 18.0L  ₹ 30.0L  ₹ 30.0L   \n",
       "6                                Walmart  ₹ 17.9L   ₹ 8.0L   ₹ 8.0L   \n",
       "7                               Arcesium  ₹ 17.7L  ₹ 40.0L  ₹ 40.0L   \n",
       "8                                 PayPal  ₹ 17.6L  ₹ 13.0L  ₹ 13.0L   \n",
       "9                                   Visa  ₹ 17.1L  ₹ 25.0L  ₹ 25.0L   \n",
       "\n",
       "    experience                 record  \n",
       "0  1-4 yrs exp  based on 209 salaries  \n",
       "1    2 yrs exp   based on 10 salaries  \n",
       "2  1-4 yrs exp   based on 51 salaries  \n",
       "3  1-4 yrs exp   based on 75 salaries  \n",
       "4  2-3 yrs exp   based on 25 salaries  \n",
       "5    3 yrs exp   based on 15 salaries  \n",
       "6  1-4 yrs exp   based on 70 salaries  \n",
       "7  1-2 yrs exp   based on 54 salaries  \n",
       "8     1 yr exp   based on 12 salaries  \n",
       "9  1-2 yrs exp   based on 26 salaries  "
      ]
     },
     "execution_count": 42,
     "metadata": {},
     "output_type": "execute_result"
    }
   ],
   "source": [
    "import pandas as pd\n",
    "jobs=pd.DataFrame({})\n",
    "jobs['Company']=company_name[0:10]\n",
    "jobs['average']=average_salary[0:10]\n",
    "jobs['minimum']=min_salary[0:10]\n",
    "jobs['maximum']=max_salary[0:10]\n",
    "jobs['experience']=experience_required[0:10]\n",
    "jobs['record']=salary_record[0:10]\n",
    "jobs"
   ]
  },
  {
   "cell_type": "code",
   "execution_count": null,
   "id": "87a6f1bf",
   "metadata": {},
   "outputs": [],
   "source": []
  }
 ],
 "metadata": {
  "kernelspec": {
   "display_name": "Python 3",
   "language": "python",
   "name": "python3"
  },
  "language_info": {
   "codemirror_mode": {
    "name": "ipython",
    "version": 3
   },
   "file_extension": ".py",
   "mimetype": "text/x-python",
   "name": "python",
   "nbconvert_exporter": "python",
   "pygments_lexer": "ipython3",
   "version": "3.8.8"
  }
 },
 "nbformat": 4,
 "nbformat_minor": 5
}
